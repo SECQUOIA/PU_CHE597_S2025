{
 "cells": [
  {
   "cell_type": "markdown",
   "metadata": {},
   "source": [
    "<a name=\"top\" id=\"top\"></a>\n",
    "\n",
    "<div align=\"center\">\n",
    "    <h1>CHE597 - Pandas Overview</h1>\n",
    "    <a href=\"https://github.com/bernalde\">David E. Bernal Neira</a>\n",
    "    <br>\n",
    "    <i>Davidson School of Chemical Engineering, Purdue University</i>\n",
    "    <br>\n",
    "    <a href=\"https://colab.research.google.com/github/SECQUOIA/PU_CHE597_S2025/blob/main/4-Pandas_Overview/Pandas.ipynb\" target=\"_parent\">\n",
    "        <img src=\"https://colab.research.google.com/assets/colab-badge.svg\" alt=\"Open In Colab\"/>\n",
    "    </a>\n",
    "    <a href=\"https://secquoia.github.io/\">\n",
    "        <img src=\"https://img.shields.io/badge/🌲⚛️🌐-SECQUOIA-blue\" alt=\"SECQUOIA\"/>\n",
    "    </a>\n",
    "</div>"
   ]
  },
  {
   "cell_type": "markdown",
   "metadata": {
    "colab_type": "text",
    "id": "Im4SD2x5RfIe",
    "toc": true
   },
   "source": [
    "<h1>Table of Contents<span class=\"tocSkip\"></span></h1>\n",
    "<div class=\"toc\"><ul class=\"toc-item\"><li><span><a href=\"#Pandas-Series\" data-toc-modified-id=\"Pandas-Series-1\"><span class=\"toc-item-num\">1&nbsp;&nbsp;</span>Pandas Series</a></span><ul class=\"toc-item\"><li><span><a href=\"#Initializing-Series\" data-toc-modified-id=\"Initializing-Series-1.1\"><span class=\"toc-item-num\">1.1&nbsp;&nbsp;</span>Initializing Series</a></span></li><li><span><a href=\"#Series-Up-casting-Behavior\" data-toc-modified-id=\"Series-Up-casting-Behavior-1.2\"><span class=\"toc-item-num\">1.2&nbsp;&nbsp;</span>Series Up-casting Behavior</a></span></li><li><span><a href=\"#Series-Index\" data-toc-modified-id=\"Series-Index-1.3\"><span class=\"toc-item-num\">1.3&nbsp;&nbsp;</span>Series Index</a></span></li><li><span><a href=\"#Series-Slicing\" data-toc-modified-id=\"Series-Slicing-1.4\"><span class=\"toc-item-num\">1.4&nbsp;&nbsp;</span>Series Slicing</a></span></li><li><span><a href=\"#Series-Operator-Behavior\" data-toc-modified-id=\"Series-Operator-Behavior-1.5\"><span class=\"toc-item-num\">1.5&nbsp;&nbsp;</span>Series Operator Behavior</a></span></li><li><span><a href=\"#Adding-and-Dropping-Elements\" data-toc-modified-id=\"Adding-and-Dropping-Elements-1.6\"><span class=\"toc-item-num\">1.6&nbsp;&nbsp;</span>Adding and Dropping Elements</a></span></li><li><span><a href=\"#Series-Methods\" data-toc-modified-id=\"Series-Methods-1.7\"><span class=\"toc-item-num\">1.7&nbsp;&nbsp;</span>Series Methods</a></span></li></ul></li><li><span><a href=\"#Pandas-Dataframes\" data-toc-modified-id=\"Pandas-Dataframes-2\"><span class=\"toc-item-num\">2&nbsp;&nbsp;</span>Pandas Dataframes</a></span><ul class=\"toc-item\"><li><span><a href=\"#Initializing-Dataframes\" data-toc-modified-id=\"Initializing-Dataframes-2.1\"><span class=\"toc-item-num\">2.1&nbsp;&nbsp;</span>Initializing Dataframes</a></span></li><li><span><a href=\"#Dataframe-Up-casting-Behavior\" data-toc-modified-id=\"Dataframe-Up-casting-Behavior-2.2\"><span class=\"toc-item-num\">2.2&nbsp;&nbsp;</span>Dataframe Up-casting Behavior</a></span></li><li><span><a href=\"#Dataframe-Slicing\" data-toc-modified-id=\"Dataframe-Slicing-2.3\"><span class=\"toc-item-num\">2.3&nbsp;&nbsp;</span>Dataframe Slicing</a></span></li><li><span><a href=\"#Dataframe-Operator-Behavior\" data-toc-modified-id=\"Dataframe-Operator-Behavior-2.4\"><span class=\"toc-item-num\">2.4&nbsp;&nbsp;</span>Dataframe Operator Behavior</a></span></li><li><span><a href=\"#Adding-and-Dropping-Elements\" data-toc-modified-id=\"Adding-and-Dropping-Elements-2.5\"><span class=\"toc-item-num\">2.5&nbsp;&nbsp;</span>Adding and Dropping Elements</a></span></li><li><span><a href=\"#Dataframe-Methods\" data-toc-modified-id=\"Dataframe-Methods-2.6\"><span class=\"toc-item-num\">2.6&nbsp;&nbsp;</span>Dataframe Methods</a></span><ul class=\"toc-item\"><li><span><a href=\"#Filter-Methods\" data-toc-modified-id=\"Filter-Methods-2.6.1\"><span class=\"toc-item-num\">2.6.1&nbsp;&nbsp;</span>Filter Methods</a></span></li><li><span><a href=\"#Sorting-Methods\" data-toc-modified-id=\"Sorting-Methods-2.6.2\"><span class=\"toc-item-num\">2.6.2&nbsp;&nbsp;</span>Sorting Methods</a></span></li><li><span><a href=\"#Missing-Values\" data-toc-modified-id=\"Missing-Values-2.6.3\"><span class=\"toc-item-num\">2.6.3&nbsp;&nbsp;</span>Missing Values</a></span></li></ul></li></ul></li><li><span><a href=\"#Summary-of-Series-Methods\" data-toc-modified-id=\"Summary-of-Series-Methods-3\"><span class=\"toc-item-num\">3&nbsp;&nbsp;</span>Summary of Series Methods</a></span><ul class=\"toc-item\"><li><span><a href=\"#Series.abs()\" data-toc-modified-id=\"Series.abs()-3.1\"><span class=\"toc-item-num\">3.1&nbsp;&nbsp;</span>Series.abs()</a></span></li><li><span><a href=\"#Series.add()\" data-toc-modified-id=\"Series.add()-3.2\"><span class=\"toc-item-num\">3.2&nbsp;&nbsp;</span>Series.add()</a></span></li><li><span><a href=\"#Series.add_prefix()\" data-toc-modified-id=\"Series.add_prefix()-3.3\"><span class=\"toc-item-num\">3.3&nbsp;&nbsp;</span>Series.add_prefix()</a></span></li><li><span><a href=\"#Series.add_suffix()\" data-toc-modified-id=\"Series.add_suffix()-3.4\"><span class=\"toc-item-num\">3.4&nbsp;&nbsp;</span>Series.add_suffix()</a></span></li><li><span><a href=\"#Series.agg()\" data-toc-modified-id=\"Series.agg()-3.5\"><span class=\"toc-item-num\">3.5&nbsp;&nbsp;</span>Series.agg()</a></span></li><li><span><a href=\"#Series.align()\" data-toc-modified-id=\"Series.align()-3.6\"><span class=\"toc-item-num\">3.6&nbsp;&nbsp;</span>Series.align()</a></span></li><li><span><a href=\"#Series.all()\" data-toc-modified-id=\"Series.all()-3.7\"><span class=\"toc-item-num\">3.7&nbsp;&nbsp;</span>Series.all()</a></span></li><li><span><a href=\"#Series.any()\" data-toc-modified-id=\"Series.any()-3.8\"><span class=\"toc-item-num\">3.8&nbsp;&nbsp;</span>Series.any()</a></span></li><li><span><a href=\"#concat()\" data-toc-modified-id=\"concat()-3.9\"><span class=\"toc-item-num\">3.9&nbsp;&nbsp;</span>concat()</a></span></li><li><span><a href=\"#Series.apply()\" data-toc-modified-id=\"Series.apply()-3.10\"><span class=\"toc-item-num\">3.10&nbsp;&nbsp;</span>Series.apply()</a></span></li><li><span><a href=\"#Series.argsort()\" data-toc-modified-id=\"Series.argsort()-3.11\"><span class=\"toc-item-num\">3.11&nbsp;&nbsp;</span>Series.argsort()</a></span></li><li><span><a href=\"#Series.asfreq()\" data-toc-modified-id=\"Series.asfreq()-3.12\"><span class=\"toc-item-num\">3.12&nbsp;&nbsp;</span>Series.asfreq()</a></span></li><li><span><a href=\"#Series.asof()\" data-toc-modified-id=\"Series.asof()-3.13\"><span class=\"toc-item-num\">3.13&nbsp;&nbsp;</span>Series.asof()</a></span></li><li><span><a href=\"#Series.astype()\" data-toc-modified-id=\"Series.astype()-3.14\"><span class=\"toc-item-num\">3.14&nbsp;&nbsp;</span>Series.astype()</a></span></li><li><span><a href=\"#Series.at_time()\" data-toc-modified-id=\"Series.at_time()-3.15\"><span class=\"toc-item-num\">3.15&nbsp;&nbsp;</span>Series.at_time()</a></span></li><li><span><a href=\"#Series.autocorr()\" data-toc-modified-id=\"Series.autocorr()-3.16\"><span class=\"toc-item-num\">3.16&nbsp;&nbsp;</span>Series.autocorr()</a></span></li><li><span><a href=\"#Series.between()\" data-toc-modified-id=\"Series.between()-3.17\"><span class=\"toc-item-num\">3.17&nbsp;&nbsp;</span>Series.between()</a></span></li><li><span><a href=\"#Series.between_time()\" data-toc-modified-id=\"Series.between_time()-3.18\"><span class=\"toc-item-num\">3.18&nbsp;&nbsp;</span>Series.between_time()</a></span></li><li><span><a href=\"#Series.fillna()\" data-toc-modified-id=\"Series.fillna()-3.19\"><span class=\"toc-item-num\">3.19&nbsp;&nbsp;</span>Series.fillna()</a></span></li><li><span><a href=\"#Series.clip()\" data-toc-modified-id=\"Series.clip()-3.20\"><span class=\"toc-item-num\">3.20&nbsp;&nbsp;</span>Series.clip()</a></span></li><li><span><a href=\"#Series.combine()\" data-toc-modified-id=\"Series.combine()-3.21\"><span class=\"toc-item-num\">3.21&nbsp;&nbsp;</span>Series.combine()</a></span></li><li><span><a href=\"#Series.combine_first()\" data-toc-modified-id=\"Series.combine_first()-3.22\"><span class=\"toc-item-num\">3.22&nbsp;&nbsp;</span>Series.combine_first()</a></span></li><li><span><a href=\"#Series.copy()\" data-toc-modified-id=\"Series.copy()-3.23\"><span class=\"toc-item-num\">3.23&nbsp;&nbsp;</span>Series.copy()</a></span></li><li><span><a href=\"#Series.corr()\" data-toc-modified-id=\"Series.corr()-3.24\"><span class=\"toc-item-num\">3.24&nbsp;&nbsp;</span>Series.corr()</a></span></li><li><span><a href=\"#Series.cov()\" data-toc-modified-id=\"Series.cov()-3.25\"><span class=\"toc-item-num\">3.25&nbsp;&nbsp;</span>Series.cov()</a></span></li><li><span><a href=\"#Series.cummax()\" data-toc-modified-id=\"Series.cummax()-3.26\"><span class=\"toc-item-num\">3.26&nbsp;&nbsp;</span>Series.cummax()</a></span></li><li><span><a href=\"#Series.cummin()\" data-toc-modified-id=\"Series.cummin()-3.27\"><span class=\"toc-item-num\">3.27&nbsp;&nbsp;</span>Series.cummin()</a></span></li><li><span><a href=\"#Series.cumprod()\" data-toc-modified-id=\"Series.cumprod()-3.28\"><span class=\"toc-item-num\">3.28&nbsp;&nbsp;</span>Series.cumprod()</a></span></li><li><span><a href=\"#Series.cumsum()\" data-toc-modified-id=\"Series.cumsum()-3.29\"><span class=\"toc-item-num\">3.29&nbsp;&nbsp;</span>Series.cumsum()</a></span></li><li><span><a href=\"#Series.describe()\" data-toc-modified-id=\"Series.describe()-3.30\"><span class=\"toc-item-num\">3.30&nbsp;&nbsp;</span>Series.describe()</a></span></li><li><span><a href=\"#Series.diff()\" data-toc-modified-id=\"Series.diff()-3.31\"><span class=\"toc-item-num\">3.31&nbsp;&nbsp;</span>Series.diff()</a></span></li><li><span><a href=\"#Series.dot()\" data-toc-modified-id=\"Series.dot()-3.32\"><span class=\"toc-item-num\">3.32&nbsp;&nbsp;</span>Series.dot()</a></span></li><li><span><a href=\"#Series.drop()\" data-toc-modified-id=\"Series.drop()-3.33\"><span class=\"toc-item-num\">3.33&nbsp;&nbsp;</span>Series.drop()</a></span></li><li><span><a href=\"#Series.drop_duplicates()\" data-toc-modified-id=\"Series.drop_duplicates()-3.34\"><span class=\"toc-item-num\">3.34&nbsp;&nbsp;</span>Series.drop_duplicates()</a></span></li><li><span><a href=\"#Series.dropna()\" data-toc-modified-id=\"Series.dropna()-3.35\"><span class=\"toc-item-num\">3.35&nbsp;&nbsp;</span>Series.dropna()</a></span></li><li><span><a href=\"#Series.duplicated()\" data-toc-modified-id=\"Series.duplicated()-3.36\"><span class=\"toc-item-num\">3.36&nbsp;&nbsp;</span>Series.duplicated()</a></span></li><li><span><a href=\"#Series.explode()\" data-toc-modified-id=\"Series.explode()-3.37\"><span class=\"toc-item-num\">3.37&nbsp;&nbsp;</span>Series.explode()</a></span></li><li><span><a href=\"#Series.fillna()\" data-toc-modified-id=\"Series.fillna()-3.38\"><span class=\"toc-item-num\">3.38&nbsp;&nbsp;</span>Series.fillna()</a></span></li><li><span><a href=\"#Series.filter()\" data-toc-modified-id=\"Series.filter()-3.39\"><span class=\"toc-item-num\">3.39&nbsp;&nbsp;</span>Series.filter()</a></span></li><li><span><a href=\"#Series.groupby()\" data-toc-modified-id=\"Series.groupby()-3.40\"><span class=\"toc-item-num\">3.40&nbsp;&nbsp;</span>Series.groupby()</a></span></li><li><span><a href=\"#Series.idxmax()\" data-toc-modified-id=\"Series.idxmax()-3.41\"><span class=\"toc-item-num\">3.41&nbsp;&nbsp;</span>Series.idxmax()</a></span></li><li><span><a href=\"#Series.idxmin()\" data-toc-modified-id=\"Series.idxmin()-3.42\"><span class=\"toc-item-num\">3.42&nbsp;&nbsp;</span>Series.idxmin()</a></span></li><li><span><a href=\"#Series.interpolate()\" data-toc-modified-id=\"Series.interpolate()-3.43\"><span class=\"toc-item-num\">3.43&nbsp;&nbsp;</span>Series.interpolate()</a></span></li><li><span><a href=\"#Series.items()\" data-toc-modified-id=\"Series.items()-3.44\"><span class=\"toc-item-num\">3.44&nbsp;&nbsp;</span>Series.items()</a></span></li><li><span><a href=\"#Series.kurtosis()\" data-toc-modified-id=\"Series.kurtosis()-3.45\"><span class=\"toc-item-num\">3.45&nbsp;&nbsp;</span>Series.kurtosis()</a></span></li><li><span><a href=\"#Series.mad()\" data-toc-modified-id=\"Series.mad()-3.46\"><span class=\"toc-item-num\">3.46&nbsp;&nbsp;</span>Series.mad()</a></span></li><li><span><a href=\"#Series.map()\" data-toc-modified-id=\"Series.map()-3.47\"><span class=\"toc-item-num\">3.47&nbsp;&nbsp;</span>Series.map()</a></span></li><li><span><a href=\"#Series.mask()\" data-toc-modified-id=\"Series.mask()-3.48\"><span class=\"toc-item-num\">3.48&nbsp;&nbsp;</span>Series.mask()</a></span></li><li><span><a href=\"#Series.max()\" data-toc-modified-id=\"Series.max()-3.49\"><span class=\"toc-item-num\">3.49&nbsp;&nbsp;</span>Series.max()</a></span></li><li><span><a href=\"#Series.mean()\" data-toc-modified-id=\"Series.mean()-3.50\"><span class=\"toc-item-num\">3.50&nbsp;&nbsp;</span>Series.mean()</a></span></li><li><span><a href=\"#Series.median()\" data-toc-modified-id=\"Series.median()-3.51\"><span class=\"toc-item-num\">3.51&nbsp;&nbsp;</span>Series.median()</a></span></li><li><span><a href=\"#Series.min()\" data-toc-modified-id=\"Series.min()-3.52\"><span class=\"toc-item-num\">3.52&nbsp;&nbsp;</span>Series.min()</a></span></li><li><span><a href=\"#Series.mode()\" data-toc-modified-id=\"Series.mode()-3.53\"><span class=\"toc-item-num\">3.53&nbsp;&nbsp;</span>Series.mode()</a></span></li><li><span><a href=\"#Series.nlargest()\" data-toc-modified-id=\"Series.nlargest()-3.54\"><span class=\"toc-item-num\">3.54&nbsp;&nbsp;</span>Series.nlargest()</a></span></li><li><span><a href=\"#Series.nsmallest()\" data-toc-modified-id=\"Series.nsmallest()-3.55\"><span class=\"toc-item-num\">3.55&nbsp;&nbsp;</span>Series.nsmallest()</a></span></li><li><span><a href=\"#Series.nunique()\" data-toc-modified-id=\"Series.nunique()-3.56\"><span class=\"toc-item-num\">3.56&nbsp;&nbsp;</span>Series.nunique()</a></span></li><li><span><a href=\"#Series.pct_change()\" data-toc-modified-id=\"Series.pct_change()-3.57\"><span class=\"toc-item-num\">3.57&nbsp;&nbsp;</span>Series.pct_change()</a></span></li><li><span><a href=\"#Series.pop()\" data-toc-modified-id=\"Series.pop()-3.58\"><span class=\"toc-item-num\">3.58&nbsp;&nbsp;</span>Series.pop()</a></span></li><li><span><a href=\"#Series.quantile()\" data-toc-modified-id=\"Series.quantile()-3.59\"><span class=\"toc-item-num\">3.59&nbsp;&nbsp;</span>Series.quantile()</a></span></li><li><span><a href=\"#Series.rank()\" data-toc-modified-id=\"Series.rank()-3.60\"><span class=\"toc-item-num\">3.60&nbsp;&nbsp;</span>Series.rank()</a></span></li><li><span><a href=\"#Series.reindex()\" data-toc-modified-id=\"Series.reindex()-3.61\"><span class=\"toc-item-num\">3.61&nbsp;&nbsp;</span>Series.reindex()</a></span></li><li><span><a href=\"#Series.reindex_like()\" data-toc-modified-id=\"Series.reindex_like()-3.62\"><span class=\"toc-item-num\">3.62&nbsp;&nbsp;</span>Series.reindex_like()</a></span></li><li><span><a href=\"#Series.rename()\" data-toc-modified-id=\"Series.rename()-3.63\"><span class=\"toc-item-num\">3.63&nbsp;&nbsp;</span>Series.rename()</a></span></li><li><span><a href=\"#Series.repeat()\" data-toc-modified-id=\"Series.repeat()-3.64\"><span class=\"toc-item-num\">3.64&nbsp;&nbsp;</span>Series.repeat()</a></span></li><li><span><a href=\"#Series.replace()\" data-toc-modified-id=\"Series.replace()-3.65\"><span class=\"toc-item-num\">3.65&nbsp;&nbsp;</span>Series.replace()</a></span></li><li><span><a href=\"#Series.reset_index()\" data-toc-modified-id=\"Series.reset_index()-3.66\"><span class=\"toc-item-num\">3.66&nbsp;&nbsp;</span>Series.reset_index()</a></span></li><li><span><a href=\"#Series.rolling()\" data-toc-modified-id=\"Series.rolling()-3.67\"><span class=\"toc-item-num\">3.67&nbsp;&nbsp;</span>Series.rolling()</a></span></li><li><span><a href=\"#Series.round()\" data-toc-modified-id=\"Series.round()-3.68\"><span class=\"toc-item-num\">3.68&nbsp;&nbsp;</span>Series.round()</a></span></li><li><span><a href=\"#Series.sample()\" data-toc-modified-id=\"Series.sample()-3.69\"><span class=\"toc-item-num\">3.69&nbsp;&nbsp;</span>Series.sample()</a></span></li><li><span><a href=\"#Series.searchsorted()\" data-toc-modified-id=\"Series.searchsorted()-3.70\"><span class=\"toc-item-num\">3.70&nbsp;&nbsp;</span>Series.searchsorted()</a></span></li><li><span><a href=\"#Series.sem()\" data-toc-modified-id=\"Series.sem()-3.71\"><span class=\"toc-item-num\">3.71&nbsp;&nbsp;</span>Series.sem()</a></span></li><li><span><a href=\"#Series.shift()\" data-toc-modified-id=\"Series.shift()-3.72\"><span class=\"toc-item-num\">3.72&nbsp;&nbsp;</span>Series.shift()</a></span></li><li><span><a href=\"#Series.skew()\" data-toc-modified-id=\"Series.skew()-3.73\"><span class=\"toc-item-num\">3.73&nbsp;&nbsp;</span>Series.skew()</a></span></li><li><span><a href=\"#Series.sort_index()\" data-toc-modified-id=\"Series.sort_index()-3.74\"><span class=\"toc-item-num\">3.74&nbsp;&nbsp;</span>Series.sort_index()</a></span></li><li><span><a href=\"#Series.sort_values()\" data-toc-modified-id=\"Series.sort_values()-3.75\"><span class=\"toc-item-num\">3.75&nbsp;&nbsp;</span>Series.sort_values()</a></span></li><li><span><a href=\"#Series.std()\" data-toc-modified-id=\"Series.std()-3.76\"><span class=\"toc-item-num\">3.76&nbsp;&nbsp;</span>Series.std()</a></span></li><li><span><a href=\"#Series.sum()\" data-toc-modified-id=\"Series.sum()-3.77\"><span class=\"toc-item-num\">3.77&nbsp;&nbsp;</span>Series.sum()</a></span></li><li><span><a href=\"#Series.take()\" data-toc-modified-id=\"Series.take()-3.78\"><span class=\"toc-item-num\">3.78&nbsp;&nbsp;</span>Series.take()</a></span></li><li><span><a href=\"#Series.to_*()\" data-toc-modified-id=\"Series.to_*()-3.79\"><span class=\"toc-item-num\">3.79&nbsp;&nbsp;</span>Series.to_*()</a></span></li><li><span><a href=\"#Series.transform()\" data-toc-modified-id=\"Series.transform()-3.80\"><span class=\"toc-item-num\">3.80&nbsp;&nbsp;</span>Series.transform()</a></span></li><li><span><a href=\"#Series.truncate()\" data-toc-modified-id=\"Series.truncate()-3.81\"><span class=\"toc-item-num\">3.81&nbsp;&nbsp;</span>Series.truncate()</a></span></li><li><span><a href=\"#Series.unique()\" data-toc-modified-id=\"Series.unique()-3.82\"><span class=\"toc-item-num\">3.82&nbsp;&nbsp;</span>Series.unique()</a></span></li><li><span><a href=\"#Series.update()\" data-toc-modified-id=\"Series.update()-3.83\"><span class=\"toc-item-num\">3.83&nbsp;&nbsp;</span>Series.update()</a></span></li><li><span><a href=\"#Series.value_counts()\" data-toc-modified-id=\"Series.value_counts()-3.84\"><span class=\"toc-item-num\">3.84&nbsp;&nbsp;</span>Series.value_counts()</a></span></li><li><span><a href=\"#Series.var()\" data-toc-modified-id=\"Series.var()-3.85\"><span class=\"toc-item-num\">3.85&nbsp;&nbsp;</span>Series.var()</a></span></li><li><span><a href=\"#Series.where()\" data-toc-modified-id=\"Series.where()-3.86\"><span class=\"toc-item-num\">3.86&nbsp;&nbsp;</span>Series.where()</a></span></li></ul></li></ul></div>"
   ]
  },
  {
   "cell_type": "markdown",
   "metadata": {
    "colab_type": "text",
    "id": "EUbFsAtInxrq"
   },
   "source": [
    "<b>If you are using google colab you should save this notebook and any associated textfiles to their own folder on your google drive. Then you will need to adapt the following commands so that the notebook runs from the location of that folder. This is only necessary for the brief section on reading text files into Python.</b>"
   ]
  },
  {
   "cell_type": "code",
   "execution_count": 727,
   "metadata": {
    "colab": {
     "base_uri": "https://localhost:8080/",
     "height": 138
    },
    "colab_type": "code",
    "executionInfo": {
     "elapsed": 19336,
     "status": "ok",
     "timestamp": 1581369480640,
     "user": {
      "displayName": "",
      "photoUrl": "",
      "userId": "11084403397391204350"
     },
     "user_tz": 300
    },
    "id": "P7Pz4NcYnoc5",
    "outputId": "fd1293c6-92b6-4cd2-e677-06af69e44f4e"
   },
   "outputs": [],
   "source": [
    "# If using this on Google colab, we need to install the packages\n",
    "try:\n",
    "  import google.colab\n",
    "  IN_COLAB = True\n",
    "except:\n",
    "  IN_COLAB = False\n",
    "\n",
    "if IN_COLAB:\n",
    "    from google.colab import drive\n",
    "    drive.mount('/content/drive')\n",
    "\n",
    "    # Colab command to navigate to the folder holding the homework,\n",
    "    # CHANGE FOR YOUR SPECIFIC FOLDER LOCATION IN GOOGLE DRIVE\n",
    "    # Note: if there are spaces in the path, you need to preceed them with a backslash '\\'\n",
    "    %cd /content/drive/My\\ Drive/CHE597/Lectures/3-Pandas"
   ]
  },
  {
   "cell_type": "markdown",
   "metadata": {
    "colab_type": "text",
    "id": "Akw58iFcRfIg"
   },
   "source": [
    "\n",
    "\n",
    "# Introduction to Pandas\n",
    "<b>Pandas</b> is a growing library that fills a gap in scipy/numpy with regard to some statistical and data analysis functionality. Pandas supplies important classes called  series (for 1d data) and dataframe (for 2d). These classes provide some similar functionality to arrays in numpy, except that they are much more flexible with respect to data type, quantity, and labeling. In particular, these objects are designed to deal with tabular data of the sort that might be imported from spreadsheets with headers. Through these classes, Pandas supports <b>size mutability</b> (e.g., adding and deleting columns from a large spreadsheet), <b>data alignment</b> (e.g., aligning data based on a common index or attribute), and intelligent handling of <b>missing data</b> (e.g., you may have only a subset of attributes in a given row in a spreadsheet). In this section we will see the basic attributes and methods associated with these pandas classes. \n",
    "\n",
    "<b>historical note:</b> Pandas is less mature than numpy and so functionality is still routinely being added (and bugs are being fixed for relatively new methods). \n",
    "\n",
    "In the following sections keywords you should know and in-text code will be presented as <b>keywords</b> and `code`, respectively. \n",
    "\n",
    "## Pandas Series\n",
    "Pandas series are similar to 1D arrays, except that they support dictionary-like indexing. However, unlike dictionaries, series are ordered. Thus, series combine the functionality of arrays with the functionality of dictionaries. This might sound counterintuitive, but after working through the examples below you will see how sometimes you would want to perform operations according to order (like in numpy), but othertimes you might want to perform operations according to label (like in a dictionary). Later, when we discuss dataframes, you will see that these are basically collections of series to form a 2D object. Thus, series and dataframes share a lot of methods and attributes. \n",
    "\n",
    "### Initializing Series\n",
    "Initializing a pandas series is as simple as importing the library and passing a list to the `series` constructor:"
   ]
  },
  {
   "cell_type": "code",
   "execution_count": null,
   "metadata": {
    "colab": {
     "base_uri": "https://localhost:8080/",
     "height": 134
    },
    "colab_type": "code",
    "executionInfo": {
     "elapsed": 740,
     "status": "ok",
     "timestamp": 1581357316145,
     "user": {
      "displayName": "",
      "photoUrl": "",
      "userId": "11084403397391204350"
     },
     "user_tz": 300
    },
    "id": "jF0WXELoRfIh",
    "outputId": "b11d3335-a8a4-4306-aba9-495629064215"
   },
   "outputs": [],
   "source": [
    "import pandas as pd\n",
    "import numpy as np\n",
    "a = pd.Series(range(-1,5))\n",
    "print(a)"
   ]
  },
  {
   "cell_type": "markdown",
   "metadata": {
    "colab_type": "text",
    "id": "dBZ6qu_ERfIl"
   },
   "source": [
    "Note that because we've imported pandas as `.pd`, we access the associated objects in pandas through the `pd.` namespace. The `Series` constructor accepts a list, value, or `np.array` and has an optional argument for the datatype `dtype`:"
   ]
  },
  {
   "cell_type": "code",
   "execution_count": null,
   "metadata": {
    "colab": {
     "base_uri": "https://localhost:8080/",
     "height": 118
    },
    "colab_type": "code",
    "executionInfo": {
     "elapsed": 383,
     "status": "ok",
     "timestamp": 1580388057351,
     "user": {
      "displayName": "",
      "photoUrl": "",
      "userId": "11084403397391204350"
     },
     "user_tz": 300
    },
    "id": "i7rjTWLcMxc_",
    "outputId": "da3c3a50-e6c0-42f7-dbad-326a4e88f516"
   },
   "outputs": [],
   "source": [
    "b = pd.Series(range(5),dtype=float)\n",
    "print(b)"
   ]
  },
  {
   "cell_type": "markdown",
   "metadata": {
    "colab_type": "text",
    "id": "iC-5G5SMMxdD"
   },
   "source": [
    "### Series Up-casting Behavior\n",
    "When we supply the dtype `float`, the list of integers returned by `range(5)` are upcast to python floats. If you supply `Series()` with mixed numerical types it will always upcast to the highest level required to represent all of the objects. However, Pandas series also support mixed types: "
   ]
  },
  {
   "cell_type": "code",
   "execution_count": null,
   "metadata": {
    "colab": {
     "base_uri": "https://localhost:8080/",
     "height": 202
    },
    "colab_type": "code",
    "executionInfo": {
     "elapsed": 339,
     "status": "ok",
     "timestamp": 1580337065900,
     "user": {
      "displayName": "",
      "photoUrl": "",
      "userId": "11084403397391204350"
     },
     "user_tz": 300
    },
    "id": "aKUIHEO-MxdE",
    "outputId": "6010d403-3f1d-4d24-b955-6899f29fcf1e"
   },
   "outputs": [],
   "source": [
    "c = pd.Series([1,2.0,1+1j])\n",
    "d = pd.Series([1,2.0,\"3\"])\n",
    "print(c)\n",
    "print(d)\n",
    "print(type(d[0]))\n",
    "print(type(d[1]))\n",
    "print(type(d[2]))"
   ]
  },
  {
   "cell_type": "markdown",
   "metadata": {
    "colab_type": "text",
    "id": "pluk2SDuMxdJ"
   },
   "source": [
    "In the first example all of the numbers are recast as complex, in the second the mixed types are retained. If all of the objects passed to `Series()` are numeric, then you can expect up-casting. If you supply mixed non-numeric and numeric entries then don't expect up-casting.\n",
    "\n",
    "You can also initialize series with lists as objects: "
   ]
  },
  {
   "cell_type": "code",
   "execution_count": null,
   "metadata": {
    "colab": {
     "base_uri": "https://localhost:8080/",
     "height": 67
    },
    "colab_type": "code",
    "executionInfo": {
     "elapsed": 320,
     "status": "ok",
     "timestamp": 1580337421013,
     "user": {
      "displayName": "",
      "photoUrl": "",
      "userId": "11084403397391204350"
     },
     "user_tz": 300
    },
    "id": "Fv6o8vhFMxdL",
    "outputId": "79a01eec-ddd6-42ee-9eec-1adca6bc2141"
   },
   "outputs": [],
   "source": [
    "d = pd.Series([[1,2],[3,4,5]])\n",
    "print(d)"
   ]
  },
  {
   "cell_type": "markdown",
   "metadata": {
    "colab_type": "text",
    "id": "gnXuFMKLMxdO"
   },
   "source": [
    "Note, series are inherently one dimensional. Passing a list of lists is interepreted one-dimensionally as \"a separate list for each element\" in the series.\n",
    "\n",
    "### Series Index \n",
    "Have you noticed those integers `0 1` etc. that are printed along with each series? Those are called the <b>index</b> of the series, and individually they are referred to as the <b>labels</b>. By default they are initialize to the integers `0,1..n-1` where `n` is the number of elements in the series. But they can be changed to anything that makes sense for the data:"
   ]
  },
  {
   "cell_type": "code",
   "execution_count": null,
   "metadata": {
    "colab": {
     "base_uri": "https://localhost:8080/",
     "height": 151
    },
    "colab_type": "code",
    "executionInfo": {
     "elapsed": 334,
     "status": "ok",
     "timestamp": 1580391658508,
     "user": {
      "displayName": "",
      "photoUrl": "",
      "userId": "11084403397391204350"
     },
     "user_tz": 300
    },
    "id": "MlkpcQzNdmLT",
    "outputId": "dc1dd1de-3d39-4a00-bb75-98c5d721df00"
   },
   "outputs": [],
   "source": [
    "e = pd.Series(range(5),index=[ \"r{}\".format(_) for _ in range(5) ])\n",
    "print(e)\n",
    "print(e[\"r1\"])\n",
    "print(e[1])\n",
    "print(e.iloc[1])"
   ]
  },
  {
   "cell_type": "markdown",
   "metadata": {
    "colab_type": "text",
    "id": "bkWVYtHwePLz"
   },
   "source": [
    "In this example we have initialized a series and made the labels `r0`,`r1`, etc. With series you can access elements either by the label (`e[\"r1\"]`) or the index (`e[1]`). In this respect, Series combine the functionality of dictionaries with ordered objects like lists and arrays. The index plays an important role in series, because it determines the order in which operators will be applied to the data. You can also slice series as you do arrays (described more fully in the section below). \n",
    "\n",
    "You can set the index of your series by initializing it with a dictionary:"
   ]
  },
  {
   "cell_type": "code",
   "execution_count": null,
   "metadata": {
    "colab": {
     "base_uri": "https://localhost:8080/",
     "height": 168
    },
    "colab_type": "code",
    "executionInfo": {
     "elapsed": 343,
     "status": "ok",
     "timestamp": 1580338721284,
     "user": {
      "displayName": "",
      "photoUrl": "",
      "userId": "11084403397391204350"
     },
     "user_tz": 300
    },
    "id": "mtG_oUEpRfIm",
    "outputId": "e2b27f1f-a51c-48d1-c72b-f8fb5579f4e7"
   },
   "outputs": [],
   "source": [
    "d1 = {\"r0\":0,\"r1\":1,\"r2\":2}\n",
    "d2 = {\"r2\":2,\"r1\":1,\"r0\":0}\n",
    "f = pd.Series(d1)\n",
    "g = pd.Series(d2)\n",
    "print(f)\n",
    "print(g)\n",
    "print(d1 == d2)"
   ]
  },
  {
   "cell_type": "markdown",
   "metadata": {
    "colab_type": "text",
    "id": "uDU7HQM4h2S7"
   },
   "source": [
    "Note that when you initialize a series with a dictionary, it respects the ordering of keys in the resulting series even though internally these two dictionaries are identical (`d1 == d2` returns `True`). (<b>Sidenote:</b> Python dictionaries actually retain key ordering from initialization if you don't add anything to them, but never count on it.)  \n",
    "\n",
    "<b>Reindex with Series Constructor:</b> You can reassign the ordering of labels in an existing series by initializing a new series with the same labels but in a different order:"
   ]
  },
  {
   "cell_type": "code",
   "execution_count": null,
   "metadata": {
    "colab": {
     "base_uri": "https://localhost:8080/",
     "height": 269
    },
    "colab_type": "code",
    "executionInfo": {
     "elapsed": 474,
     "status": "ok",
     "timestamp": 1580853340108,
     "user": {
      "displayName": "",
      "photoUrl": "",
      "userId": "11084403397391204350"
     },
     "user_tz": 300
    },
    "id": "z1a16YNShO03",
    "outputId": "1818b8bb-bbf4-4c42-f6b1-f994a6312d69"
   },
   "outputs": [],
   "source": [
    "h = pd.Series({\"a\":1,\"b\":2})\n",
    "print(\"h:\\n{}\\n\".format(h))\n",
    "\n",
    "# Example 1: Series constructor on existing series\n",
    "h = pd.Series(h,index=[\"b\",\"a\"])\n",
    "print(\"h(reinitialized):\\n{}\\n\".format(h))\n",
    "\n",
    "# Example 2: Returns empty where labels don't exist\n",
    "print(\"h(reinitialized):\\n{}\\n\".format(pd.Series(h,index=[\"zero\",\"one\"])))"
   ]
  },
  {
   "cell_type": "markdown",
   "metadata": {
    "colab_type": "text",
    "id": "jGya_YuslfAk"
   },
   "source": [
    "<b>-Example 1:</b> We supply an existing series to the `pd.Series()` constructor but change the order of the index labels. The result is a new series with the indicated ordering of labels.\n",
    "\n",
    "<b>-Example 2:</b> If you reindex a series using the `pd.Series()` then pandas will return a `NaN` for any label that didn't already exist in the series (you will also lose any dropped labels). \n",
    "\n",
    "<b>Reindex with `Series.index` attribute:</b> The index is a callable attribute of the series (`Series.index`) and can be reassigned in place:"
   ]
  },
  {
   "cell_type": "code",
   "execution_count": null,
   "metadata": {
    "colab": {
     "base_uri": "https://localhost:8080/",
     "height": 218
    },
    "colab_type": "code",
    "executionInfo": {
     "elapsed": 597,
     "status": "ok",
     "timestamp": 1580593307565,
     "user": {
      "displayName": "",
      "photoUrl": "",
      "userId": "11084403397391204350"
     },
     "user_tz": 300
    },
    "id": "IZjJlUwcr9nf",
    "outputId": "e135e9db-f2b6-4f8c-b760-e7c63f3a77dd"
   },
   "outputs": [],
   "source": [
    "h = pd.Series({\"a\":1,\"b\":2})\n",
    "print(\"h:\\n{}\".format(h))\n",
    "print(\"\\nh.index:\\n{}\".format(h.index))\n",
    "h.index = [ _.upper() for _ in h.index] \n",
    "print(\"\\nh (after):\\n{}\".format(h))"
   ]
  },
  {
   "cell_type": "markdown",
   "metadata": {
    "colab_type": "text",
    "id": "Vja1mYDqqosw"
   },
   "source": [
    "### Series Slicing\n",
    "The index plays an important role in series (and later dataframes) because they provide an additional mechanism for slicing values. Specifically, series can be sliced similar to python lists and numpy arrays using square bracket notation (`[start:end:stride]`). For series, you can slice by either the value order (position-based indexing) or the labels: "
   ]
  },
  {
   "cell_type": "code",
   "execution_count": null,
   "metadata": {
    "colab": {
     "base_uri": "https://localhost:8080/",
     "height": 722
    },
    "colab_type": "code",
    "executionInfo": {
     "elapsed": 446,
     "status": "ok",
     "timestamp": 1580747660977,
     "user": {
      "displayName": "",
      "photoUrl": "",
      "userId": "11084403397391204350"
     },
     "user_tz": 300
    },
    "id": "H-bKiJqDq0jq",
    "outputId": "0c79bd28-6149-475a-c334-b2b9b1369249"
   },
   "outputs": [],
   "source": [
    "i = pd.Series([1,2,3,4,5],index=[\"a\",\"b\",\"c\",\"d\",\"e\"])\n",
    "\n",
    "# Example 1: return a single value based on position\n",
    "print(\"i[1]:\\n{}\\n\".format(i[1]))\n",
    "\n",
    "# Example 2: return every other value based on position\n",
    "print(\"i[::2]:\\n{}\\n\".format(i[::2]))\n",
    "\n",
    "# Example 3: return every value between the second and fourth\n",
    "#            based on position\n",
    "print(\"i[1:4]:\\n{}\\n\".format(i[1:4]))\n",
    "\n",
    "# Example 4: return the second through next to third from last\n",
    "#            based on position\n",
    "print('i[1:-2]:\\n{}\\n'.format(i[1:-2]))\n",
    "\n",
    "# Example 5: return the values corresponding to labels \n",
    "#            between \"b\" and \"d\" (inclusive) \n",
    "print('i[\"b\":\"d\"]:\\n{}\\n'.format(i[\"b\":\"d\"]))\n",
    "\n",
    "# Example 6: return the values corresponding to labels \n",
    "#            between \"b\" and \"d\" with stride 2.\n",
    "print('i[\"b\":\"d\":2]:\\n{}\\n'.format(i[\"b\":\"d\":2]))\n",
    "\n",
    "# Example 7: you can use lists of labels to return values\n",
    "#            in a given order. \n",
    "print('i[[\"c\",\"a\"]]:\\n{}\\n'.format(i[[\"c\",\"a\"]]))\n",
    "\n",
    "# Example8: you can also use lists of integers to return values\n",
    "#           in a given order based on their position. \n",
    "print('i[[1,3,0]]:\\n{}\\n'.format(i[[1,3,0]]))"
   ]
  },
  {
   "cell_type": "markdown",
   "metadata": {
    "colab_type": "text",
    "id": "72ORTQ5ltBXb"
   },
   "source": [
    "<b>-Example 1:</b> Since the labels of `i` are string-based, supplying an integer to the label is interpreted as \"return the value at this position\" not \"literal label\". \n",
    "\n",
    "<b>-Example 2:</b> In position-based slicing, `start:end:stride` syntax is supported. \n",
    "\n",
    "<b>-Example 3:</b> Example of position-based slicing (start:end)\n",
    "\n",
    "<b>-Example 4:</b> Example of position-based slicing with negative position support.\n",
    "\n",
    "<b>-Example 5:</b> Example of position-based slicing using the labels (`start:end:stride`) where `start` and `end` are the specified labels.\n",
    "\n",
    "<b>-Example 6:</b> Example of position-based slicing with stride support.\n",
    "\n",
    "<b>-Example 7:</b> Example of list based slicing, where members of the list are interpreted as labels. \n",
    "\n",
    "<b>-Example 8:</b> Example of list based slicing, where members of the list are interpreted as positions.\n",
    "\n",
    "<b>Note</b>: integers are always interpreted as \"position-based\" inputs for the purpose of slicing series. This means that for series with integer labels or mixed string and integer labels, label-based slicing does not work as you might expect, because the integers will be interpreted in position-based fashion, not as the literal index. Likewise, mixing strings and integer labels in a slicing operation will not work: "
   ]
  },
  {
   "cell_type": "code",
   "execution_count": null,
   "metadata": {
    "colab": {
     "base_uri": "https://localhost:8080/",
     "height": 522
    },
    "colab_type": "code",
    "executionInfo": {
     "elapsed": 380,
     "status": "error",
     "timestamp": 1580746349789,
     "user": {
      "displayName": "",
      "photoUrl": "",
      "userId": "11084403397391204350"
     },
     "user_tz": 300
    },
    "id": "3GUy6pj6xQZm",
    "outputId": "62dc3933-91a4-453c-c090-7f38793fe905"
   },
   "outputs": [],
   "source": [
    "j = pd.Series([5,10,20,21,22],index=[10,\"a\",(1,2),\"c\",1])\n",
    "\n",
    "# Example 1: Empty series\n",
    "print(\"j[10:1]:\\n{}\\n\".format(j[10:1]))\n",
    "\n",
    "# Example 2: First two values\n",
    "print(\"j[0:2]:\\n{}\\n\".format(j[0:2]))\n",
    "\n",
    "# Example 3: Mixed tuple and string (works)\n",
    "print(j[(1,2):\"c\"])\n",
    "\n",
    "# Example 4: Mixed int and string (ERROR)\n",
    "print('j[\"a\":1]:\\n{}\\n'.format(j[\"a\":1])) # ERROR\n"
   ]
  },
  {
   "cell_type": "markdown",
   "metadata": {
    "colab_type": "text",
    "id": "dnI5q5JX0LOj"
   },
   "source": [
    "<b>-Example 1:</b> The integers `10` and `1` are interpreted as position indicators not labels, since `10>1` the returned series is empty.\n",
    "\n",
    "<b>-Example 2:</b> `j[0:2]` works as expected by position-based indexing.\n",
    "\n",
    "<b>-Example 3:</b> label-based slicing works as long as the labels involved aren't integers.\n",
    "\n",
    "<b>-Example 4:</b> label-based slicing gives an error if you attempt to put in an integer. Bottom line: mixed integers and string labels don't usually make sense for use as labels. \n",
    "\n",
    "<b>non-unique labels</b>: Series labels can be repeated. This might be typical if the label corresponded to a class (e.g., `dog`) and you had multiple instances of this class in your dataset (e.g., many dogs and many cats) with differing values. In this case, slicing by label is prohibited, but you can still slice by position or call the common labels directly: "
   ]
  },
  {
   "cell_type": "code",
   "execution_count": null,
   "metadata": {
    "colab": {
     "base_uri": "https://localhost:8080/",
     "height": 168
    },
    "colab_type": "code",
    "executionInfo": {
     "elapsed": 430,
     "status": "ok",
     "timestamp": 1580853668794,
     "user": {
      "displayName": "",
      "photoUrl": "",
      "userId": "11084403397391204350"
     },
     "user_tz": 300
    },
    "id": "RwrvwyCVxmKo",
    "outputId": "efc7fe23-6a50-4ef4-f5a4-31ac244c346d"
   },
   "outputs": [],
   "source": [
    "k = pd.Series(range(5),index=[\"a\",\"a\",\"a\",\"b\",\"a\"])\n",
    "\n",
    "# Example 1: call all instances of label \"a\"\n",
    "print(k[\"a\"])\n",
    "\n",
    "# Example 2: order based slicing\n",
    "print(k[1:4])"
   ]
  },
  {
   "cell_type": "markdown",
   "metadata": {
    "colab_type": "text",
    "id": "LV9mPJ7bugNs"
   },
   "source": [
    "<b>-Example 1:</b> `\"a\"` is a repeated label, so we can't slice using it. However, we can get all values associated with this label by calling `k[\"a\"]`.\n",
    "\n",
    "<b>-Example 2:</b> position-based slicing still works for repeated labels.\n",
    "\n",
    "<b>Conditional Slicing:</b> Series slicing also support more complex conditional slicing (e.g., similar to using `np.array[np.where(condition)]`). The syntax is `series[condition]`:"
   ]
  },
  {
   "cell_type": "code",
   "execution_count": null,
   "metadata": {
    "colab": {
     "base_uri": "https://localhost:8080/",
     "height": 185
    },
    "colab_type": "code",
    "executionInfo": {
     "elapsed": 416,
     "status": "ok",
     "timestamp": 1580853684475,
     "user": {
      "displayName": "",
      "photoUrl": "",
      "userId": "11084403397391204350"
     },
     "user_tz": 300
    },
    "id": "pYWjmP1Euy0-",
    "outputId": "615efaa2-de70-4bc5-9211-2f15f362e112"
   },
   "outputs": [],
   "source": [
    "l = pd.Series(range(10),index=range(10)[::-1])\n",
    "\n",
    "# Example 1: conditional slicing\n",
    "print(l[l>5])\n",
    "\n",
    "# Example 2: chained conditional slicing\n",
    "print(l[6>l][l>=2])"
   ]
  },
  {
   "cell_type": "markdown",
   "metadata": {
    "colab_type": "text",
    "id": "3lSOdtXBvshq"
   },
   "source": [
    "<b>-Example 1:</b> the call `l>5` returns a boolean series with `True` where the condition is `True` (see next section for more details on operator behavior). Series accept boolean series as slicing inputs and will print out any value at the label containing `True` in the supplied series.\n",
    "\n",
    "<b>-Example 2:</b> Multiple conditions can be applied by using the chained `[]...[]` notation. Each condition is applied sequentially, with the output passed to the next slicing operation. "
   ]
  },
  {
   "cell_type": "markdown",
   "metadata": {
    "colab_type": "text",
    "id": "MeKrxLoefdZ-"
   },
   "source": [
    "### Series Operator Behavior\n",
    "The index plays an important role in series (and later dataframes) because it determines how they behave in standard operators. Specifically, if you try to \"add\" (`+`) two series, the operator will add elements based on shared labels:"
   ]
  },
  {
   "cell_type": "code",
   "execution_count": null,
   "metadata": {
    "colab": {
     "base_uri": "https://localhost:8080/",
     "height": 336
    },
    "colab_type": "code",
    "executionInfo": {
     "elapsed": 458,
     "status": "ok",
     "timestamp": 1580853709690,
     "user": {
      "displayName": "",
      "photoUrl": "",
      "userId": "11084403397391204350"
     },
     "user_tz": 300
    },
    "id": "RjEW1SWogJY2",
    "outputId": "0fc7dc77-42c2-493d-ce1d-624d11caed37"
   },
   "outputs": [],
   "source": [
    "m = pd.Series({\"a\":1,\"b\":2})\n",
    "n = pd.Series({\"b\":1,\"a\":2})\n",
    "o = pd.Series({\"a\":1,\"b\":2,\"c\":3})\n",
    "p = pd.Series(range(3),index=[1,2,1])\n",
    "\n",
    "# Example 1: Adding two series with different ordering but shared labels\n",
    "print(\"\\nm+n:\\n{}\\n\".format(m+n))\n",
    "\n",
    "# Example 2: Adding two series with partially overlapping labels.\n",
    "print(\"\\nm+o:\\n{}\\n\".format(m+o))\n",
    "\n",
    "# Example 3: Add two series with repeated labels\n",
    "print(\"p+p:\\n{}\\n\".format(p+p))"
   ]
  },
  {
   "cell_type": "markdown",
   "metadata": {
    "colab_type": "text",
    "id": "W8smbAIznC6e"
   },
   "source": [
    "<b>-Example 1:</b> The series pointed to by `m` and `n` have the same labels but in different order. The returned result of `m+n` reflects label-by-label application of the operator.\n",
    "\n",
    "<b>-Example 2:</b> The series pointed to by `m` and `o` have a partially overlapping set of labels. The returned result of `m+o` reflects label-by-label application of the operator with `NaN` where it cannot be applied. \n",
    "\n",
    "<b>-Example 3:</b> The series pointed to by `p` has repeated labels (`1` is used twice). Pandas allows this (e.g., maybe your label is `\"conc 0.1M\"` and you have multiple measurments at that condition due to the stochastic nature of what you are measuring) <i>but it will revert to element-by-element application of the operator</i>.\n",
    "\n",
    "Series support all of the common operators defined in python, with label-by-label application and element-by-element fall-back when there are repeated labels:"
   ]
  },
  {
   "cell_type": "code",
   "execution_count": null,
   "metadata": {
    "colab": {
     "base_uri": "https://localhost:8080/",
     "height": 857
    },
    "colab_type": "code",
    "executionInfo": {
     "elapsed": 463,
     "status": "ok",
     "timestamp": 1580853782055,
     "user": {
      "displayName": "",
      "photoUrl": "",
      "userId": "11084403397391204350"
     },
     "user_tz": 300
    },
    "id": "lNDCmB2cxmKy",
    "outputId": "632c1bdb-0571-4710-8cfa-6d0fee8b516c"
   },
   "outputs": [],
   "source": [
    "m = pd.Series({\"a\":1,\"b\":2})\n",
    "n = pd.Series({\"b\":1,\"a\":2})\n",
    "\n",
    "print(\"\\nm:\\n{}\".format(m))\n",
    "print(\"\\nn:\\n{}\".format(n))\n",
    "print(\"\\nm+n:\\n{}\".format(m+n))\n",
    "print(\"\\nm-n:\\n{}\".format(m-n))\n",
    "print(\"\\nm*n:\\n{}\".format(m*n))\n",
    "print(\"\\nm/n:\\n{}\".format(m/n))\n",
    "print(\"\\nm**n:\\n{}\".format(m**n))\n",
    "print(\"\\nm%n:\\n{}\".format(m%n))\n",
    "\n",
    "# Logical examples: require identical label ordering\n",
    "n = n.sort_index()\n",
    "print(\"\\nm>n:\\n{}\".format(m>n))\n",
    "print(\"\\nm==n:\\n{}\".format(m==n))"
   ]
  },
  {
   "cell_type": "markdown",
   "metadata": {
    "colab_type": "text",
    "id": "NLAbFoBGxmK0"
   },
   "source": [
    "The only subtelty here is that logical operators will fail is the labels aren't ordered the same (e.g., try running the above block without the `n = n.sort_index()` call). I'm not sure if this was the intended behavior of the developers but it is how it currently works. "
   ]
  },
  {
   "cell_type": "markdown",
   "metadata": {
    "colab_type": "text",
    "id": "AaaHDZLbxmK1"
   },
   "source": [
    "### Adding and Dropping Elements\n",
    "Series store their values behind the scenes as numpy arrays, so adding or dropping values means reinitializing arrays. You should try to initialize your series so that you don't have to modify their size, or if you do then you should always perform the modification in a single step, if possible. \n",
    "\n",
    "<b>Adding Elements:</b> There are two common ways of adding elements to series: 1) using the `concat()` method (preferred) and 2) using the `series[label]=value` method (requires caution).\n",
    "\n",
    "<b>`concat([series1, series2])` method:</b> This method utilizes the built-in series method `concat()` to return a new series with the contents of `series1` followed at the end by the contents of `series2`. So if you needed to add a lot of new values to a series, you might first make a dictionary (mutable and easy to add to) and then add them all at once to the existing series using `concat()`: "
   ]
  },
  {
   "cell_type": "code",
   "execution_count": null,
   "metadata": {
    "colab": {
     "base_uri": "https://localhost:8080/",
     "height": 252
    },
    "colab_type": "code",
    "executionInfo": {
     "elapsed": 449,
     "status": "ok",
     "timestamp": 1580853794353,
     "user": {
      "displayName": "",
      "photoUrl": "",
      "userId": "11084403397391204350"
     },
     "user_tz": 300
    },
    "id": "2W2JI_VUxmK2",
    "outputId": "b25c4c5a-a7d9-46a8-f4f1-ff5cb4e17bed"
   },
   "outputs": [],
   "source": [
    "q = pd.Series(range(3))\n",
    "r = pd.Series(range(3))\n",
    "\n",
    "# Example 1: concat with index retained\n",
    "print(pd.concat([q, r]))\n",
    "\n",
    "# Example 2: concat and reindex result\n",
    "print(pd.concat([q, r], ignore_index=True))"
   ]
  },
  {
   "cell_type": "markdown",
   "metadata": {
    "colab_type": "text",
    "id": "fDevgzF0xmK4"
   },
   "source": [
    "<b>-Example 1:</b> The resulting series has repeated labels, because append preserves the labels by default (usually desired when the labels are descriptive).\n",
    "    \n",
    "<b>-Example 2:</b> Using the `ignore_index=True` option reinitializes the index of the resulting series to the default integers. The values are ordered as expected.\n",
    "\n",
    "<b>`series[label]=value` method:</b> This method utilizes the dictionary-like behavior of series to add new labels and values. The behavior is as you would expect for a dictionary when the new label is not in the current index, however, if the label is already in the current index you will overwrite a value:"
   ]
  },
  {
   "cell_type": "code",
   "execution_count": null,
   "metadata": {
    "colab": {
     "base_uri": "https://localhost:8080/",
     "height": 353
    },
    "colab_type": "code",
    "executionInfo": {
     "elapsed": 474,
     "status": "ok",
     "timestamp": 1580853802261,
     "user": {
      "displayName": "",
      "photoUrl": "",
      "userId": "11084403397391204350"
     },
     "user_tz": 300
    },
    "id": "6AfIstPVxmK5",
    "outputId": "83b1c790-320f-44bb-a7d0-2dde9cff8538"
   },
   "outputs": [],
   "source": [
    "q = pd.Series(range(3))\n",
    "\n",
    "# This is BAD, new array initialization at every iteration!\n",
    "for i in range(4,10):\n",
    "    q[i] = i\n",
    "print(q)\n",
    "q[0] = 100\n",
    "print(q)"
   ]
  },
  {
   "cell_type": "markdown",
   "metadata": {
    "colab_type": "text",
    "id": "54jfbRtUxmK7"
   },
   "source": [
    "In this example, we are adding a new label/value pair every iteration of the `for` loop. This works as expected, however, it reinitialized the underlying numpy array every time we add a value, which is not very efficient. When we assign a value to a label that already exists (`q[0]=100`) <i>it overwrites the existing value, it does not duplicate the label and add a new value.</i> This is expected behavior, since overwriting values in place is usually what we would want to do, but it highlights that you need to be careful if you are using this method to add new values but instead accidentaly overwrite an existing one. \n",
    "\n",
    "<b>Dropping Elements:</b> Dropping elements from an existing series utilizes the `.drop()` method, which accepts a list of labels; the `.pop()` method, which accepts a label; or the `del series[label]` keyword for deleting individual labels. `.drop()` is the most flexible since multiple entries can be removed at once:"
   ]
  },
  {
   "cell_type": "code",
   "execution_count": null,
   "metadata": {
    "colab": {
     "base_uri": "https://localhost:8080/",
     "height": 185
    },
    "colab_type": "code",
    "executionInfo": {
     "elapsed": 494,
     "status": "ok",
     "timestamp": 1580853851853,
     "user": {
      "displayName": "",
      "photoUrl": "",
      "userId": "11084403397391204350"
     },
     "user_tz": 300
    },
    "id": "ceZg10tjxmK8",
    "outputId": "4eb8fa1c-4b90-46ff-d0dc-86a636b5692e"
   },
   "outputs": [],
   "source": [
    "q = pd.Series(range(3),index=[\"a\",\"b\",\"c\"])\n",
    "print(q.drop(\"a\"))\n",
    "print(q.drop([\"c\",\"a\"]))\n",
    "q.pop(\"c\")\n",
    "print(q)\n",
    "del q[\"b\"]\n",
    "print(q)"
   ]
  },
  {
   "cell_type": "markdown",
   "metadata": {
    "colab_type": "text",
    "id": "VMRSdw_fxmK-"
   },
   "source": [
    "### Series Methods\n",
    "Pandas comes with <b>a lot</b> of methods for series. I usually find it useful when I am working with a new class to go through <b>all</b> of its methods, investigate their behavior, read their docs, and write my own examples for their basic usage. At the end of this notebook you will find the result of my own effort. It can serve as a reference for you, but I encourage you to do this yourself. This activity will help you learn the logic behind the class, understand what the developers intended the class for, develop an intuition for how the class works, and its common method arguments. \n",
    "\n",
    "Here we will just cover a few of the common methods for <b>basic statistics</b>, <b>transforming series</b>, and <b>searching series</b>. If you are going in order, we've already seen two (`series.concat()` and `series.sort_index()`) so let's quickly review those before we discuss these others:"
   ]
  },
  {
   "cell_type": "code",
   "execution_count": null,
   "metadata": {
    "colab": {},
    "colab_type": "code",
    "id": "XrFY9MHixmK_",
    "outputId": "fdc161dc-98ce-4de8-c2d7-d43ac324f4e0"
   },
   "outputs": [],
   "source": [
    "r = pd.Series(range(3))\n",
    "r = pd.concat([r, r])\n",
    "print(\"after concat:\\n{}\".format(r))\n",
    "r = r.sort_index()\n",
    "print(\"\\nafter sort_index:\\n{}\".format(r))"
   ]
  },
  {
   "cell_type": "markdown",
   "metadata": {
    "colab_type": "text",
    "id": "W91A_H7AxmLB"
   },
   "source": [
    "<b>`concat([series1, series2])`</b> returns a new series with `series2` added to the end of `series1`. It is a common method for adding data to series in a single step.\n",
    "\n",
    "<b>`series.sort_index()`</b> returns a new series with the index sorted by the labels. The corresponding values come along with their labels as they are ordered. \n",
    "\n",
    "In general, series methods return a new series. Many of the methods have an `inplace` argument that can be toggled to modify the existing series, but this is not typically the default behavior. Series methods are also designated in lowercase.\n",
    "\n",
    "<b>Statistical Methods:</b> Given that pandas was developed for spreadsheet like data, it isn't surprising that there are a lot of methods pertaining to calculating statistical quantities of series. These include the sample variance, standard deviation, mean, and quantiles:"
   ]
  },
  {
   "cell_type": "code",
   "execution_count": null,
   "metadata": {
    "colab": {},
    "colab_type": "code",
    "id": "OkbI4enExmLC",
    "outputId": "216d510d-4530-4028-d091-7032f64a99d2"
   },
   "outputs": [],
   "source": [
    "s = pd.Series(range(5))\n",
    "print(\"s.mean(): {}\".format(s.mean()))\n",
    "print(\"s.std(): {}\".format(s.std()))\n",
    "print(\"s.var(): {}\".format(s.var()))\n",
    "print(\"s.median(): {}\".format(s.median()))\n",
    "print(\"s.min(): {}\".format(s.min()))\n",
    "print(\"s.max(): {}\".format(s.max()))\n",
    "print(\"s.quantile([0.25,0.5,0.75]):\\n{}\".format(s.quantile([0.25,0.5,0.75])))\n",
    "print(\"s.describe():\\n{}\".format(s.describe()))"
   ]
  },
  {
   "cell_type": "markdown",
   "metadata": {
    "colab_type": "text",
    "id": "2waHm2TsxmLE"
   },
   "source": [
    "Where relevant these methods accept an optional degrees of freedom argument (`ddof`) which defaults to the Bessel correction. The `quantile` method accepts a list of single value, for cases where no value lies on the specified quantile the `interpolation` argument governs behavior.\n",
    "\n",
    "<b>Transformation Methods:</b> several series methods are related to applying a function to the values of the series or groups of values. Some common methods are `series.apply()`, `series.rolling()`, `series.groupby()`, `series.where()`, `series.mask()`:"
   ]
  },
  {
   "cell_type": "code",
   "execution_count": null,
   "metadata": {
    "colab": {
     "base_uri": "https://localhost:8080/",
     "height": 840
    },
    "colab_type": "code",
    "executionInfo": {
     "elapsed": 413,
     "status": "ok",
     "timestamp": 1580854180237,
     "user": {
      "displayName": "",
      "photoUrl": "",
      "userId": "11084403397391204350"
     },
     "user_tz": 300
    },
    "id": "fdPrLy2sxmLF",
    "outputId": "2f8f0b4f-8d33-49d5-81d8-dac85502063a"
   },
   "outputs": [],
   "source": [
    "t = pd.Series([10.1,18.9,21.2,7.5,8.1,6.8],index=[\"dog_1\",\"dog_2\",\"dog_3\",\"cat_1\",\"cat_2\",\"cat_3\"])\n",
    "\n",
    "# Example 1: cos is applied to each value\n",
    "print(\"Example 1:\\n{}\\n\".format(t.apply(np.cos)))\n",
    "\n",
    "# Example 2: + 10 is applied to each value\n",
    "print(\"Example 2:\\n{}\\n\".format(t.apply(lambda x:x + 10)))\n",
    "\n",
    "# Example 3: mean is applied to a rolling window\n",
    "#            of every 2 values\n",
    "print(\"Example 3:\\n{}\\n\".format(t.rolling(2).mean()))\n",
    "\n",
    "# Example 4: mean is applied to a rolling window\n",
    "#            of every 4 values\n",
    "print(\"Example 4:\\n{}\\n\".format(t.rolling(4).mean()))\n",
    "\n",
    "# Example 5: mean() is applied to dogs and cats\n",
    "print(\"Example 5:\\n{}\\n\".format(t.groupby(lambda x: x.split('_')[0]).mean()))\n",
    "\n",
    "# Example 6: mean() is applied to the first, second,\n",
    "#            and third animals in each class\n",
    "print(\"Example 6:\\n{}\\n\".format(t.groupby(lambda x: x.split('_')[1]).mean()))\n",
    "\n",
    "# Example 7: using where to replace values where the\n",
    "#            condition is False\n",
    "print(\"Example 7:\\n{}\\n\".format(t.where(t>10,t/10)))\n",
    "\n",
    "# Example 8: using mask to replace values where the\n",
    "#            condition is True\n",
    "print(\"Example 8:\\n{}\\n\".format(t.mask(t>10,np.exp(t))))\n"
   ]
  },
  {
   "cell_type": "markdown",
   "metadata": {
    "colab_type": "text",
    "id": "FXLQ_F_axmLI"
   },
   "source": [
    "<b>-Example 1:</b> `np.cos()` is applied to each value. When used in `series.apply()` the function must exist in the name space and be supplied without parentheses.\n",
    "\n",
    "<b>-Example 2:</b> ten is added to each value. Here we use an anonymous function (`lambda x: x+10` is similar to `def function(x): return x+10`). \n",
    "    \n",
    "<b>-Example 3:</b> The `series.rolling(period)` method returns an object that operates on a rolling window specified by `period`. The returned object possesses similar methods to series (e.g., `mean()`).\n",
    "\n",
    "<b>-Example 4:</b> `series.rolling(4)` operates on a larger window. In this case the first three values are `NaN` because a full backward window does not exist until the fourth position.\n",
    "\n",
    "<b>-Example 5:</b> `series.groupby()` has several possible input arguments. The simplest is to supply an anonymous function that operates on the labels. At the end of the operation, any identical labels are grouped together. In this case, all dogs and cats are combined then the average of their respective weights is calculated. \n",
    "\n",
    "<b>-Example 6:</b> In this case the anonymous function is modified to return the example number. This results in groups according to `1`, `2`, and `3` and the average weights are calculated for these groups. \n",
    "\n",
    "<b>-Example 7:</b> `series.where(condition,fill_value)` returns a new series with `NaN` values where the `condition` is `False`. Optionally, a `fill_value` or function can be supplied to modify the values for which the `condition` is `False` (i.e., `t/10` in this case).\n",
    "\n",
    "<b>-Example 8:</b> `series.mask(condition,fill_value)` returns a new series with `NaN` values where the `condition` is `True`. Optionally, a `fill_value` or function can be supplied to modify the values for which the `condition` is `True` (i.e., `np.exp(t)` in this case).\n",
    "\n",
    "<b>Searching Series:</b> You will often want to return only certain values from a series based on either label, position, or value, that slicing alone cannot achieve. The relevant methods for searching operations are `series.filter()`, `series.truncate()`, `series.nlargest()`,`series.nsmallest()`,`series.idxmax()`, and `series.idxmin()`:"
   ]
  },
  {
   "cell_type": "code",
   "execution_count": null,
   "metadata": {
    "colab": {
     "base_uri": "https://localhost:8080/",
     "height": 353
    },
    "colab_type": "code",
    "executionInfo": {
     "elapsed": 658,
     "status": "ok",
     "timestamp": 1580856147272,
     "user": {
      "displayName": "",
      "photoUrl": "",
      "userId": "11084403397391204350"
     },
     "user_tz": 300
    },
    "id": "mdGo9K7axmLI",
    "outputId": "919ec864-3e17-41af-b1c4-9e9ff22c168b"
   },
   "outputs": [],
   "source": [
    "t = pd.Series([10.1,18.9,21.2,7.5,8.1,6.8],index=[\"dog_1\",\"dog_2\",\"dog_3\",\"cat_1\",\"cat_2\",\"cat_3\"])\n",
    "u = pd.Series(range(5))\n",
    "\n",
    "# Example 1: using filter to return specific labels\n",
    "print(t.filter(items=[\"dog_1\",\"cat_2\"]))\n",
    "\n",
    "# Example 2: using filter to return labels that \n",
    "#            contain a string\n",
    "print(t.filter(like=\"cat\"))\n",
    "\n",
    "# Example 3: using truncate on ordered index\n",
    "print(u.truncate(3,4))\n",
    "\n",
    "# Example 4: returing the n largest values\n",
    "print(t.nlargest(3))\n",
    "\n",
    "# Example 5: returning the n smallest values\n",
    "print(t.nsmallest(3))\n",
    "\n",
    "# Example 6: returning the label of the maximum value\n",
    "print(t.idxmax())\n",
    "\n",
    "# Example 7: returning the label of the minimum value\n",
    "print(t.idxmin())"
   ]
  },
  {
   "cell_type": "markdown",
   "metadata": {
    "colab_type": "text",
    "id": "cdOLkC_MxmLL"
   },
   "source": [
    "<b>-Example 1:</b> `series.filter` is used to return the values corresponding to the indicated labels. When used in `items` mode, the result is the same as slicing with the list of labels. \n",
    "\n",
    "<b>-Example 2:</b> `series.filter` is used to return the labels that contain the indicated string. When used in `like` mode, the result is based on a substring match. \n",
    "    \n",
    "<b>-Example 3:</b> `series.truncate(before,after)` returns a new series from label `before` to label `after` (inclusive). If only `before` or `after` is supplied then a one-sided truncation is performed. \n",
    "\n",
    "<b>-Example 4:</b> `series.nlargest(n)` returns the `n` largest values. \n",
    "\n",
    "<b>-Example 5:</b> `series.nsmallest(n)` returns the `n` smallest values. \n",
    "\n",
    "<b>-Example 6:</b> `series.idxmax()` returns the label of the largest value.\n",
    "\n",
    "<b>-Example 7:</b> `series.idxmin()` returns the label of the smallest value.\n",
    "\n",
    "This just scratches the surface of the methods belonging to series and their arguments. You will learn as you go. "
   ]
  },
  {
   "cell_type": "markdown",
   "metadata": {
    "colab_type": "text",
    "id": "LhcplZxRAEbn"
   },
   "source": [
    "## Pandas Dataframes\n",
    "Pandas <b>dataframes</b> are similar to <b>series</b> except that they are two dimensional and hold a <b>header</b> for each column. You can think of dataframes as being analogous to tabular data, where you have distinct features in each column. At the implementation level, you can think of dataframes as combining multiple <b>series</b> into a single object with a shared <b>index</b>. Specifically, \"you can think of dataframes as a dictionary of series\" according to pandas docs. Thus, dataframes share many of the attributes and methods of series, except that they have specialized arguments for negotiating which columns to apply things to.\n",
    "\n",
    "### Initializing Dataframes\n",
    " Initializing a pandas dataframe is as simple as passing a list to the `DataFrame()` constructor:"
   ]
  },
  {
   "cell_type": "code",
   "execution_count": null,
   "metadata": {
    "colab": {
     "base_uri": "https://localhost:8080/",
     "height": 118
    },
    "colab_type": "code",
    "executionInfo": {
     "elapsed": 390,
     "status": "ok",
     "timestamp": 1580991245685,
     "user": {
      "displayName": "",
      "photoUrl": "",
      "userId": "11084403397391204350"
     },
     "user_tz": 300
    },
    "id": "Gq7Vl6ToBijJ",
    "outputId": "51f89660-df6e-4b91-99de-64308fac0d19"
   },
   "outputs": [],
   "source": [
    "import pandas as pd\n",
    "import numpy as np\n",
    "h = pd.DataFrame(range(5))\n",
    "print(h)"
   ]
  },
  {
   "cell_type": "markdown",
   "metadata": {
    "colab_type": "text",
    "id": "HLW_4bQpCo-x"
   },
   "source": [
    "Similar to series, you can see that the dataframes are initialized with an integer <b>index</b>. However, dataframes also have an additional `0` over the top of the column. This is the column <b>label</b> (sometimes we will call it a <b>header</b> to distinguish between column labels and row labels). Like the index, it can be customized:"
   ]
  },
  {
   "cell_type": "code",
   "execution_count": null,
   "metadata": {
    "colab": {
     "base_uri": "https://localhost:8080/",
     "height": 118
    },
    "colab_type": "code",
    "executionInfo": {
     "elapsed": 946,
     "status": "ok",
     "timestamp": 1580946354945,
     "user": {
      "displayName": "",
      "photoUrl": "",
      "userId": "11084403397391204350"
     },
     "user_tz": 300
    },
    "id": "17_IXsztDKea",
    "outputId": "e721700e-3e08-432e-85b7-9f4807df8997"
   },
   "outputs": [],
   "source": [
    "b = pd.DataFrame(range(5), columns = [ \"c1\" ])\n",
    "print(b)"
   ]
  },
  {
   "cell_type": "markdown",
   "metadata": {
    "colab_type": "text",
    "id": "sNBPo3-6uf9g"
   },
   "source": [
    "The `columns` argument acts similar to the `index` argument. The former must match the number of rows in length, and the latter must match the number of columns. Notice that the dataframe constructor interpreted the list as a column spanning rows, not a row spanning columns. A list-of-lists is interpreted as \"list of rows\", for instance: "
   ]
  },
  {
   "cell_type": "code",
   "execution_count": null,
   "metadata": {
    "colab": {
     "base_uri": "https://localhost:8080/",
     "height": 67
    },
    "colab_type": "code",
    "executionInfo": {
     "elapsed": 418,
     "status": "ok",
     "timestamp": 1580946655187,
     "user": {
      "displayName": "",
      "photoUrl": "",
      "userId": "11084403397391204350"
     },
     "user_tz": 300
    },
    "id": "zCqQkqu1u9qI",
    "outputId": "b8b34cb6-2283-4bf2-d7f8-c6b9dea5c842"
   },
   "outputs": [],
   "source": [
    "c = pd.DataFrame([range(5),range(5)])\n",
    "print(c)"
   ]
  },
  {
   "cell_type": "markdown",
   "metadata": {
    "colab_type": "text",
    "id": "7fsALLHNDvy7"
   },
   "source": [
    "If you were just initializing large chunks of numbers in this fashion passing a numpy array might be more natural:"
   ]
  },
  {
   "cell_type": "code",
   "execution_count": null,
   "metadata": {
    "colab": {
     "base_uri": "https://localhost:8080/",
     "height": 67
    },
    "colab_type": "code",
    "executionInfo": {
     "elapsed": 407,
     "status": "ok",
     "timestamp": 1580946744449,
     "user": {
      "displayName": "",
      "photoUrl": "",
      "userId": "11084403397391204350"
     },
     "user_tz": 300
    },
    "id": "_F1AU79hxICd",
    "outputId": "42d95b1b-406b-4f56-aa6a-5bea5fe0c59c"
   },
   "outputs": [],
   "source": [
    "d = pd.DataFrame(np.zeros([2,6]))\n",
    "print(d)"
   ]
  },
  {
   "cell_type": "markdown",
   "metadata": {
    "colab_type": "text",
    "id": "SV-b3CPBxQ0f"
   },
   "source": [
    "You can pass multiple columns and their headers all at once via dictionary:"
   ]
  },
  {
   "cell_type": "code",
   "execution_count": null,
   "metadata": {
    "colab": {
     "base_uri": "https://localhost:8080/",
     "height": 67
    },
    "colab_type": "code",
    "executionInfo": {
     "elapsed": 271,
     "status": "ok",
     "timestamp": 1580991822905,
     "user": {
      "displayName": "",
      "photoUrl": "",
      "userId": "11084403397391204350"
     },
     "user_tz": 300
    },
    "id": "9QyVUlMnFMTC",
    "outputId": "1a544b34-27e1-4d57-95d2-5a1c9729abfd"
   },
   "outputs": [],
   "source": [
    "e = pd.DataFrame({\"c0\":[0,3],\"c1\":[1,4],\"c2\":[2,5]},index=[\"r0\",\"r1\"])\n",
    "print(e)"
   ]
  },
  {
   "cell_type": "markdown",
   "metadata": {
    "colab_type": "text",
    "id": "HTcU-KBBGUOt"
   },
   "source": [
    "Dataframes are inherently 2D and column-centric. This is consistent with their design for handling tabular data. In a tabular format, like excel, columns typically hold independent data types (e.g., temperature, concentrations, yield, impurity, etc.) that might logically require distinct headers. This is the rationale behind the behavior of initialization with dictionaries, whereby keys are headers and values are the columns. This rational also governs other methods that we'll encounter.\n",
    "\n",
    "<b>Renaming Labels</b>: The index and columns are both attributes of the dataframe (`dataframe.index` and `dataframe.columns`, respectively) that can be set manually"
   ]
  },
  {
   "cell_type": "code",
   "execution_count": null,
   "metadata": {
    "colab": {
     "base_uri": "https://localhost:8080/",
     "height": 118
    },
    "colab_type": "code",
    "executionInfo": {
     "elapsed": 396,
     "status": "ok",
     "timestamp": 1580992141119,
     "user": {
      "displayName": "",
      "photoUrl": "",
      "userId": "11084403397391204350"
     },
     "user_tz": 300
    },
    "id": "ofijFpXt0VOj",
    "outputId": "1e300e36-2fca-4913-94ad-9dbc99556336"
   },
   "outputs": [],
   "source": [
    "e = pd.DataFrame({\"c0\":[0,3],\"c1\":[1,4],\"c2\":[2,5]},index=[\"r0\",\"r1\"])\n",
    "e.index = [\"trial_1\",\"trial_2\"]\n",
    "e.columns = [\"ease\",\"use\",\"quality\"]\n",
    "print(e)"
   ]
  },
  {
   "cell_type": "markdown",
   "metadata": {
    "colab_type": "text",
    "id": "wi1HmyBm4N0z"
   },
   "source": [
    "<b>Initializing from File:</b> Pandas supports importing data from a large variety of file types, including excel, delimited text files, and JSON, among many others. Initializing dataframes from files is more common than the direct initializations described above. The associated `pd.` functions are:\n",
    "\n",
    "- `read_csv(file,index_col=None,sep=',',header=0)` can be used to initialize a dataframe from a comma delimited file. The `index_col` can be optionally assigned to use one of the columns as an index for the dataframe. The `sep` argument can be used to read space-delimited or arbitrarily delimited files. The `header` argument can be used to select the line used for defining the header names\n",
    "\n",
    "- `read_excel(file,sheetname=0,header=0,index_col=None)` can be used to initialize a dataframe from an excel spreadsheet. The `sheetname` argument can be used to read a particular sheet from a multisheet spreadsheet (0-indexed, or you can supply the name directly). If you supply a list to `sheetname` then a dictionary is returned, with keys corresponding to the sheet names and values corresponding to the individual dataframes. The `header` and `index_col` arguments have similar behavior to `read_csv`. \n",
    "\n",
    "Example of typical usage:"
   ]
  },
  {
   "cell_type": "code",
   "execution_count": null,
   "metadata": {
    "colab": {
     "base_uri": "https://localhost:8080/",
     "height": 431
    },
    "colab_type": "code",
    "executionInfo": {
     "elapsed": 207,
     "status": "ok",
     "timestamp": 1580994045337,
     "user": {
      "displayName": "",
      "photoUrl": "",
      "userId": "11084403397391204350"
     },
     "user_tz": 300
    },
    "id": "x5HOL1CqiW1m",
    "outputId": "357c91d6-0e00-42da-e8aa-52b57b184176"
   },
   "outputs": [],
   "source": [
    "f = pd.read_csv('impurities.txt',sep=r\"\\s+\",index_col=0)\n",
    "f # only works in notebooks"
   ]
  },
  {
   "cell_type": "markdown",
   "metadata": {
    "colab_type": "text",
    "id": "lacKj0RSjimz"
   },
   "source": [
    "<b>Note</b>: `sep=\" \"` only uses a single white-space as a delimiter, whereas the `sep=r\"\\s+\"` is recommended usage for using contiguous spaces as a delimiter.\n",
    "\n",
    "<b>Note</b>: dataframes have a built-in method for displaying excel like tables when you call them as a stand-alone command (`f` above).\n",
    "\n",
    "Each of the corresponding methods for reading dataframes from files is extremely flexible and has many more options, including for things like adding your own column names, only parsing subsets of columns and/or rows, and skipping lines at the beginning or end of the file. See the panda docs for more information."
   ]
  },
  {
   "cell_type": "markdown",
   "metadata": {
    "colab_type": "text",
    "id": "ITvf_Q58nuIw"
   },
   "source": [
    "### Dataframe Up-casting Behavior\n",
    "Dataframes exhibit similar up-casting behavior to series, except that up-casting is applied on a <i>column by column<i> basis:"
   ]
  },
  {
   "cell_type": "code",
   "execution_count": null,
   "metadata": {
    "colab": {
     "base_uri": "https://localhost:8080/",
     "height": 151
    },
    "colab_type": "code",
    "executionInfo": {
     "elapsed": 292,
     "status": "ok",
     "timestamp": 1580994443575,
     "user": {
      "displayName": "",
      "photoUrl": "",
      "userId": "11084403397391204350"
     },
     "user_tz": 300
    },
    "id": "07Qb7ySOcFrb",
    "outputId": "aa59bfe0-fa21-41c3-a972-bb3e51bc70d5"
   },
   "outputs": [],
   "source": [
    "g = pd.DataFrame([[1,2+5J],[100.0,\"100\"]])\n",
    "print(g)\n",
    "print(\"\\ntypes:\\n{}\".format(g.dtypes))"
   ]
  },
  {
   "cell_type": "markdown",
   "metadata": {
    "colab_type": "text",
    "id": "XKQ3N9wQc03u"
   },
   "source": [
    "Here, the `.dtypes` method of dataframes has been used to print out the type of each column. In column 0, all of the data is numeric, so it is upcast to floats. In column 1, the data is mixed so each type is retained.\n",
    "\n",
    "You can also use the `dtypes` argument in the constructor to attempt to force casting (if the casting can't be performed it will revert to retaining objects). The `dataframe.astype()` method is also useful for converting types by column or for converting the whole dataframe. "
   ]
  },
  {
   "cell_type": "markdown",
   "metadata": {
    "colab_type": "text",
    "id": "mkr2deigAwLf"
   },
   "source": [
    "### Dataframe Slicing\n",
    "If you use `[]` notation label-based slicing is interpreted in \"row-label\" fashion. If you utilize integers it is interpreted in \"row-position\" fashion. If you utilize `[]` notation with a single column label then the corresponding column is returned as series. We'll briefly review these here for completeness, but the subsequent `iloc` and `loc` methods are more common for slicing dataframes:"
   ]
  },
  {
   "cell_type": "code",
   "execution_count": null,
   "metadata": {
    "colab": {
     "base_uri": "https://localhost:8080/",
     "height": 454
    },
    "colab_type": "code",
    "executionInfo": {
     "elapsed": 525,
     "status": "ok",
     "timestamp": 1580957711317,
     "user": {
      "displayName": "",
      "photoUrl": "",
      "userId": "11084403397391204350"
     },
     "user_tz": 300
    },
    "id": "-i5MveuTA3qT",
    "outputId": "283c44f0-c069-4f10-b3e0-c112da90f3c9"
   },
   "outputs": [],
   "source": [
    "h = pd.DataFrame({\"c0\":[0,3,6],\"c1\":[1,4,7],\"c2\":[2,5,8]},index=[\"r0\",\"r1\",\"r2\"])\n",
    "\n",
    "# Example 1: slice rows by position\n",
    "print(\"h[0:2]:\\n{}\\n\".format(h[0:2]))\n",
    "\n",
    "# Example 2: return every other row\n",
    "print(\"h[::2]:\\n{}\\n\".format(h[::2]))\n",
    "\n",
    "# Example 3: return two rows\n",
    "print(\"h['r1':'r2']:\\n{}\\n\".format(h['r1':'r2']))\n",
    "\n",
    "# Example 4: return a column as a series\n",
    "print(\"h['c1']:\\n{}\\n\".format(h['c1']))\n",
    "\n",
    "# Example 5: return part of a column\n",
    "print(\"h['c1'][:1]:\\n{}\\n\".format(h['c1'][1:]))\n",
    "\n"
   ]
  },
  {
   "cell_type": "markdown",
   "metadata": {
    "colab_type": "text",
    "id": "c2MlLUo7Wc1W"
   },
   "source": [
    "<b>-Example 1:</b> integer based slicing is interpreted in row position-based fashion. \n",
    "\n",
    "<b>-Example 2:</b> stride is supported for row-based slicing\n",
    "    \n",
    "<b>-Example 3:</b> row label-based slicing is end-inclusive (similar to series).\n",
    "\n",
    "<b>-Example 4:</b> `dataframe[columnlabel]` returns the corresponding column as a series.\n",
    "\n",
    "<b>-Example 4:</b> The `['c1']` returns a series that is then sliced by position `[:1]`.\n",
    "\n",
    "<b>iloc and loc Methods:</b> For dataframes it is more common to utilize `dataframe.iloc[row_slice,column_slice]` and `dataframe.loc[row_slice,column_slice]` for postition-based and label-based slicing, respectively. `.iloc` behaves similarly to numpy array slicing (end exclusive), while `.loc` provides access to label based slicing (end inclusive):"
   ]
  },
  {
   "cell_type": "code",
   "execution_count": null,
   "metadata": {
    "colab": {
     "base_uri": "https://localhost:8080/",
     "height": 470
    },
    "colab_type": "code",
    "executionInfo": {
     "elapsed": 563,
     "status": "ok",
     "timestamp": 1580958829202,
     "user": {
      "displayName": "",
      "photoUrl": "",
      "userId": "11084403397391204350"
     },
     "user_tz": 300
    },
    "id": "2qwtnXWyVCrL",
    "outputId": "12c7f589-1343-4dad-d4ca-61ae17dbb854"
   },
   "outputs": [],
   "source": [
    "h = pd.DataFrame({\"c0\":[0,3,6],\"c1\":[1,4,7],\"c2\":[2,5,8]},index=[\"r0\",\"r1\",\"r2\"])\n",
    "\n",
    "# Example 1: location based slicing (row,col)\n",
    "print(\"h.iloc[0:2,0:2]:\\n{}\\n\".format(h.iloc[0:2,0:2]))\n",
    "\n",
    "# Example 2: label based slicing (row,col)\n",
    "print(\"h.loc['r1':'r2']['c2']:\\n{}\\n\".format(h.loc['r1':'r2']['c2'])) # h.loc['r1':'r2','c2'] slices same\n",
    "\n",
    "# Example 3: list-based iloc\n",
    "print(\"h.iloc[[1,0],[2,0]]:\\n{}\\n\".format(h.iloc[[1,0],[2,0]]))\n",
    "\n",
    "# Example 4: list-based loc\n",
    "print(\"h.loc[['r2','r0','r1'],['c1','c0']]:\\n{}\\n\".format(h.loc[['r2','r0','r1'],['c1','c0']]))"
   ]
  },
  {
   "cell_type": "markdown",
   "metadata": {
    "colab_type": "text",
    "id": "0MN5gh_5eR1U"
   },
   "source": [
    "<b>-Example 1:</b> `iloc[row_slice,col_slice]` behaves similar to slicing with numpy arrays. \n",
    "\n",
    "<b>-Example 2:</b> `loc[row_slice,col_slice]` is end-inclusive.\n",
    "    \n",
    "<b>-Example 3:</b> lists of positions can be supplied to `iloc` to return rows and/or columns (<b>not items</b>) in a given order.\n",
    "\n",
    "<b>-Example 4:</b> lists of labels can be supplied to `loc` to return rows and/or columns (<b>not items</b>) in a given order.\n",
    "\n",
    "<b>Conditional Slicing:</b> Conditional slicing on dataframes results in a returned series that has all `False` values masked as `NaN` values. You can chain conditions as with series:"
   ]
  },
  {
   "cell_type": "code",
   "execution_count": null,
   "metadata": {
    "colab": {
     "base_uri": "https://localhost:8080/",
     "height": 655
    },
    "colab_type": "code",
    "executionInfo": {
     "elapsed": 1281,
     "status": "ok",
     "timestamp": 1581180648383,
     "user": {
      "displayName": "",
      "photoUrl": "",
      "userId": "11084403397391204350"
     },
     "user_tz": 300
    },
    "id": "lafyp-oggxBm",
    "outputId": "706c0634-2ae5-4aec-b1b4-924489a238ae"
   },
   "outputs": [],
   "source": [
    "h = pd.DataFrame({\"c0\":[0,3,6],\"c1\":[1,4,7],\"c2\":[2,5,8]},index=[\"r0\",\"r1\",\"r2\"])\n",
    "\n",
    "# Example 1: conditional slicing on dataframe\n",
    "print(\"h>4:\\n{}\".format(h>4))\n",
    "print(\"\\nh[h>4]:\\n{}\".format(h[h>4]))\n",
    "\n",
    "# Example 2: chained conditional slicing\n",
    "print(\"\\nh[h>4][h<7]:\\n{}\".format(h[h>4][h<7]))\n",
    "\n",
    "# Example 3: conditional slicing on specific columns\n",
    "print(\"\\nh['c2']>3:\\n{}\".format(h['c2']>3))\n",
    "print(\"\\nh[h['c2']>3]:\\n{}\".format(h[h['c2']>3]))\n",
    "\n",
    "# Example 4: conditional slicing with \"not\" (~)\n",
    "print(\"\\n~h['c2']>3:\\n{}\".format(~(h['c2']>3)))\n",
    "print(\"\\nh[~(h['c2']>3)]:\\n{}\".format(h[~(h['c2']>3)]))\n"
   ]
  },
  {
   "cell_type": "markdown",
   "metadata": {
    "colab_type": "text",
    "id": "51nor1TGkPk9"
   },
   "source": [
    "<b>-Example 1:</b> conditional slicing returns a dataframe of the same size but with the `False` values masked by `NaN`. Dataframes accept boolean arrays of the same shape as masks for current values. \n",
    "\n",
    "<b>-Example 2:</b> multiple conditions can be combined through chaining.\n",
    "\n",
    "<b>-Example 3:</b> conditional slicing on specific columns can be used to only return rows where the condition is met. \n",
    "\n",
    "<b>-Example 4:</b> the tilde (`~`) is the logical 'not' (i.e., reverses all `False` and `True` conditions). This can be used to return the rows where something is 'not` True.  \n",
    "\n"
   ]
  },
  {
   "cell_type": "markdown",
   "metadata": {
    "colab_type": "text",
    "id": "CbITrMI-gZV7"
   },
   "source": [
    "### Dataframe Operator Behavior\n",
    "By default operators align on column and row labels. \n"
   ]
  },
  {
   "cell_type": "code",
   "execution_count": null,
   "metadata": {
    "colab": {
     "base_uri": "https://localhost:8080/",
     "height": 790
    },
    "colab_type": "code",
    "executionInfo": {
     "elapsed": 265,
     "status": "ok",
     "timestamp": 1580997004756,
     "user": {
      "displayName": "",
      "photoUrl": "",
      "userId": "11084403397391204350"
     },
     "user_tz": 300
    },
    "id": "nGSWbSrfk4TO",
    "outputId": "ba92d0cc-26b7-47a9-f937-9475f721f1a9"
   },
   "outputs": [],
   "source": [
    "i = pd.DataFrame(np.arange(9).reshape([3,3]),index=[\"r0\",\"r1\",\"r2\"],columns=[\"c0\",\"c1\",\"c2\"])\n",
    "j = pd.DataFrame(np.arange(9).reshape([3,3])[::-1][:,::-1],index=[\"r2\",\"r1\",\"r0\"],columns=[\"c2\",\"c1\",\"c0\"])\n",
    "k = pd.DataFrame(np.arange(9).reshape([3,3]),index=[\"r0\",\"r1\",\"r2\"],columns=[\"c0\",\"c0\",\"c0\"])\n",
    "l = pd.DataFrame(np.arange(9).reshape([3,3]),index=[\"r0\",\"r0\",\"r0\"],columns=[\"c0\",\"c1\",\"c2\"])\n",
    "m = pd.DataFrame(np.arange(9).reshape([3,3]),index=[\"r1\",\"r1\",\"r1\"],columns=[\"c0\",\"c0\",\"c0\"])\n",
    "\n",
    "print(\"i:\\n{}\\n\".format(i))\n",
    "print(\"j:\\n{}\\n\".format(j))\n",
    "print(\"k:\\n{}\\n\".format(k))\n",
    "print(\"l:\\n{}\\n\".format(l))\n",
    "print(\"m:\\n{}\\n\".format(m))\n",
    "\n",
    "# Example 1: label matched operator application\n",
    "print(\"i+i:\\n{}\\n\".format(i+i))\n",
    "\n",
    "# Example 2: labels match on both rows and columns\n",
    "print(\"i+j:\\n{}\\n\".format(i+j))\n",
    "\n",
    "# Example 3: repeated columns (OLD: c0 from i is added to all c0 from k)\n",
    "# print(\"\\ni+k:\\n{}\".format(i+k))  # gives error\n",
    "\n",
    "# Example 4: repeated rows (OLD: r0 from i is added to all r0 from l)\n",
    "#print(\"\\ni+l:\\n{}\".format(i+l))  # gives error\n",
    "\n",
    "# Example 5: repeated rows and columns (OLD: only r1,c1 from i is added)\n",
    "#print(\"\\ni+m:\\n{}\".format(i+m)) # gives error\n",
    "\n",
    "# Example 6: adding dataframes with both repeated labels\n",
    "print(\"\\nm+m:\\n{}\".format(m+m))\n",
    "\n",
    "# Example 7: adding dataframes with semi-repeated labels\n",
    "print(\"\\nm+k:\\n{}\".format(m+k))"
   ]
  },
  {
   "cell_type": "markdown",
   "metadata": {
    "colab_type": "text",
    "id": "LstuQwg8tAFZ"
   },
   "source": [
    "<b>-Example 1:</b> Where there are overlapping lables in both columns and rows, operators align on labels.\n",
    "\n",
    "<b>-Example 2:</b> Same result as in example 1 due to label alignment.\n",
    "\n",
    "<b>-Example 3:</b> The `c0` column from `i` is added to all of the `c0` columns in `k`. Non-overlapping labels result in `NaN`.\n",
    "\n",
    "<b>-Example 4:</b> The `r0` row from `i` is added to all of the `r0` rows in `l`. Non-overlapping labels result in `NaN`.\n",
    "\n",
    "<b>-Example 5:</b> The `r1` `c1` element from `i` (i.e., 3) is added to all elements of `m` due to label matching. Non-overlapping labels result in `NaN`.\n",
    "\n",
    "<b>-Example 6:</b> When two dataframes with repeated column and row labels are added the operation is element-by-element (same result as example 1).\n",
    "\n",
    "<b>-Example 7:</b> `k` has repeated columns but not repeated rows. The operator is applied element-by-element for columns but label matched for rows. \n",
    "\n",
    "All numerical operators act according to the same logic. Logical operators require identical row/column labeling (repeated labels are allowed, but must be identical).\n",
    "\n",
    "Lastly, when you apply operators to dataframes and individual objects (scalars and strings) it is applied to every element of the dataframe. If an array with length equal to the number of columns is given, then it is applied row-by-row:\n"
   ]
  },
  {
   "cell_type": "code",
   "execution_count": null,
   "metadata": {
    "colab": {
     "base_uri": "https://localhost:8080/",
     "height": 118
    },
    "colab_type": "code",
    "executionInfo": {
     "elapsed": 1270,
     "status": "ok",
     "timestamp": 1581115225730,
     "user": {
      "displayName": "",
      "photoUrl": "",
      "userId": "11084403397391204350"
     },
     "user_tz": 300
    },
    "id": "kHMLFZXCe7f7",
    "outputId": "107a0f6c-0f2f-4c4d-e756-4b7de943f1f1"
   },
   "outputs": [],
   "source": [
    "o = pd.DataFrame(np.arange(6).reshape([2,3]))\n",
    "\n",
    "# Example 1: a scalar applied to a dataframe\n",
    "print(\"Example 1:\\n{}\\n\".format(o+10))\n",
    "\n",
    "# Example 2: a row applied to a dataframe\n",
    "print(\"Example 2:\\n{}\\n\".format(o+np.array([2,3,4])))\n"
   ]
  },
  {
   "cell_type": "markdown",
   "metadata": {
    "colab_type": "text",
    "id": "6QUaVfhP0Vr6"
   },
   "source": [
    "### Adding and Dropping Elements\n",
    "As for series, dataframes are stored internally as numpy arrays, so when you add or drop elements from them a whole new array is created internally. You should strive to make large changes to your dataframe all at once. \n",
    "\n",
    "<b>Adding columns:</b> You can add additional columns to  dataframes using `dataframe[header] = column` notation (similar to a dictionary). Columns inserted in this way are placed at the end. The `.insert(pos,name,column_content)` method can be used to insert a column into any position. Similarly, the `.assign(header_1=content_1,header_2=content_2, ...)` method returns a new dataframe with the added columns:\n"
   ]
  },
  {
   "cell_type": "code",
   "execution_count": null,
   "metadata": {
    "colab": {
     "base_uri": "https://localhost:8080/",
     "height": 403
    },
    "colab_type": "code",
    "executionInfo": {
     "elapsed": 612,
     "status": "ok",
     "timestamp": 1581343937505,
     "user": {
      "displayName": "",
      "photoUrl": "",
      "userId": "11084403397391204350"
     },
     "user_tz": 300
    },
    "id": "41FmIQPvntjK",
    "outputId": "a2260857-11f7-46eb-cb44-4453077273f9"
   },
   "outputs": [],
   "source": [
    "p = pd.DataFrame({\"Temperature_K\":[300,310,320],\"Yield\":[56.2,64.3,60.9]})\n",
    "print(\"p:\\n{}\".format(p))\n",
    "\n",
    "# Example 1: dictionary-like method\n",
    "p[\"Facility\"] = [\"Lexington\",\"Lafayette\",\"Lafayette\"]\n",
    "print(\"\\nafter add:\\n{}\".format(p))\n",
    "\n",
    "# Example 2: insert method\n",
    "p.insert(1,\"Pressure\",[1.0,10.0,100.0])\n",
    "print(\"\\nafter p.insert():\\n{}\".format(p))\n",
    "\n",
    "# Example 3: assign method\n",
    "p = p.assign(Batch=[45332,45332,45332],Temperature_C=p[\"Temperature_K\"]-273.15)\n",
    "print(\"\\nafter p.assign():\\n{}\".format(p))"
   ]
  },
  {
   "cell_type": "markdown",
   "metadata": {
    "colab_type": "text",
    "id": "fodsv8StyTGX"
   },
   "source": [
    "<b>Adding Rows</b>: Similar to series you can add rows to dataframes using the `concat()` method. As usual with Pandas objects, it is best to do this all at once to be memory efficient. In this case, it would mean appending a dataframe to an existing dataframe rather than row by row:"
   ]
  },
  {
   "cell_type": "code",
   "execution_count": null,
   "metadata": {
    "colab": {
     "base_uri": "https://localhost:8080/",
     "height": 302
    },
    "colab_type": "code",
    "executionInfo": {
     "elapsed": 698,
     "status": "ok",
     "timestamp": 1581344424670,
     "user": {
      "displayName": "",
      "photoUrl": "",
      "userId": "11084403397391204350"
     },
     "user_tz": 300
    },
    "id": "BLt3NyOH-Gwk",
    "outputId": "0552c548-a723-45fc-cdcc-0099ba1a4c6f"
   },
   "outputs": [],
   "source": [
    "p = pd.DataFrame({\"Temperature_K\":[300,310,320],\"Yield\":[56.2,64.3,60.9]})\n",
    "q = pd.DataFrame({\"Yield\":[56.2,64.3,60.9],\"Temperature_K\":[300,310,320]})\n",
    "r = pd.DataFrame({\"Temperature_K\":[300,310,320],\"Conc\":[0.1,0.1,0.1]})\n",
    "# Example 1: concat with sort\n",
    "print(\"Example 1:\\n{}\".format(pd.concat([p, q], sort=True)))\n",
    "\n",
    "# Example 2: concat with sort\n",
    "print(\"\\nExample 2:\\n{}\".format(pd.concat([p, r], sort=True)))"
   ]
  },
  {
   "cell_type": "markdown",
   "metadata": {
    "colab_type": "text",
    "id": "IzA7lrb2-3tU"
   },
   "source": [
    "<b>-Example 1:</b> The second dataframe is put beneath the first, aligned by column labels. \n",
    "\n",
    "<b>-Example 2:</b> The second dataframe is aligned by column label where they intersect, and new columns are created where they do not with `NaN` in the corresponding positions. \n",
    "\n",
    "<b>Combining Multiple Dataframes:</b> If you want to combine multiple dataframes the `concat([list_of_df],axis=0)` function can be used. This aligns on columns labels and stitches the dataframes together. The optional argument `axis` puts the dataframes side by side when it is `1` and stacks them on top of each other when it is `0`: "
   ]
  },
  {
   "cell_type": "code",
   "execution_count": null,
   "metadata": {
    "colab": {
     "base_uri": "https://localhost:8080/",
     "height": 454
    },
    "colab_type": "code",
    "executionInfo": {
     "elapsed": 534,
     "status": "ok",
     "timestamp": 1581348794873,
     "user": {
      "displayName": "",
      "photoUrl": "",
      "userId": "11084403397391204350"
     },
     "user_tz": 300
    },
    "id": "Z12hzVSkbvZY",
    "outputId": "4c46436b-0074-4efe-9695-0225d43fade9"
   },
   "outputs": [],
   "source": [
    "p = pd.DataFrame({\"Temperature_K\":[300,310,320],\"Yield\":[56.2,64.3,60.9]})\n",
    "q = pd.DataFrame({\"Yield\":[56.2,64.3,60.9],\"Temperature_K\":[300,310,320]})\n",
    "r = pd.DataFrame({\"Temperature_K\":[300,310,320],\"Conc\":[0.1,0.1,0.1]})\n",
    "print(\"Example 1:\\n{}\".format(pd.concat([p,q],axis=0,sort=False)))\n",
    "print(\"\\nExample 2:\\n{}\".format(pd.concat([p,q],axis=1,sort=False)))\n",
    "print(\"\\nExample 3:\\n{}\".format(pd.concat([p,q,r],axis=0,sort=False)))"
   ]
  },
  {
   "cell_type": "markdown",
   "metadata": {
    "colab_type": "text",
    "id": "6ymVLdpQbkNz"
   },
   "source": [
    "In a case like this where there are common headers with partially overlapping labels it is more common that you would want to `merge` the dataframes on their common lables. The `pd.merge(df1,df2)` function supplies this functionality:"
   ]
  },
  {
   "cell_type": "code",
   "execution_count": null,
   "metadata": {
    "colab": {
     "base_uri": "https://localhost:8080/",
     "height": 84
    },
    "colab_type": "code",
    "executionInfo": {
     "elapsed": 609,
     "status": "ok",
     "timestamp": 1581348969673,
     "user": {
      "displayName": "",
      "photoUrl": "",
      "userId": "11084403397391204350"
     },
     "user_tz": 300
    },
    "id": "V_bkqXetdDEB",
    "outputId": "0cffe905-266b-4a5c-9e41-b9c3852f972a"
   },
   "outputs": [],
   "source": [
    "p = pd.DataFrame({\"Temperature_K\":[300,310,320],\"Yield\":[56.2,64.3,60.9]})\n",
    "q = pd.DataFrame({\"Yield\":[56.2,64.3,100],\"Temperature_K\":[300,310,320]})\n",
    "r = pd.DataFrame({\"Temperature_K\":[300,310,320],\"Conc\":[0.1,0.1,0.1]})\n",
    "merged = pd.merge(p,q)\n",
    "merged = pd.merge(merged,r)\n",
    "print(\"Example 1 (merged):\\n{}\".format(merged))"
   ]
  },
  {
   "cell_type": "markdown",
   "metadata": {
    "colab_type": "text",
    "id": "JUEd2O6SbljF"
   },
   "source": [
    "Here the result combines on the common labels in both the rows and columns. During the first merge a value difference is observed in `\"Yield\"` and this row is dropped. This behavior can be modified with `left_on` and `right_on` arguments. Merge has many additional arguments and capabilities, but if you are consistent with your labels, you can get a lot of milage out of the basic usage."
   ]
  },
  {
   "cell_type": "markdown",
   "metadata": {
    "colab_type": "text",
    "id": "4yGoulCLbn3J"
   },
   "source": [
    "<b>Row by Row Addition (not recommended):</b> You can add series to dataframes as rows using the `concat()` method, but in this case the series labels are interpreted as columns for the concat: "
   ]
  },
  {
   "cell_type": "code",
   "execution_count": null,
   "metadata": {
    "colab": {
     "base_uri": "https://localhost:8080/",
     "height": 218
    },
    "colab_type": "code",
    "executionInfo": {
     "elapsed": 223,
     "status": "ok",
     "timestamp": 1580992589608,
     "user": {
      "displayName": "",
      "photoUrl": "",
      "userId": "11084403397391204350"
     },
     "user_tz": 300
    },
    "id": "LUhYEg5eyi2K",
    "outputId": "a81e14e6-08cd-41e8-f789-77744e545676"
   },
   "outputs": [],
   "source": [
    "p = pd.DataFrame({\"Temperature_K\":[300,310,320],\"Yield\":[56.2,64.3,60.9]})\n",
    "print(\"p:\\n{}\".format(p))\n",
    "q = pd.Series([330.0,58.7],index=[\"Temperature_K\",\"Yield\"])\n",
    "# Example: concat with ignore_index\n",
    "print(\"\\nafter concat:\\n{}\".format(pd.concat([p, q], ignore_index=True)))"
   ]
  },
  {
   "cell_type": "markdown",
   "metadata": {
    "colab_type": "text",
    "id": "gpsiD1qT2IgP"
   },
   "source": [
    "We have to use `ignore_labels=True` because there is no row label for the series once it is turned on its side. You can supply the label using the `series.name` attribute (which we didn't discuss above, because it governs the series label upon addition to a dataframe):"
   ]
  },
  {
   "cell_type": "code",
   "execution_count": null,
   "metadata": {
    "colab": {
     "base_uri": "https://localhost:8080/",
     "height": 218
    },
    "colab_type": "code",
    "executionInfo": {
     "elapsed": 360,
     "status": "ok",
     "timestamp": 1580992609994,
     "user": {
      "displayName": "",
      "photoUrl": "",
      "userId": "11084403397391204350"
     },
     "user_tz": 300
    },
    "id": "-jYaEgeF23Z7",
    "outputId": "bbba167e-b73a-493e-fb6f-15a4ec937b19"
   },
   "outputs": [],
   "source": [
    "p = pd.DataFrame({\"Temperature_K\":[300,310,320],\"Yield\":[56.2,64.3,60.9]})\n",
    "print(\"p:\\n{}\".format(p))\n",
    "q = pd.Series([330.0,58.7],name=100,index=[\"Temperature_K\",\"Yield\"])\n",
    "print(\"\\nafter.concat():\\n{}\".format(pd.concat([p, q])))"
   ]
  },
  {
   "cell_type": "markdown",
   "metadata": {
    "colab_type": "text",
    "id": "GhhGti7ehTJO"
   },
   "source": [
    "### Dataframe Methods\n",
    "Dataframes share many of the same methods as Series, but since they are two dimensional they typical offer control over whether you apply methods to row or columns of a dataframe. In this respect, a common method argument that you will see is `axis` which by default is `0`. When present, this argument controls whether the method acts across rows `axis=0` or columns `axis=1`. For example:"
   ]
  },
  {
   "cell_type": "code",
   "execution_count": null,
   "metadata": {
    "colab": {
     "base_uri": "https://localhost:8080/",
     "height": 269
    },
    "colab_type": "code",
    "executionInfo": {
     "elapsed": 515,
     "status": "ok",
     "timestamp": 1581349474769,
     "user": {
      "displayName": "",
      "photoUrl": "",
      "userId": "11084403397391204350"
     },
     "user_tz": 300
    },
    "id": "dU7dVWgZyVeV",
    "outputId": "a40e917c-fd6c-4300-c292-45d2b165eab8"
   },
   "outputs": [],
   "source": [
    "df = pd.DataFrame({\"c1\":[1,2],\"c2\":[3,4],\"c3\":[5,6]},index=[\"r1\",\"r2\"])\n",
    "print(\"df:\\n{}\".format(df))\n",
    "print(\"\\ndf.mean(axis=0):\\n{}\".format(df.mean(axis=0)))\n",
    "print(\"\\ndf.mean(axis=1):\\n{}\".format(df.mean(axis=1)))"
   ]
  },
  {
   "cell_type": "markdown",
   "metadata": {
    "colab_type": "text",
    "id": "41OFImKJ1_jM"
   },
   "source": [
    "#### Filter Methods\n",
    "Finding and analyzing subsets of dataframes is an extremely common activity generally called \"filtering\". Filtering is an area where Pandas shines. At the center of this functionality is the `groupby` method, the `df[column].str.` methods and conditional slicing, which we covered above but will revisit here. In combination, these methods allow you to easily view and/or modify subsets of larger dataframes. Here is a typical example of how `groupby` is useful:  "
   ]
  },
  {
   "cell_type": "code",
   "execution_count": null,
   "metadata": {
    "colab": {
     "base_uri": "https://localhost:8080/",
     "height": 1000
    },
    "colab_type": "code",
    "executionInfo": {
     "elapsed": 746,
     "status": "ok",
     "timestamp": 1581350338391,
     "user": {
      "displayName": "",
      "photoUrl": "",
      "userId": "11084403397391204350"
     },
     "user_tz": 300
    },
    "id": "iGgdu7qihWiB",
    "outputId": "ebd8268f-1f73-4ed7-bc3f-8205c08f81bd"
   },
   "outputs": [],
   "source": [
    "df = pd.read_csv(\"plant_data.txt\",index_col=0)\n",
    "\n",
    "print(\"data:\\n{}\".format(df))\n",
    "\n",
    "# Example 1: group by column\n",
    "groups = df.groupby(\"plant\") # creates a pandas groupby object\n",
    "print(\"\\nplant means:\\n{}\".format(groups.mean()))\n",
    "  \n",
    "# Example 2: iterating over groups\n",
    "for name,group in groups:\n",
    "  print(\"\\nplant: {}\\n{}\".format(name,group))\n",
    "\n",
    "# Example 3: grab an individual group\n",
    "print(\"\\nhouston data:\\n{}\".format(groups.get_group(\"houston\")))\n"
   ]
  },
  {
   "cell_type": "markdown",
   "metadata": {
    "colab_type": "text",
    "id": "NLRiFp5kuljh"
   },
   "source": [
    "The dataframe we are working with has data for specific plants over several years. It is typical that we might want to process this data by year and/or by plant depending on our needs.\n",
    "\n",
    "<b>Example 1:</b> averages are calculated over all years of each plant by using the `groupby('plant')` method then the `mean()` method on each group.\n",
    "\n",
    "<b>Example 2:</b> The object returned by the `groupby()` supports iteration over the group names and their dataframes. \n",
    "\n",
    "<b>Example 3:</b> The object returned by the `groupby()` method also has methods for accessing specific groups (e.g., `.get_group()`) and other operations (see docs for additional details).\n",
    "\n",
    "For columns with string-values the `df[column].str` methods `str.startswith()`, `str.endswith()`, and `str.contains()` allow you to filter the dataframe by these conditions. "
   ]
  },
  {
   "cell_type": "code",
   "execution_count": null,
   "metadata": {
    "colab": {
     "base_uri": "https://localhost:8080/",
     "height": 1000
    },
    "colab_type": "code",
    "executionInfo": {
     "elapsed": 661,
     "status": "ok",
     "timestamp": 1581189188079,
     "user": {
      "displayName": "",
      "photoUrl": "",
      "userId": "11084403397391204350"
     },
     "user_tz": 300
    },
    "id": "Xjob2p6RvBFj",
    "outputId": "e140a471-fe0c-4f2f-866f-e992e1f56d3d"
   },
   "outputs": [],
   "source": [
    "df = pd.read_csv(\"plant_data.txt\",index_col=0)\n",
    "\n",
    "print(\"data:\\n{}\".format(df))\n",
    "print(\"\\ndf[df['plant'].str.startswith('l')]:\\n{}\".format(df[df['plant'].str.startswith('l')]))\n",
    "print(\"\\ndf[df['plant'].str.endswith('e')]:\\n{}\".format(df[df['plant'].str.endswith('e')]))\n",
    "print(\"\\ndf[df['plant'].str.contains('ton')]:\\n{}\".format(df[df['plant'].str.contains('ton')]))"
   ]
  },
  {
   "cell_type": "markdown",
   "metadata": {
    "colab_type": "text",
    "id": "ZqTzUEZX0FxD"
   },
   "source": [
    "Conditional slicing is useful for finding values/rows that meet a specified condition. "
   ]
  },
  {
   "cell_type": "code",
   "execution_count": null,
   "metadata": {
    "colab": {
     "base_uri": "https://localhost:8080/",
     "height": 202
    },
    "colab_type": "code",
    "executionInfo": {
     "elapsed": 1174,
     "status": "ok",
     "timestamp": 1581189170407,
     "user": {
      "displayName": "",
      "photoUrl": "",
      "userId": "11084403397391204350"
     },
     "user_tz": 300
    },
    "id": "Ll4RQS3d0nWj",
    "outputId": "bed341b2-6de2-438c-952e-764ad7a8fdf0"
   },
   "outputs": [],
   "source": [
    "df = pd.read_csv(\"plant_data.txt\",index_col=0)\n",
    "\n",
    "# Example 1: find the years that the houston plant kept\n",
    "#            costs below 7m\n",
    "print(\"Example 1:\\n\")\n",
    "print(df[(df[\"plant\"] == \"houston\") & (df[\"costs(100k)\"] <70)])\n",
    "\n",
    "# Example 2: find the years that the lafayette plant kept\n",
    "#            costs below 7m and production above 60 tons\n",
    "print(\"\\nExample 2:\\n\")\n",
    "print(df[(df[\"plant\"] == \"lafayette\") & (df[\"costs(100k)\"] < 70) & (df[\"yield(tons)\"] > 60)])\n"
   ]
  },
  {
   "cell_type": "markdown",
   "metadata": {
    "colab_type": "text",
    "id": "5UNyN9m6DhLO"
   },
   "source": [
    "In these cases we have utilized the `&` operator to join the results of multiple logical operations. These expressions look formidable at first but after you get used to it conditional slicing provides you with the ability to perform  arbitrarily complex queries of your dataframe. "
   ]
  },
  {
   "cell_type": "markdown",
   "metadata": {
    "colab_type": "text",
    "id": "8V8Uh9CZEIC9"
   },
   "source": [
    "#### Sorting Methods\n",
    "After merging and combining dataframes you might want to sort the dataframes based on the values of a column or columns. The relevant method is `dataframe.sort_values(column_label,ascending=True)`, where `column_label` is a single column label and the `ascending` argument determines the ordering. You can also supply a list of column labels and optionally a list of booleans to `ascending` in which case the columns after the first are used to break ties according to the optional booleans in the `ascending` argument:"
   ]
  },
  {
   "cell_type": "code",
   "execution_count": null,
   "metadata": {
    "colab": {
     "base_uri": "https://localhost:8080/",
     "height": 739
    },
    "colab_type": "code",
    "executionInfo": {
     "elapsed": 809,
     "status": "ok",
     "timestamp": 1581189157772,
     "user": {
      "displayName": "",
      "photoUrl": "",
      "userId": "11084403397391204350"
     },
     "user_tz": 300
    },
    "id": "coR6qFbyFaxC",
    "outputId": "ecfab00a-c0ef-4eaa-c3ae-cda1cd88c30d"
   },
   "outputs": [],
   "source": [
    "df = pd.read_csv(\"plant_data.txt\",index_col=0)\n",
    "\n",
    "# Example 1: Sort based on year\n",
    "print(\"Example 1 (sort based on year):\\n\")\n",
    "print(df.sort_values('year'))\n",
    "\n",
    "# Example 2: Sort based on year then yield\n",
    "print(\"\\nExample 2 (sort based on year and yield):\\n\")\n",
    "print(df.sort_values(['year','yield(tons)'],ascending=[True,False]))\n"
   ]
  },
  {
   "cell_type": "markdown",
   "metadata": {
    "colab_type": "text",
    "id": "yw-FhlB-PXzA"
   },
   "source": [
    "#### Missing Values\n",
    "Often times you will work with datasets that are incomplete, have corrupted values, or are with values that are removed because you've identified them as outliers. Dataframes come with several built-in methods that are relevant for identifying (`.isna()`, `.notna()`) these values and dropping rows involving them them (`.dropna(how='any')`).\n",
    "\n",
    "First let's replace some values random `NaN` values in the  plant dataset."
   ]
  },
  {
   "cell_type": "code",
   "execution_count": null,
   "metadata": {
    "colab": {
     "base_uri": "https://localhost:8080/",
     "height": 336
    },
    "colab_type": "code",
    "executionInfo": {
     "elapsed": 756,
     "status": "ok",
     "timestamp": 1581369518995,
     "user": {
      "displayName": "",
      "photoUrl": "",
      "userId": "11084403397391204350"
     },
     "user_tz": 300
    },
    "id": "MNhTJgwGxiql",
    "outputId": "074c6db4-d125-4481-fadc-f467bb8c912e"
   },
   "outputs": [],
   "source": [
    "np.random.seed(14252) # for reproducibility\n",
    "\n",
    "df = pd.read_csv(\"plant_data.txt\",index_col=0)\n",
    "del_ind = np.array([np.random.randint(0,len(df.index),size=10),\\\n",
    "                    np.random.randint(0,len(df.columns),size=10)]).T\n",
    "\n",
    "# replace random elements as NaN\n",
    "for i in del_ind:\n",
    "  df.iloc[i[0],i[1]] = np.NaN\n",
    "\n",
    "# replace a whole row with NaN\n",
    "df.iloc[6,:] = [np.NaN]*4\n",
    "print(df)"
   ]
  },
  {
   "cell_type": "markdown",
   "metadata": {
    "colab_type": "text",
    "id": "BsighsoQ0E5a"
   },
   "source": [
    "We'll use the dataset generated in the last box as an example for demonstrating the use of methods for finding missing values:"
   ]
  },
  {
   "cell_type": "code",
   "execution_count": null,
   "metadata": {
    "colab": {
     "base_uri": "https://localhost:8080/",
     "height": 1000
    },
    "colab_type": "code",
    "executionInfo": {
     "elapsed": 495,
     "status": "ok",
     "timestamp": 1581369525813,
     "user": {
      "displayName": "",
      "photoUrl": "",
      "userId": "11084403397391204350"
     },
     "user_tz": 300
    },
    "id": "YtIgOopAab71",
    "outputId": "94a8861d-95e1-493e-8edc-78d49367e066"
   },
   "outputs": [],
   "source": [
    "print(\"data:\\n{}\".format(df))\n",
    "\n",
    "# Example 1: Find missing rows in a column\n",
    "print(\"\\nisna() result:\\n{}\".format(df[\"year\"].isna()))\n",
    "print(\"\\ndf[df['year'].isna()]):\\n{}\".format(df[df[\"year\"].isna()]))\n",
    "\n",
    "# Example 2: Find valid rows in a column\n",
    "print(\"\\ndf[df['year'].notna()]):\\n{}\".format(df[df[\"year\"].notna()]))\n",
    "\n",
    "# Example 3: drop rows with at least one NaN\n",
    "print(\"\\ndf.dropna():\\n{}\".format(df.dropna()))\n",
    "\n",
    "# Example 4: Drop rows where all values are missing\n",
    "print(\"\\ndf.dropna(how='all'):\\n{}\".format(df.dropna(how='all')))"
   ]
  },
  {
   "cell_type": "markdown",
   "metadata": {
    "colab_type": "text",
    "id": "OwMLJI7Yc_MZ"
   },
   "source": [
    "<b>-Example 1:</b> The `.isna()` method returns a series of booleans with `True` at the locations of `NaN` values. When the result of `.isna()` is used as an index for slicing a dataframe, the rows with `NaN` values are returned.\n",
    "\n",
    "<b>-Example 2:</b> The `.notna()` method functions as the complement to `.isnan()`\n",
    "\n",
    "<b>-Example 3:</b> The `.dropna()` method returns a dataframe containing all rows with no `NaN` values in any column.\n",
    "\n",
    "<b>-Example 4:</b> When called with the `how=\"all\"` argument, the `.dropna()` method will only drop rows in which all values are `NaN`. In the current example, only one of the rows satisfies this criteria.\n",
    "\n",
    "In the case that we want to replace missing values the relevant methods are `.fillna()`, `.replace()`, and `.interpolate()`:"
   ]
  },
  {
   "cell_type": "code",
   "execution_count": null,
   "metadata": {
    "colab": {
     "base_uri": "https://localhost:8080/",
     "height": 1000
    },
    "colab_type": "code",
    "executionInfo": {
     "elapsed": 537,
     "status": "ok",
     "timestamp": 1581369590146,
     "user": {
      "displayName": "",
      "photoUrl": "",
      "userId": "11084403397391204350"
     },
     "user_tz": 300
    },
    "id": "mk2URujVdKD0",
    "outputId": "a3d1bc67-0761-4d7f-eef6-28870bc67448"
   },
   "outputs": [],
   "source": [
    "print(\"data:\\n{}\".format(df))\n",
    "\n",
    "# Fill missing values\n",
    "print(\"\\ndf.fillna(0.0):\\n{}\\n\".format(df.fillna(0.0)))\n",
    "\n",
    "# Replace missing values\n",
    "print(\"\\ndf.replace(np.NaN,value=0.0):\\n{}\".format(df.replace(np.NaN,value=0.0)))\n",
    "\n",
    "# Interpolate missing values (not sensible in this example)\n",
    "print(\"\\ndf.interpolate():\\n{}\".format(df.interpolate()))\n"
   ]
  },
  {
   "cell_type": "markdown",
   "metadata": {
    "colab_type": "text",
    "id": "C488kf3FbWZ0"
   },
   "source": [
    "<b>-Example 1:</b> The `.fillna()` method accepts a replacement value and returns a filled dataframe.\n",
    "\n",
    "<b>-Example 2:</b> The `.replace()` method can be used to replace arbitrary values (including `NaN`).\n",
    "\n",
    "<b>-Example 3:</b> The `.interpolate()` method can be used to replace numeric `NaN` values. For time-series ordered data this is useful, but in the current example there is no basis for interpolation. \n",
    "\n",
    "When calculating statistical quantities, pandas automatically disregards `NaN` values:"
   ]
  },
  {
   "cell_type": "code",
   "execution_count": null,
   "metadata": {
    "colab": {
     "base_uri": "https://localhost:8080/",
     "height": 319
    },
    "colab_type": "code",
    "executionInfo": {
     "elapsed": 376,
     "status": "ok",
     "timestamp": 1581217656311,
     "user": {
      "displayName": "",
      "photoUrl": "",
      "userId": "11084403397391204350"
     },
     "user_tz": 300
    },
    "id": "TMt7mHy66BEx",
    "outputId": "931bb571-0243-490b-bc65-2c6ad2622c76"
   },
   "outputs": [],
   "source": [
    "# Describe on dataframe with NaN values\n",
    "print(df['yield(tons)'].describe())\n",
    "\n",
    "# Describe on dataframe with dropped NaN values\n",
    "print(df['yield(tons)'].dropna().describe())"
   ]
  },
  {
   "cell_type": "markdown",
   "metadata": {
    "colab_type": "text",
    "id": "0e2zme3gsaUo"
   },
   "source": [
    "## Summary of Series Methods\n",
    "Here is an appendix showing basic the usage of most series methods. Many of these methods have the optional argument `inplace=True` which will change the attributes of the existing series, rather than returning a new series. Most of these methods are shared with the dataframe class; however, the corresponding dataframe methods would be called with an optional `columns` argument or on the column itself `dataframe[column].method()`.\n",
    "\n",
    "### Series.abs()\n",
    "returns a new series with the absolute values of each entry (index is retained):"
   ]
  },
  {
   "cell_type": "code",
   "execution_count": null,
   "metadata": {
    "colab": {},
    "colab_type": "code",
    "id": "nYwgdP53skQ6"
   },
   "outputs": [],
   "source": [
    "a = pd.Series(range(-1,5))\n",
    "b = a.abs()\n",
    "print(\"\\na:\\n{}\".format(a))\n",
    "print(\"\\nb:\\n{}\".format(b))"
   ]
  },
  {
   "cell_type": "markdown",
   "metadata": {
    "colab_type": "text",
    "id": "wYM8ENRMtLZ8"
   },
   "source": [
    "### Series.add()\n",
    "Adds two series. `a.add(b)` is equivalent to `a+b`, but can also address missing values via the `fill_value` argument:"
   ]
  },
  {
   "cell_type": "code",
   "execution_count": null,
   "metadata": {
    "colab": {},
    "colab_type": "code",
    "id": "YacS4BnJtfHn"
   },
   "outputs": [],
   "source": [
    "a = pd.Series(range(-1,5))\n",
    "b = pd.Series(range(-1,4))\n",
    "print(a.add(b)) #add with NaN result @ position 5\n",
    "print(a.add(b,fill_value=0)) #add with 0+4 @ position 5"
   ]
  },
  {
   "cell_type": "markdown",
   "metadata": {
    "colab_type": "text",
    "id": "_tqxw1D4uV0V"
   },
   "source": [
    "### Series.add_prefix()\n",
    "The `add_prefix(\"prefix\")` method returns a new series with the same values but with a prefix added to the existing index:"
   ]
  },
  {
   "cell_type": "code",
   "execution_count": null,
   "metadata": {
    "colab": {},
    "colab_type": "code",
    "id": "BQoQnCe-uh2V"
   },
   "outputs": [],
   "source": [
    "a = pd.Series(range(-1,5))\n",
    "b = a.add_prefix(\"r\")\n",
    "print(a) #unchanged\n",
    "print(b) #same as a but with prefix"
   ]
  },
  {
   "cell_type": "markdown",
   "metadata": {
    "colab_type": "text",
    "id": "kM9wS9P5vT0A"
   },
   "source": [
    "### Series.add_suffix()\n",
    "The `add_suffix(\"suffix\")` method returns a new series with the same values but with a suffix added to the existing index:"
   ]
  },
  {
   "cell_type": "code",
   "execution_count": null,
   "metadata": {
    "colab": {},
    "colab_type": "code",
    "id": "CJ_pLyN1vd3I"
   },
   "outputs": [],
   "source": [
    "a = pd.Series(range(-1,5))\n",
    "b = a.add_suffix(\"r\")\n",
    "print(a) #unchanged\n",
    "print(b) #same as a but with suffix"
   ]
  },
  {
   "cell_type": "markdown",
   "metadata": {
    "colab_type": "text",
    "id": "J9nyAFWvvmtn"
   },
   "source": [
    "### Series.agg()\n",
    "The `Series.agg(function)` method returns a new series with the supplied function applied to each value. A built-in pandas function can be supplied as `function` (without the parentheses) or an anonymous function can be used:"
   ]
  },
  {
   "cell_type": "code",
   "execution_count": null,
   "metadata": {
    "colab": {},
    "colab_type": "code",
    "id": "Q5Ell8-zv9wJ"
   },
   "outputs": [],
   "source": [
    "import numpy as np\n",
    "a = pd.Series(range(-1,5))\n",
    "b = a.agg(np.abs)\n",
    "c = a.agg(lambda x: x/10.0)\n",
    "print(a)\n",
    "print(b)\n",
    "print(c)"
   ]
  },
  {
   "cell_type": "markdown",
   "metadata": {
    "colab_type": "text",
    "id": "F3AHrXUUw9yW"
   },
   "source": [
    "### Series.align()\n",
    "The `series1.align(series2)` method returns a new series with the values and labels of `series1` ordered by the labels of `series2`:"
   ]
  },
  {
   "cell_type": "code",
   "execution_count": null,
   "metadata": {
    "colab": {},
    "colab_type": "code",
    "id": "AY30pq_kxV8P"
   },
   "outputs": [],
   "source": [
    "a = pd.Series(range(-1,5))\n",
    "b = pd.Series(range(-1,4))\n",
    "b.index = b.index[::-1]\n",
    "a_o,b_o = a.align(b,join=\"outer\") # align on all labels (Default)\n",
    "a_i,b_i = a.align(b,join=\"inner\") # align only on labels in both\n",
    "a_r,b_r = a.align(b,join=\"right\") # align on b labels\n",
    "a_l,b_l = a.align(b,join=\"left\") # align on a labels\n",
    "print(\"\\na_o:\\n{}\".format(a_o))\n",
    "print(\"\\nb_o:\\n{}\".format(b_o))\n",
    "print(\"\\na_r:\\n{}\".format(a_r))\n",
    "print(\"\\nb_r:\\n{}\".format(b_r))\n",
    "print(\"\\na_l:\\n{}\".format(a_l))\n",
    "print(\"\\nb_l:\\n{}\".format(b_l))\n",
    "print(\"\\na_i:\\n{}\".format(a_i))\n",
    "print(\"\\nb_i:\\n{}\".format(b_i))"
   ]
  },
  {
   "cell_type": "markdown",
   "metadata": {
    "colab_type": "text",
    "id": "tzHnKyPP283e"
   },
   "source": [
    "### Series.all()\n",
    "Returns `True` if there are no elements in the series that evaluate to `False` (i.e., `False`, `0`, or empty series):"
   ]
  },
  {
   "cell_type": "code",
   "execution_count": null,
   "metadata": {
    "colab": {},
    "colab_type": "code",
    "id": "sDZK8GKe3IiE"
   },
   "outputs": [],
   "source": [
    "a = pd.Series([True]*5)\n",
    "b = pd.Series([True]*5)\n",
    "b[3] = False\n",
    "print(\"a.all(): {}\".format(a.all()))\n",
    "print(\"b.all(): {}\".format(b.all()))"
   ]
  },
  {
   "cell_type": "markdown",
   "metadata": {
    "colab_type": "text",
    "id": "_xtaarU24Ql-"
   },
   "source": [
    "### Series.any()\n",
    "Returns True if there are any elements in the series that evaluate to `True` (i.e., `True`, or non-zero):"
   ]
  },
  {
   "cell_type": "code",
   "execution_count": null,
   "metadata": {
    "colab": {},
    "colab_type": "code",
    "id": "0HOEcjR54Z8Z"
   },
   "outputs": [],
   "source": [
    "a = pd.Series([False]*5)\n",
    "b = pd.Series([False]*5)\n",
    "b[3] = 10\n",
    "print(\"a.any(): {}\".format(a.any()))\n",
    "print(\"b.any(): {}\".format(b.any()))"
   ]
  },
  {
   "cell_type": "markdown",
   "metadata": {
    "colab_type": "text",
    "id": "1BMeqggz4zOK"
   },
   "source": [
    "### concat([series1, series2, ...])\n",
    "The `concat([series1, series2, ...])` method returns a new series with the values and labels of `series2` appended to the end of `series1`: \n"
   ]
  },
  {
   "cell_type": "code",
   "execution_count": null,
   "metadata": {
    "colab": {},
    "colab_type": "code",
    "id": "9DD88LOG41NC"
   },
   "outputs": [],
   "source": [
    "a = pd.Series(range(-1,5))\n",
    "b = a.add_prefix(\"R\")\n",
    "c = pd.concat([a, b])\n",
    "print(c)"
   ]
  },
  {
   "cell_type": "markdown",
   "metadata": {
    "colab_type": "text",
    "id": "rUno2jof50HA"
   },
   "source": [
    "### Series.apply()\n",
    "The `series.apply(function)` method returns a new series with `function` applied to each element of `series`. If `function` is already defined, then supply it by name but without arguments, alternatively, you can supply a `lambda` function for more control:\n"
   ]
  },
  {
   "cell_type": "code",
   "execution_count": null,
   "metadata": {
    "colab": {},
    "colab_type": "code",
    "id": "tD8m-hZt51in"
   },
   "outputs": [],
   "source": [
    "a = pd.Series(range(-1,5))\n",
    "b = a.apply(abs)\n",
    "c = a.apply(lambda x:x/100.0)\n",
    "print(b)\n",
    "print(c)"
   ]
  },
  {
   "cell_type": "code",
   "execution_count": null,
   "metadata": {
    "colab": {},
    "colab_type": "code",
    "id": "N0HZSKPT6F-l"
   },
   "outputs": [],
   "source": [
    "a = pd.Series(range(-1,5))\n",
    "a = a.add_suffix(\"r\")\n",
    "print(a.idxmax())"
   ]
  },
  {
   "cell_type": "markdown",
   "metadata": {
    "colab_type": "text",
    "id": "nW4zjPj25-7r"
   },
   "source": [
    "### Series.argsort()\n",
    "`series1.argsort()` returns a series that holds the ordered list of labels that sorts `series1` (similar in spirit to numpy argsort behavior):  "
   ]
  },
  {
   "cell_type": "code",
   "execution_count": null,
   "metadata": {
    "colab": {},
    "colab_type": "code",
    "id": "o1t3YD3H6Gj_"
   },
   "outputs": [],
   "source": [
    "a = pd.Series(range(-1,5)[::-1])\n",
    "b = a.argsort()\n",
    "print(a)\n",
    "print(a[b])"
   ]
  },
  {
   "cell_type": "markdown",
   "metadata": {
    "colab_type": "text",
    "id": "NRUW0TfU5_Gn"
   },
   "source": [
    "### Series.asfreq()\n",
    "This method can be used to return timeseries data at a new frequency. The argument `fill_value` can be used to assign missing values:"
   ]
  },
  {
   "cell_type": "code",
   "execution_count": null,
   "metadata": {
    "colab": {},
    "colab_type": "code",
    "id": "3pvXLBoU6HKb"
   },
   "outputs": [],
   "source": [
    "index = pd.date_range('1/1/2020', periods=4, freq='T')\n",
    "a = pd.Series([0.0, 1.0, 2.0, 3.0], index=index)\n",
    "print(\"a:\\n{}\".format(a))\n",
    "print(\"\\na.asfreq(freq='30s'):\\n{}\".format(a.asfreq(freq='30S')))\n",
    "print(\"\\na.asfreq(freq='30s',fill_value=100.0):\\n{}\".format(a.asfreq(freq='30S',fill_value=100.0)))"
   ]
  },
  {
   "cell_type": "markdown",
   "metadata": {
    "colab_type": "text",
    "id": "FluAtPXG9x74"
   },
   "source": [
    "### Series.asof()\n",
    "The method `series.asof(time)` returns the first non-NaN value before or equal to the time `time`. Used to find the \"value as of time XXX\":"
   ]
  },
  {
   "cell_type": "code",
   "execution_count": null,
   "metadata": {
    "colab": {},
    "colab_type": "code",
    "id": "zJRFrSdL90E5"
   },
   "outputs": [],
   "source": [
    "index = pd.date_range('1/1/2020', periods=4, freq='D')\n",
    "a = pd.Series([0.0, 1.0, 2.0, 3.0], index=index)\n",
    "print(a)\n",
    "print(\"\\nvalue asof 2020-01-03: {}\".format(a.asof('2020-01-03')))"
   ]
  },
  {
   "cell_type": "markdown",
   "metadata": {
    "colab_type": "text",
    "id": "3A_1dNTA9yC-"
   },
   "source": [
    "### Series.astype()\n",
    "This method returns a new series where the values are cast as the specified type:\n"
   ]
  },
  {
   "cell_type": "code",
   "execution_count": null,
   "metadata": {
    "colab": {},
    "colab_type": "code",
    "id": "GyLL8qfr90vO"
   },
   "outputs": [],
   "source": [
    "a = pd.Series(range(-1,5))\n",
    "b = a.astype(float)\n",
    "print(\"a:\\n{}\".format(a))\n",
    "print(\"b:\\n{}\".format(b))"
   ]
  },
  {
   "cell_type": "markdown",
   "metadata": {
    "colab_type": "text",
    "id": "eQMvQYdk9yJA"
   },
   "source": [
    "### Series.at_time()\n",
    "Returns the value of a timeseries at a specific time:\n"
   ]
  },
  {
   "cell_type": "code",
   "execution_count": null,
   "metadata": {
    "colab": {},
    "colab_type": "code",
    "id": "teqKWkkO91RI"
   },
   "outputs": [],
   "source": [
    "index = pd.date_range('1/1/2020', periods=4, freq='s')\n",
    "a = pd.Series([0.0, 1.0, 2.0, 3.0], index=index)\n",
    "print(a)\n",
    "print(\"\\nvalue at_time 2020-01-01 00:00:02: {}\".format(a.at_time('00:00:02')))"
   ]
  },
  {
   "cell_type": "markdown",
   "metadata": {
    "colab_type": "text",
    "id": "SUt9VsM19yP3"
   },
   "source": [
    "### Series.autocorr()\n",
    "The method `series.autocorr(lag)` returns the average autocorrelation between values separated by `lag` rows (default is `lag=1`):"
   ]
  },
  {
   "cell_type": "code",
   "execution_count": null,
   "metadata": {
    "colab": {},
    "colab_type": "code",
    "id": "FRRI5-nx91zj"
   },
   "outputs": [],
   "source": [
    "import pandas as pd\n",
    "import numpy as np\n",
    "a = pd.Series(range(1000))\n",
    "b = pd.Series(np.random.rand(1000))\n",
    "c = pd.Series(np.arange(1000) + (np.random.rand(1000)-0.5)*1000)\n",
    "print(a.autocorr(1))\n",
    "print(b.autocorr(1))\n",
    "print(c.autocorr(1))"
   ]
  },
  {
   "cell_type": "markdown",
   "metadata": {
    "colab_type": "text",
    "id": "mgb59QQwGvin"
   },
   "source": [
    "### Series.between()\n",
    "The method `series1.between(start,end)` returns a new series with labels matched to `series1` and booleans corresponding to whether the value is between `start` and `end` (inclusive):"
   ]
  },
  {
   "cell_type": "code",
   "execution_count": null,
   "metadata": {
    "colab": {},
    "colab_type": "code",
    "id": "B33TV5pcGzep"
   },
   "outputs": [],
   "source": [
    "a = pd.Series(range(-1,5))\n",
    "a = a.add_prefix(\"r\")\n",
    "print(a.between(1,3))"
   ]
  },
  {
   "cell_type": "markdown",
   "metadata": {
    "colab_type": "text",
    "id": "C8GuJS8DGvrc"
   },
   "source": [
    "### Series.between_time()\n",
    "The method `series.between_time(start,end)` returns values in a time series with labels between the times `start` and `end`. If `end` is greater than `start` then the method returns the labels that <i>are not between</b> `start` and `end`:"
   ]
  },
  {
   "cell_type": "code",
   "execution_count": null,
   "metadata": {
    "colab": {},
    "colab_type": "code",
    "id": "U7yqcHNqG2z2"
   },
   "outputs": [],
   "source": [
    "index = pd.date_range('1/1/2020', periods=72, freq='h')\n",
    "a = pd.Series(np.random.rand(72), index=index)\n",
    "print(\"\\na.between_time('12:00','15:00'):\\n{}\".format(a.between_time('12:00','15:00')))\n",
    "print(\"\\na.between_time('23:00','5:00'):\\n{}\".format(a.between_time('23:10','5:00')))"
   ]
  },
  {
   "cell_type": "markdown",
   "metadata": {
    "colab_type": "text",
    "id": "tVbh9llyGvx2"
   },
   "source": [
    "### Series.fillna()\n",
    "This method fills `NaN` values in a series based on the argument `value`:"
   ]
  },
  {
   "cell_type": "code",
   "execution_count": null,
   "metadata": {
    "colab": {},
    "colab_type": "code",
    "id": "R9fHbf8oG3La"
   },
   "outputs": [],
   "source": [
    "a = pd.Series(index=[\"1\",\"2\",\"3\"])\n",
    "print(a)\n",
    "print(a.fillna(value=100))"
   ]
  },
  {
   "cell_type": "markdown",
   "metadata": {
    "colab_type": "text",
    "id": "ZiJ81ABaGv6I"
   },
   "source": [
    "### Series.clip()\n",
    "The method `series1.clip(lower,upper)` returns the a new series indexed to `series1` but with the values \"clipped\" between `lower` and `upper`, meaning that any values less than `lower` will be set to `lower` and any values greater than `upper` will be set to `upper`. If either `lower` or `upper` is not specified, then no clipping will occur on that side:"
   ]
  },
  {
   "cell_type": "code",
   "execution_count": null,
   "metadata": {
    "colab": {},
    "colab_type": "code",
    "id": "-YtooU6nG3pE"
   },
   "outputs": [],
   "source": [
    "a = pd.Series((np.random.rand(30)-0.5)*20.0 + 55)\n",
    "print(a)\n",
    "print(a.clip(50,60))\n",
    "print(a.clip(lower=50))\n",
    "print(a.clip(upper=60))"
   ]
  },
  {
   "cell_type": "markdown",
   "metadata": {
    "colab_type": "text",
    "id": "9YxTmeqZ5mdm"
   },
   "source": [
    "### Series.combine()\n",
    "The method `series1.combine(series2,function)` returns a new series with the `function` applies to the elements of both `series1` and `series2`. Can be a built-in function (called without parenthesis) or a lambda function:"
   ]
  },
  {
   "cell_type": "code",
   "execution_count": null,
   "metadata": {
    "colab": {},
    "colab_type": "code",
    "id": "MjTLjDW_5v3Y"
   },
   "outputs": [],
   "source": [
    "a = pd.Series((np.random.rand(10)-0.5)*20.0 + 80.0).add_prefix(\"catalyst_\")\n",
    "b = pd.Series((np.random.rand(10)-0.5)*20.0 + 80.0).add_prefix(\"catalyst_\")\n",
    "print(a)\n",
    "print(b)\n",
    "print(a.combine(b,max))\n",
    "print(a.combine(b,lambda x,y: max([x,y]))) # same as lambda"
   ]
  },
  {
   "cell_type": "markdown",
   "metadata": {
    "colab_type": "text",
    "id": "Det4Bh7z5nRb"
   },
   "source": [
    "### Series.combine_first()\n",
    "The method `series1.combine_first(series2)` returns a new series with the values from `series1` where they are defined, otherwise using the values of `series2`:"
   ]
  },
  {
   "cell_type": "code",
   "execution_count": null,
   "metadata": {
    "colab": {},
    "colab_type": "code",
    "id": "qrQbl7oP5yW1"
   },
   "outputs": [],
   "source": [
    "a = pd.Series(range(5))\n",
    "a[2] = np.NaN\n",
    "b = pd.Series(range(10))\n",
    "print(a)\n",
    "print(a.combine_first(b))"
   ]
  },
  {
   "cell_type": "markdown",
   "metadata": {
    "colab_type": "text",
    "id": "geopExY75nYp"
   },
   "source": [
    "### Series.copy()\n",
    "The method `series.copy(deep=True)` returns the a new series with index and values copied from the original. If `deep=True` (default) then the new object is completely independent of the old. If `deep=False`, then a \"shallow\" copy is made, and edits to the values of either the old or new series will affect one another:"
   ]
  },
  {
   "cell_type": "code",
   "execution_count": null,
   "metadata": {
    "colab": {},
    "colab_type": "code",
    "id": "aFien-aJ5yyJ"
   },
   "outputs": [],
   "source": [
    "a = pd.Series(range(5))\n",
    "b = a.copy(deep=False)\n",
    "c = a.copy(deep=True) #default\n",
    "a[3] = 1000\n",
    "b[2] = -1000\n",
    "print(a)\n",
    "print(b)\n",
    "print(c)"
   ]
  },
  {
   "cell_type": "markdown",
   "metadata": {
    "colab_type": "text",
    "id": "7MoN5rEy5nfo"
   },
   "source": [
    "### Series.corr()\n",
    "The method `series1.corr(series2)` returns the average correlation between values in the two series based on their labels. An optional `method` argument can be supplied to determine how the correlation factor is calculated (default: pearson):"
   ]
  },
  {
   "cell_type": "code",
   "execution_count": null,
   "metadata": {
    "colab": {},
    "colab_type": "code",
    "id": "IprG3aiV5zNc"
   },
   "outputs": [],
   "source": [
    "a = pd.Series(range(5))\n",
    "b = pd.Series(range(5))\n",
    "c = pd.Series(range(5))\n",
    "c.index = c.index[::-1]\n",
    "print(a.corr(b))\n",
    "print(a.corr(c))"
   ]
  },
  {
   "cell_type": "markdown",
   "metadata": {
    "colab_type": "text",
    "id": "DKZA05jZJB_T"
   },
   "source": [
    "### Series.cov()\n",
    "The method `series1.cov(series2)` returns the covariance between two series (excludes missing values):"
   ]
  },
  {
   "cell_type": "code",
   "execution_count": null,
   "metadata": {
    "colab": {},
    "colab_type": "code",
    "id": "sFJLJ0AZJE7M"
   },
   "outputs": [],
   "source": [
    "a = pd.Series(range(5))\n",
    "b = pd.Series(range(5))\n",
    "c = pd.Series(range(5))\n",
    "c.index = c.index[::-1]\n",
    "print(a.cov(b))\n",
    "print(a.cov(c))"
   ]
  },
  {
   "cell_type": "markdown",
   "metadata": {
    "colab_type": "text",
    "id": "g-az19szJCNb"
   },
   "source": [
    "### Series.cummax()\n",
    "The method `series.cummax()` returns a series with the same size but with the maximum value observed up to a given label replacing that label's value (`NaN` are ignored):"
   ]
  },
  {
   "cell_type": "code",
   "execution_count": null,
   "metadata": {
    "colab": {},
    "colab_type": "code",
    "id": "h5DFIUwJJFa7"
   },
   "outputs": [],
   "source": [
    "a = pd.Series([1,-1,-2,3,4,-3,2])\n",
    "print(a.cummax())"
   ]
  },
  {
   "cell_type": "markdown",
   "metadata": {
    "colab_type": "text",
    "id": "xMCakmRRKJDz"
   },
   "source": [
    "### Series.cummin()\n",
    "The method `series.cummin()` returns a series with the same size but with the minimum value observed up to a given label replacing that label's value (`NaN` are ignored):"
   ]
  },
  {
   "cell_type": "code",
   "execution_count": null,
   "metadata": {
    "colab": {},
    "colab_type": "code",
    "id": "e5Wqhu_pKKid"
   },
   "outputs": [],
   "source": [
    "a = pd.Series([1,-1,-2,3,4,-3,2])\n",
    "print(a.cummin())"
   ]
  },
  {
   "cell_type": "markdown",
   "metadata": {
    "colab_type": "text",
    "id": "C5xkz7kuJCUG"
   },
   "source": [
    "### Series.cumprod()\n",
    "The method `series.cumprod()` returns a series with the same size but with the cumulative product up to a given label replacing that label's value (`NaN` are ignored):"
   ]
  },
  {
   "cell_type": "code",
   "execution_count": null,
   "metadata": {
    "colab": {},
    "colab_type": "code",
    "id": "0K_vPUDXJF6a"
   },
   "outputs": [],
   "source": [
    "a = pd.Series([1,-1,-2,3,4,-3,2])\n",
    "print(a.cumprod())"
   ]
  },
  {
   "cell_type": "markdown",
   "metadata": {
    "colab_type": "text",
    "id": "yQ2wLNXDKsFu"
   },
   "source": [
    "### Series.cumsum()\n",
    "The method `series.cumsum()` returns a series with the same size but with the cumulative sum up to a given label replacing that label's value (`NaN` are ignored):"
   ]
  },
  {
   "cell_type": "code",
   "execution_count": null,
   "metadata": {
    "colab": {},
    "colab_type": "code",
    "id": "ilN_c270K6-x"
   },
   "outputs": [],
   "source": [
    "a = pd.Series([1,-1,-2,3,4,-3,2])\n",
    "print(a.cumsum())"
   ]
  },
  {
   "cell_type": "markdown",
   "metadata": {
    "colab_type": "text",
    "id": "HV4iz9BGJCar"
   },
   "source": [
    "### Series.describe()\n",
    "The method `series.describe()` returns summary statistics about a series:"
   ]
  },
  {
   "cell_type": "code",
   "execution_count": null,
   "metadata": {
    "colab": {},
    "colab_type": "code",
    "id": "wYxBgw0KJGdr"
   },
   "outputs": [],
   "source": [
    "a = pd.Series(range(5))\n",
    "print(a.describe())"
   ]
  },
  {
   "cell_type": "markdown",
   "metadata": {
    "colab_type": "text",
    "id": "bMJZsfxuMD2q"
   },
   "source": [
    "### Series.diff()\n",
    "The method `series.diff(periods=1)` returns the difference in values (current - val_at_period) at the specified period (negative values are acceptable):"
   ]
  },
  {
   "cell_type": "code",
   "execution_count": null,
   "metadata": {
    "colab": {},
    "colab_type": "code",
    "id": "NswXtuKEMA4Y"
   },
   "outputs": [],
   "source": [
    "a = pd.Series(range(5))\n",
    "print(a.diff())\n",
    "print(a.diff(-1))"
   ]
  },
  {
   "cell_type": "markdown",
   "metadata": {
    "colab_type": "text",
    "id": "W8FkGtqdMEi-"
   },
   "source": [
    "### Series.dot()\n",
    "This method performs a dot product between two series:"
   ]
  },
  {
   "cell_type": "code",
   "execution_count": null,
   "metadata": {
    "colab": {},
    "colab_type": "code",
    "id": "I5g8GUYPMBGD"
   },
   "outputs": [],
   "source": [
    "a = pd.Series(range(5))\n",
    "b = pd.Series(range(5)[::-1])\n",
    "print(a.dot(a))\n",
    "print(a.dot(b))"
   ]
  },
  {
   "cell_type": "markdown",
   "metadata": {
    "colab_type": "text",
    "id": "730h_Q0VMFCq"
   },
   "source": [
    "### Series.drop()\n",
    "The method `series.drop(labels=[])` returns a new series with the specified labels dropped:"
   ]
  },
  {
   "cell_type": "code",
   "execution_count": null,
   "metadata": {
    "colab": {},
    "colab_type": "code",
    "id": "4T6QoAZzMBQt"
   },
   "outputs": [],
   "source": [
    "a = pd.Series(range(5))\n",
    "print(a.drop([1,2]))"
   ]
  },
  {
   "cell_type": "markdown",
   "metadata": {
    "colab_type": "text",
    "id": "0jPHHp0BMFw-"
   },
   "source": [
    "### Series.drop_duplicates()\n",
    "The method `series.drop_duplicates()` returns a new series with duplicate values removed:"
   ]
  },
  {
   "cell_type": "code",
   "execution_count": null,
   "metadata": {
    "colab": {},
    "colab_type": "code",
    "id": "2YJnhgKeMBbn"
   },
   "outputs": [],
   "source": [
    "a = pd.Series([1,3,2,1,1,2,2])\n",
    "print(a)\n",
    "print(a.drop_duplicates())"
   ]
  },
  {
   "cell_type": "markdown",
   "metadata": {
    "colab_type": "text",
    "id": "mfGLS89oOIxN"
   },
   "source": [
    "### Series.dropna()\n",
    "The method `series.dropna()` returns a new series with missing values removed:"
   ]
  },
  {
   "cell_type": "code",
   "execution_count": null,
   "metadata": {
    "colab": {},
    "colab_type": "code",
    "id": "h4jr6gb6OLk1"
   },
   "outputs": [],
   "source": [
    "a = pd.Series([1,np.NaN,3,4])\n",
    "print(a)\n",
    "print(a.dropna())"
   ]
  },
  {
   "cell_type": "markdown",
   "metadata": {
    "colab_type": "text",
    "id": "AXhKsFKbOI5-"
   },
   "source": [
    "### Series.duplicated()\n",
    "The method `series.duplicated()` returns a new series with booleans indicating if a value is a duplicate (up to the point it is encountered in the index order):"
   ]
  },
  {
   "cell_type": "code",
   "execution_count": null,
   "metadata": {
    "colab": {},
    "colab_type": "code",
    "id": "g0wcT6BrOMET"
   },
   "outputs": [],
   "source": [
    "a = pd.Series([1,3,2,1,1,2,2])\n",
    "print(a)\n",
    "print(a.duplicated())"
   ]
  },
  {
   "cell_type": "markdown",
   "metadata": {
    "colab_type": "text",
    "id": "znpJE8PGOJBV"
   },
   "source": [
    "### Series.explode()\n",
    "The method `series1.explode()` returns a new series with values that were list-like in series 1 expanded into their own rows:"
   ]
  },
  {
   "cell_type": "code",
   "execution_count": null,
   "metadata": {
    "colab": {},
    "colab_type": "code",
    "id": "fIQeuyp_OMed"
   },
   "outputs": [],
   "source": [
    "a = pd.Series([[1,2],[1,2],[1,2]])\n",
    "print(a)\n",
    "print(a.explode())"
   ]
  },
  {
   "cell_type": "markdown",
   "metadata": {
    "colab_type": "text",
    "id": "tONmHQRcOJJd"
   },
   "source": [
    "### Series.fillna()\n",
    "The method `series.fillna(value,method=None)` returns a new series with missing values replaced by `value`. An optional `method` argument can be used to fill based on next (`bfill`) or previous (`ffill`) values:"
   ]
  },
  {
   "cell_type": "code",
   "execution_count": null,
   "metadata": {
    "colab": {},
    "colab_type": "code",
    "id": "_hzIuTRVOM58"
   },
   "outputs": [],
   "source": [
    "a = pd.Series([1,2,np.NaN,np.NaN,5])\n",
    "print(a.fillna(1000))\n",
    "print(a.fillna(method='bfill'))\n",
    "print(a.fillna(method='ffill'))"
   ]
  },
  {
   "cell_type": "markdown",
   "metadata": {
    "colab_type": "text",
    "id": "dOdBmcTaOJRl"
   },
   "source": [
    "### Series.filter()\n",
    "The method `series.filter(items=[],like=\"\",regex=\"\")` returns a new series with labels that are in `items` or labels that contain the string in `like` or labels that evaluate to `True` against the `regex`:"
   ]
  },
  {
   "cell_type": "code",
   "execution_count": null,
   "metadata": {
    "colab": {},
    "colab_type": "code",
    "id": "By3PgLmjONaK"
   },
   "outputs": [],
   "source": [
    "a = pd.Series(range(5))\n",
    "a.index = [\"reactor_1\",\"reactor_2\",\"day0\",\"day1\",\"day2\"]\n",
    "print(a.filter(items=[\"reactor_1\",\"reactor_2\"])) # same as slicing with list of labels\n",
    "print(a.filter(like=\"day\"))"
   ]
  },
  {
   "cell_type": "markdown",
   "metadata": {
    "colab_type": "text",
    "id": "72cZ-k1uOJYx"
   },
   "source": [
    "### Series.groupby()\n",
    "This method is used to generate groups of logically connected labels that you want to operate on. The method returns a groupby object that has information on the groups and can be used to calculate their statistics. Usage is `series.groupby(by=None)` where `by` can be a function or list that operates on each label for the purpose of assigning it to a group:"
   ]
  },
  {
   "cell_type": "code",
   "execution_count": null,
   "metadata": {
    "colab": {},
    "colab_type": "code",
    "id": "kABJWKnOON5M"
   },
   "outputs": [],
   "source": [
    "a = pd.Series(range(6))\n",
    "a.index = [\"old_1\",\"old_2\",\"new_1\",\"old_3\",\"new_2\",\"new_3\"]\n",
    "print(a.groupby(by=lambda x: x.split('_')[0]).mean())"
   ]
  },
  {
   "cell_type": "markdown",
   "metadata": {
    "colab_type": "text",
    "id": "aHn8cWKO5-fP"
   },
   "source": [
    "### Series.idxmax()\n",
    "This method returns the label corresponding to the maximum value:"
   ]
  },
  {
   "cell_type": "code",
   "execution_count": null,
   "metadata": {
    "colab": {},
    "colab_type": "code",
    "id": "_zpq2heVOObO"
   },
   "outputs": [],
   "source": [
    "a = pd.Series(range(-1,5))\n",
    "a = a.add_suffix(\"r\")\n",
    "print(a.idxmax())"
   ]
  },
  {
   "cell_type": "markdown",
   "metadata": {
    "colab_type": "text",
    "id": "_QqjOIPDOJnK"
   },
   "source": [
    "### Series.idxmin()\n",
    "This method returns the label corresponding to the minimum  value:"
   ]
  },
  {
   "cell_type": "code",
   "execution_count": null,
   "metadata": {
    "colab": {},
    "colab_type": "code",
    "id": "hdNWSJpbOO6d"
   },
   "outputs": [],
   "source": [
    "a = pd.Series(range(-1,5))\n",
    "a = a.add_suffix(\"r\")\n",
    "print(a.idxmin())"
   ]
  },
  {
   "cell_type": "markdown",
   "metadata": {
    "colab_type": "text",
    "id": "udeqNWHCV6mt"
   },
   "source": [
    "### Series.interpolate()\n",
    "This method fills returns a new series with any missing values replaced using the specified interpolation method (indicated by the optional `method` argument):"
   ]
  },
  {
   "cell_type": "code",
   "execution_count": null,
   "metadata": {
    "colab": {},
    "colab_type": "code",
    "id": "Hj-LD0xoV9ua"
   },
   "outputs": [],
   "source": [
    "a = pd.Series([0,1,np.NaN,3,4,np.NaN,8])\n",
    "print(a.interpolate(method='linear')) # default\n",
    "print(a.interpolate(method='spline',order=3))"
   ]
  },
  {
   "cell_type": "markdown",
   "metadata": {
    "colab_type": "text",
    "id": "Gm_1LygEV6we"
   },
   "source": [
    "### Series.items()\n",
    "This method creates an iterator for the series that returns the label and value at each iteration:"
   ]
  },
  {
   "cell_type": "code",
   "execution_count": null,
   "metadata": {
    "colab": {},
    "colab_type": "code",
    "id": "cgLK7fFYV-FN"
   },
   "outputs": [],
   "source": [
    "a = pd.Series(range(5))\n",
    "a = a.add_prefix(\"r\")\n",
    "for label,value in a.items():\n",
    "  a[label] = value + 10\n",
    "print(a)"
   ]
  },
  {
   "cell_type": "markdown",
   "metadata": {
    "colab_type": "text",
    "id": "4K3N0xvaV65Z"
   },
   "source": [
    "### Series.kurtosis()\n",
    "This method returns Fisher kurtosis (=0 for normal distribution) calculated across the series:"
   ]
  },
  {
   "cell_type": "code",
   "execution_count": null,
   "metadata": {
    "colab": {},
    "colab_type": "code",
    "id": "C04Il8siV-hv"
   },
   "outputs": [],
   "source": [
    "a = pd.Series(np.random.normal(size=10000))\n",
    "print(a)\n",
    "print(a.kurtosis())"
   ]
  },
  {
   "cell_type": "markdown",
   "metadata": {
    "colab_type": "text",
    "id": "YpaRc2pVV7Jm"
   },
   "source": [
    "### Series.map()\n",
    "The method `series.map(dict/function)` returns a new series where the supplied `dictionary` is used to replace the values corresponding to the keys with the values corresponding to the values (any value that don't have keys will be converted to `NaN`). If `function` is used it is applied to each value (similar to `series.apply()`):"
   ]
  },
  {
   "cell_type": "code",
   "execution_count": null,
   "metadata": {
    "colab": {},
    "colab_type": "code",
    "id": "BqX24cCBV_ar"
   },
   "outputs": [],
   "source": [
    "a = pd.Series(range(5))\n",
    "print(a.map({1:1000,2:2000}))\n",
    "print(a.map(lambda x: x+10))"
   ]
  },
  {
   "cell_type": "markdown",
   "metadata": {
    "colab_type": "text",
    "id": "nOu4_LT-V7SL"
   },
   "source": [
    "### Series.mask()\n",
    "The method `series.mask(condition)` returns a new series with `NaN` for values where `condition` is `False` (similar to `series.where()` which does the same for `True`):"
   ]
  },
  {
   "cell_type": "code",
   "execution_count": null,
   "metadata": {
    "colab": {},
    "colab_type": "code",
    "id": "nFOEqZBuV_57"
   },
   "outputs": [],
   "source": [
    "a = pd.Series(range(5))\n",
    "print(a.mask(a>=3))\n",
    "print(a.mask(a==3))"
   ]
  },
  {
   "cell_type": "markdown",
   "metadata": {
    "colab_type": "text",
    "id": "JoVFdgK0cC9B"
   },
   "source": [
    "### Series.max()\n",
    "This method returns the maximum value of a series (not the index):"
   ]
  },
  {
   "cell_type": "code",
   "execution_count": null,
   "metadata": {
    "colab": {},
    "colab_type": "code",
    "id": "350IcW_DcGn5"
   },
   "outputs": [],
   "source": [
    "a = pd.Series(range(5))\n",
    "a.add_prefix(\"r\")\n",
    "print(a.max())"
   ]
  },
  {
   "cell_type": "markdown",
   "metadata": {
    "colab_type": "text",
    "id": "zoeEF-epcDGT"
   },
   "source": [
    "### Series.mean()\n",
    "This method returns the mean of a series:"
   ]
  },
  {
   "cell_type": "code",
   "execution_count": null,
   "metadata": {
    "colab": {},
    "colab_type": "code",
    "id": "6uTNewXhcHIm"
   },
   "outputs": [],
   "source": [
    "a = pd.Series(range(5))\n",
    "print(a.mean())"
   ]
  },
  {
   "cell_type": "markdown",
   "metadata": {
    "colab_type": "text",
    "id": "c87qUMbFcDPH"
   },
   "source": [
    "### Series.median()\n",
    "This method returns the median value of a series:"
   ]
  },
  {
   "cell_type": "code",
   "execution_count": null,
   "metadata": {
    "colab": {},
    "colab_type": "code",
    "id": "xl-WkjBicHlH"
   },
   "outputs": [],
   "source": [
    "a = pd.Series([2,1,1,1,10,10,10])\n",
    "print(a.median())"
   ]
  },
  {
   "cell_type": "markdown",
   "metadata": {
    "colab_type": "text",
    "id": "2S1PobQmcDXz"
   },
   "source": [
    "### Series.min()\n",
    "This method returns the minimum value of a series (not its index):"
   ]
  },
  {
   "cell_type": "code",
   "execution_count": null,
   "metadata": {
    "colab": {},
    "colab_type": "code",
    "id": "C-DJoAz9cIC1"
   },
   "outputs": [],
   "source": [
    "a = pd.Series(range(5))\n",
    "print(a.min())"
   ]
  },
  {
   "cell_type": "markdown",
   "metadata": {
    "colab_type": "text",
    "id": "hFgR__09cDyT"
   },
   "source": [
    "### Series.mode()\n",
    "This method returns the mode value of a series:"
   ]
  },
  {
   "cell_type": "code",
   "execution_count": null,
   "metadata": {
    "colab": {},
    "colab_type": "code",
    "id": "7WwlCz24cIdF"
   },
   "outputs": [],
   "source": [
    "a = pd.Series([2,1,1,1,10,10,10,10])\n",
    "print(a.mode())"
   ]
  },
  {
   "cell_type": "markdown",
   "metadata": {
    "colab_type": "text",
    "id": "RhvdrEmScD7g"
   },
   "source": [
    "### Series.nlargest()\n",
    "The method `series.nlargest(n=5)` returns a new series with the the `n` largest values of the series:"
   ]
  },
  {
   "cell_type": "code",
   "execution_count": null,
   "metadata": {
    "colab": {},
    "colab_type": "code",
    "id": "ZEIn7_BAcI72"
   },
   "outputs": [],
   "source": [
    "a = pd.Series(range(10))\n",
    "print(a.nlargest())\n",
    "print(a.nlargest(2))"
   ]
  },
  {
   "cell_type": "markdown",
   "metadata": {
    "colab_type": "text",
    "id": "2hQ44kR_cELQ"
   },
   "source": [
    "### Series.nsmallest()\n",
    "The method `series.nsmallest(n=5)` returns a new series with the the `n` smallest values of the series:"
   ]
  },
  {
   "cell_type": "code",
   "execution_count": null,
   "metadata": {
    "colab": {},
    "colab_type": "code",
    "id": "NSFXCs7lcJYV"
   },
   "outputs": [],
   "source": [
    "a = pd.Series(range(10)[::-1])\n",
    "print(a.nsmallest())\n",
    "print(a.nsmallest(2))"
   ]
  },
  {
   "cell_type": "markdown",
   "metadata": {
    "colab_type": "text",
    "id": "MUrzQr1UcEVZ"
   },
   "source": [
    "### Series.nunique()\n",
    "This method returns the number of unique values in a series:"
   ]
  },
  {
   "cell_type": "code",
   "execution_count": null,
   "metadata": {
    "colab": {},
    "colab_type": "code",
    "id": "Exyzr4bIcJ0g"
   },
   "outputs": [],
   "source": [
    "a = pd.Series([1,1,1,2,1,1,10,10,7,10])\n",
    "print(a.nunique())"
   ]
  },
  {
   "cell_type": "markdown",
   "metadata": {
    "colab_type": "text",
    "id": "Co_3RJjkshR3"
   },
   "source": [
    "### Series.pct_change()\n",
    "The method `series.pct_change(periods=1)` returns the percentage change between values separated by the `periods` argument:"
   ]
  },
  {
   "cell_type": "code",
   "execution_count": null,
   "metadata": {
    "colab": {},
    "colab_type": "code",
    "id": "xmyJThErslAg"
   },
   "outputs": [],
   "source": [
    "a = pd.Series([10,9,4.5,1.125,4.5,9,10])\n",
    "print(a.pct_change())"
   ]
  },
  {
   "cell_type": "markdown",
   "metadata": {
    "colab_type": "text",
    "id": "rtUYcbcJshd7"
   },
   "source": [
    "### Series.pop()\n",
    "Analogous to `list.pop()` but for series. The method returns the popped value (not label):"
   ]
  },
  {
   "cell_type": "code",
   "execution_count": null,
   "metadata": {
    "colab": {},
    "colab_type": "code",
    "id": "kNGReU8msldk"
   },
   "outputs": [],
   "source": [
    "a = pd.Series(range(5))\n",
    "a = a.add_prefix('r')\n",
    "b = a.pop('r2')\n",
    "print(a)\n",
    "print(b)"
   ]
  },
  {
   "cell_type": "markdown",
   "metadata": {
    "colab_type": "text",
    "id": "KEpIz2RvshlW"
   },
   "source": [
    "### Series.quantile()\n",
    "The method `series.quantile(value)` returns the quantile value corresponding to `value`, a list can be supplied to return several quantile values at once:"
   ]
  },
  {
   "cell_type": "code",
   "execution_count": null,
   "metadata": {
    "colab": {},
    "colab_type": "code",
    "id": "1GL_Ce3wsl_C"
   },
   "outputs": [],
   "source": [
    "a = pd.Series([1,1,4,7,7,7])\n",
    "print(a.quantile(0.5))\n",
    "print(a.quantile([0.1,0.25,0.5,0.75,0.9]))\n",
    "print(a.quantile([0.1,0.25,0.5,0.75,0.9],interpolation='nearest'))"
   ]
  },
  {
   "cell_type": "markdown",
   "metadata": {
    "colab_type": "text",
    "id": "s_OhCBN7shr3"
   },
   "source": [
    "### Series.rank()\n",
    "The method `series.rank(method='average')` returns a new series with the rank (by value) of each label. In the case of multiple values with the same label, the `method` argument determines what is reported:"
   ]
  },
  {
   "cell_type": "code",
   "execution_count": null,
   "metadata": {
    "colab": {},
    "colab_type": "code",
    "id": "ipAbMKaQsmfD"
   },
   "outputs": [],
   "source": [
    "a = pd.Series([1,1,2,2,4],index=[\"t1\",\"t2\",\"t1\",\"t3\",\"t4\"])\n",
    "print(a.rank())\n",
    "print(a.rank(method='first'))"
   ]
  },
  {
   "cell_type": "markdown",
   "metadata": {
    "colab_type": "text",
    "id": "dgEaJ5SJshy8"
   },
   "source": [
    "### Series.reindex()\n",
    "The method `series.reindex(index)` returns a new series with the specified index. Any new labels will be filled with `NaN` and any missing labels will be dropped:"
   ]
  },
  {
   "cell_type": "code",
   "execution_count": null,
   "metadata": {
    "colab": {},
    "colab_type": "code",
    "id": "LjWiyCzism54"
   },
   "outputs": [],
   "source": [
    "a = pd.Series(range(5))\n",
    "print(a.reindex(range(5)[::-1]))\n",
    "print(a.reindex(range(3,7)))"
   ]
  },
  {
   "cell_type": "markdown",
   "metadata": {
    "colab_type": "text",
    "id": "6dUlu8Qzsh53"
   },
   "source": [
    "### Series.reindex_like()\n",
    "The method `series1.reindex_like(series2)` returns a new series with an index matching `series2`:"
   ]
  },
  {
   "cell_type": "code",
   "execution_count": null,
   "metadata": {
    "colab": {},
    "colab_type": "code",
    "id": "Eo3jYrUPsnUv"
   },
   "outputs": [],
   "source": [
    "a = pd.Series(range(5))\n",
    "b = pd.Series(range(5),index=range(5)[::-1])\n",
    "print(a.reindex_like(b))"
   ]
  },
  {
   "cell_type": "markdown",
   "metadata": {
    "colab_type": "text",
    "id": "hgcXPXdysiBv"
   },
   "source": [
    "### Series.rename()\n",
    "This method can be called three ways: `series.rename(string)` will assign the series attribute `name` to the string argument; `series.rename(dictionary)` will reassign the existing labels corresponding to the keys to the dictionary values; `series.rename(function)` will apply the function to the existing labels. All methods return a new series:"
   ]
  },
  {
   "cell_type": "code",
   "execution_count": null,
   "metadata": {
    "colab": {},
    "colab_type": "code",
    "id": "O55F2ZuWsn0S"
   },
   "outputs": [],
   "source": [
    "a = pd.Series(range(5))\n",
    "print(a.rename(\"my series\"))\n",
    "print(a.rename({1:\"r1\"}))\n",
    "print(a.rename(lambda x: \"r_{}\".format(x)))"
   ]
  },
  {
   "cell_type": "markdown",
   "metadata": {
    "colab_type": "text",
    "id": "UhuY4pmmsiKh"
   },
   "source": [
    "### Series.repeat()\n",
    "The method `series.repeat(repeats)` returns a new series with each value repeated `repeats` times:"
   ]
  },
  {
   "cell_type": "code",
   "execution_count": null,
   "metadata": {
    "colab": {},
    "colab_type": "code",
    "id": "NdiOIpfOsoPP"
   },
   "outputs": [],
   "source": [
    "a = pd.Series(range(5))\n",
    "print(a.repeat(2))\n",
    "print(a.repeat(5))"
   ]
  },
  {
   "cell_type": "markdown",
   "metadata": {
    "colab_type": "text",
    "id": "BEMQhsQe2uex"
   },
   "source": [
    "### Series.replace()\n",
    "The method `series.replace(to_replace=v1,value=v2)` returns a new series with values equal to `v1` replaced by `v2`:"
   ]
  },
  {
   "cell_type": "code",
   "execution_count": null,
   "metadata": {
    "colab": {},
    "colab_type": "code",
    "id": "GhbT5AcW20Az"
   },
   "outputs": [],
   "source": [
    "a = pd.Series([1,1,2,2,3,3])\n",
    "print(a.replace(2,20))"
   ]
  },
  {
   "cell_type": "markdown",
   "metadata": {
    "colab_type": "text",
    "id": "qpUoCzu-2uwm"
   },
   "source": [
    "### Series.reset_index()\n",
    "This method returns a new dataframe with the existing index converted to a column and the index reset to the default (can use optional arguments `inplace=True,drop=True` to reset the index of the existing series):"
   ]
  },
  {
   "cell_type": "code",
   "execution_count": null,
   "metadata": {
    "colab": {},
    "colab_type": "code",
    "id": "nGoybk8i20dX"
   },
   "outputs": [],
   "source": [
    "a = pd.Series(range(5))\n",
    "a.index = a.index[::-1]\n",
    "b = a.reset_index()\n",
    "c = a.reset_index(drop=True)\n",
    "print(a)\n",
    "print(b)\n",
    "print(type(b))\n",
    "print(c)"
   ]
  },
  {
   "cell_type": "markdown",
   "metadata": {
    "colab_type": "text",
    "id": "V6MM6VZO2u3k"
   },
   "source": [
    "### Series.rolling()\n",
    "This method can be used to apply built-in methods in a \"rolling\" (i.e., windowed) fashion. The call is performed as  `series.rolling(period,win_type=None).method()` where `period` is the number of values to include in the window (calculated backward from each value by default), win_type is an optional argument that can affect how the values within the window are weighted (default is even weighting) and `method()` is the method that you want to apply to each window. `period` can be supplied as a frequency string for time-series data:"
   ]
  },
  {
   "cell_type": "code",
   "execution_count": null,
   "metadata": {
    "colab": {},
    "colab_type": "code",
    "id": "_bCyoVoR209A"
   },
   "outputs": [],
   "source": [
    "a = pd.Series(range(5))\n",
    "print(a.rolling(2).mean())"
   ]
  },
  {
   "cell_type": "markdown",
   "metadata": {
    "colab_type": "text",
    "id": "KDr6oZjm2u-u"
   },
   "source": [
    "### Series.round()\n",
    "The method `series.round(decimals=0)` returns a new series with values rounded to the indicated number of decimal places:"
   ]
  },
  {
   "cell_type": "code",
   "execution_count": null,
   "metadata": {
    "colab": {},
    "colab_type": "code",
    "id": "oXFm5K1K23rS"
   },
   "outputs": [],
   "source": [
    "a = pd.Series([1.0,1.12,1.15,1.5,1.55,1.9])\n",
    "print(a.round())\n",
    "print(a.round(1))"
   ]
  },
  {
   "cell_type": "markdown",
   "metadata": {
    "colab_type": "text",
    "id": "9BCSqfh02vFr"
   },
   "source": [
    "### Series.sample()\n",
    "The method `series.sample(n=1,replace=False,random_state=None)` returns a new series containing `n` randomly sampled values. `replace=True` may be used to sample the series with replacement (i.e., the same row might be selected more than once), and `random_state` can optionally be set to a specific value to ensure reproducible behavior. `frac` and `weights` are also useful optional arguments (see docs for full details):"
   ]
  },
  {
   "cell_type": "code",
   "execution_count": null,
   "metadata": {
    "colab": {},
    "colab_type": "code",
    "id": "6o9wwoBo24Ju"
   },
   "outputs": [],
   "source": [
    "a = pd.Series(range(5))\n",
    "print(a.sample(5))\n",
    "print(a.sample(100,replace=True))\n"
   ]
  },
  {
   "cell_type": "markdown",
   "metadata": {
    "colab_type": "text",
    "id": "wKex-1oq2vMn"
   },
   "source": [
    "### Series.searchsorted()\n",
    "The method `series.searchsorted(value)` returns the index in the series where the `value` should be inserted in order to maintain the existing ordering of the series. The existing series should typically already be ordered for this to return sensible indices. `value` can also be supplied as a list of values, and a list of indices is returned:"
   ]
  },
  {
   "cell_type": "code",
   "execution_count": null,
   "metadata": {
    "colab": {},
    "colab_type": "code",
    "id": "dVUU_3-r24ll"
   },
   "outputs": [],
   "source": [
    "a = pd.Series([1,3,5,7])\n",
    "print(a.searchsorted([2,6]))\n",
    "print(a.searchsorted([0,1,3]))\n",
    "print(a)"
   ]
  },
  {
   "cell_type": "markdown",
   "metadata": {
    "colab_type": "text",
    "id": "p9Wmv7cP2vUX"
   },
   "source": [
    "### Series.sem()\n",
    "This method returns the standard error of the mean (optional `ddof` argument can be used to set the degrees of freedom for the denominator correction):"
   ]
  },
  {
   "cell_type": "code",
   "execution_count": null,
   "metadata": {
    "colab": {},
    "colab_type": "code",
    "id": "gvbe_n5V25Bi"
   },
   "outputs": [],
   "source": [
    "a = pd.Series(range(5))\n",
    "print(a.sem())\n",
    "print(a.std()/(5)**(0.5))"
   ]
  },
  {
   "cell_type": "markdown",
   "metadata": {
    "colab_type": "text",
    "id": "T_Exku3sXVW2"
   },
   "source": [
    "### Series.shift()\n",
    "The method `series.shift(periods)` returns a new series with the same number of values, but with the specified number of periods inserted into it at the beginning (for positive `periods` value) or end (for negative `periods` values). Inserted values default to `NaN` and values shifted beyond the series are lost:"
   ]
  },
  {
   "cell_type": "code",
   "execution_count": null,
   "metadata": {
    "colab": {},
    "colab_type": "code",
    "id": "_zYXPUIJXXD7"
   },
   "outputs": [],
   "source": [
    "a = pd.Series(range(5))\n",
    "a = a.add_prefix('r')\n",
    "print(a.shift(3))\n",
    "print(a.shift(-3))"
   ]
  },
  {
   "cell_type": "markdown",
   "metadata": {
    "colab_type": "text",
    "id": "63ElvIHnXVfZ"
   },
   "source": [
    "### Series.skew()\n",
    "This method returns the skew of a distribution that is held in a series:"
   ]
  },
  {
   "cell_type": "code",
   "execution_count": null,
   "metadata": {
    "colab": {},
    "colab_type": "code",
    "id": "o9GjbIhwXXjg"
   },
   "outputs": [],
   "source": [
    "a = pd.Series(np.random.normal(size=10000))\n",
    "print(a)\n",
    "print(a.skew())"
   ]
  },
  {
   "cell_type": "markdown",
   "metadata": {
    "colab_type": "text",
    "id": "OYMN-RrD2vbL"
   },
   "source": [
    "### Series.sort_index()\n",
    "This method returns a new series with a sorted index (labels must be of a compatible type for the `>` comparison):"
   ]
  },
  {
   "cell_type": "code",
   "execution_count": null,
   "metadata": {
    "colab": {},
    "colab_type": "code",
    "id": "IukhLxn325nr"
   },
   "outputs": [],
   "source": [
    "a = pd.Series(range(5))\n",
    "a.index = a.index[::-1]\n",
    "print(a)\n",
    "print(a.sort_index())\n",
    "\n",
    "b = pd.Series(range(3),index=[\"c\",\"b\",\"a\"])\n",
    "print(b)\n",
    "print(b.sort_index())\n",
    "\n",
    "\n",
    "# Create a Series with mixed index types\n",
    "c = pd.Series(range(3), index=[2, \"b\", 1])\n",
    "# # ERROR because int and strings can't be compared\n",
    "# print(c.sort_index())\n",
    "\n",
    "# Convert all index elements to strings\n",
    "c.index = c.index.map(str)\n",
    "# Sort the index\n",
    "print(c.sort_index())"
   ]
  },
  {
   "cell_type": "markdown",
   "metadata": {
    "colab_type": "text",
    "id": "9h-KnqV0p71u"
   },
   "source": [
    "### Series.sort_values()\n",
    "This method returns a new series with sorted values:"
   ]
  },
  {
   "cell_type": "code",
   "execution_count": null,
   "metadata": {
    "colab": {},
    "colab_type": "code",
    "id": "jDWVg_YOqDKb"
   },
   "outputs": [],
   "source": [
    "a = pd.Series(range(5)[::-1])\n",
    "print(a)\n",
    "print(a.sort_values())\n"
   ]
  },
  {
   "cell_type": "markdown",
   "metadata": {
    "colab_type": "text",
    "id": "Zum7j71Ip8BO"
   },
   "source": [
    "### Series.std()\n",
    "This method returns the sample standard deviation (optional `ddof` argument can be used to adjust the degrees of freedom):"
   ]
  },
  {
   "cell_type": "code",
   "execution_count": null,
   "metadata": {
    "colab": {},
    "colab_type": "code",
    "id": "jeRK6EiSqDpb"
   },
   "outputs": [],
   "source": [
    "a = pd.Series(range(5))\n",
    "print(a.std())"
   ]
  },
  {
   "cell_type": "markdown",
   "metadata": {
    "colab_type": "text",
    "id": "aXy6Wqsop8JH"
   },
   "source": [
    "### Series.sum()\n",
    "This method returns the sum of value in a series:"
   ]
  },
  {
   "cell_type": "code",
   "execution_count": null,
   "metadata": {
    "colab": {},
    "colab_type": "code",
    "id": "z2xrJoYnqEGM"
   },
   "outputs": [],
   "source": [
    "a = pd.Series(range(5))\n",
    "print(a.sum())"
   ]
  },
  {
   "cell_type": "markdown",
   "metadata": {
    "colab_type": "text",
    "id": "X0g3eriCp8SP"
   },
   "source": [
    "### Series.take()\n",
    "The method `series.take([positions])` returns a new series with the labels and values indicated by the `[positions]` list, where the values in `positions` are interpreted as order not the literal label. This is analogous to using list-based slicing:"
   ]
  },
  {
   "cell_type": "code",
   "execution_count": null,
   "metadata": {
    "colab": {},
    "colab_type": "code",
    "id": "cdCPeO40qEjd"
   },
   "outputs": [],
   "source": [
    "a = pd.Series(range(5),index=[\"a\",\"b\",\"c\",\"d\",\"e\"])\n",
    "print(a.take([3,0]))\n",
    "print(a[[3,0]])"
   ]
  },
  {
   "cell_type": "markdown",
   "metadata": {
    "colab_type": "text",
    "id": "gRe2aBZIp8ad"
   },
   "source": [
    "### Series.to_*()\n",
    "Series and dataframe objects have a large number of methods for writing these objects to files (e.g., csv, excel, json) and other data structures (e.g., list, dictionary, array):"
   ]
  },
  {
   "cell_type": "code",
   "execution_count": null,
   "metadata": {
    "colab": {},
    "colab_type": "code",
    "id": "iN7_1KFEqFA_"
   },
   "outputs": [],
   "source": [
    "a = pd.Series(range(5),index=range(5)[::-1])\n",
    "b = a.to_dict()\n",
    "c = a.to_numpy()\n",
    "print(a)\n",
    "print(b)\n",
    "print(c)\n"
   ]
  },
  {
   "cell_type": "markdown",
   "metadata": {
    "colab_type": "text",
    "id": "ZOKE0srfp8hB"
   },
   "source": [
    "### Series.transform()\n",
    "The method `series.transform(function)` returns a new series where `function` has been applied to the values of the original series. For series `.transform()` and `.apply()` are essentially identical, for dataframes they have some distinct behaviors:"
   ]
  },
  {
   "cell_type": "code",
   "execution_count": null,
   "metadata": {
    "colab": {},
    "colab_type": "code",
    "id": "Ugq5BnsRqFfK"
   },
   "outputs": [],
   "source": [
    "a = pd.Series(range(-1,5))\n",
    "b = a.transform(abs)\n",
    "c = a.transform(lambda x:x/100.0)\n",
    "print(b)\n",
    "print(c)"
   ]
  },
  {
   "cell_type": "markdown",
   "metadata": {
    "colab_type": "text",
    "id": "DszENwFGp8n0"
   },
   "source": [
    "### Series.truncate()\n",
    "The method `series.truncate(before=None,after=None)` returns a new series only the values between the indicated labels returned (equivalent to slicing):"
   ]
  },
  {
   "cell_type": "code",
   "execution_count": null,
   "metadata": {
    "colab": {},
    "colab_type": "code",
    "id": "Jis-O1V7qGK5"
   },
   "outputs": [],
   "source": [
    "a = pd.Series(range(5),index=[\"a\",\"b\",\"c\",\"d\",\"e\"])\n",
    "\n",
    "# Note: order based labels are not supported\n",
    "#       i.e., print(a.truncate(1,3)) will not work.\n",
    "print(a.truncate(\"c\",\"d\"))\n",
    "print(a.truncate(after=\"d\"))\n",
    "print(a.truncate(before=\"c\"))\n",
    "\n",
    "# Equivalent slicing\n",
    "print(a[\"c\":\"d\"])\n",
    "print(a[:\"d\"])\n",
    "print(a[\"c\":])"
   ]
  },
  {
   "cell_type": "markdown",
   "metadata": {
    "colab_type": "text",
    "id": "QEtX4mfnp8tp"
   },
   "source": [
    "### Series.unique()\n",
    "This method returns an array with the unique values of the original series:"
   ]
  },
  {
   "cell_type": "code",
   "execution_count": null,
   "metadata": {
    "colab": {},
    "colab_type": "code",
    "id": "skLFEtkIqHQI"
   },
   "outputs": [],
   "source": [
    "a = pd.Series([1,1,3,1,10,2,2,3])\n",
    "print(a.unique())\n",
    "print(type(a.unique()))"
   ]
  },
  {
   "cell_type": "markdown",
   "metadata": {
    "colab_type": "text",
    "id": "nRhdGq1mE6Na"
   },
   "source": [
    "### Series.update()\n",
    "The method `series1.update(series2)` updated the values in `series1` with the non-NaN values from `series2`. The operation is aligned by index:"
   ]
  },
  {
   "cell_type": "code",
   "execution_count": null,
   "metadata": {
    "colab": {},
    "colab_type": "code",
    "id": "BPtvv9bdE8CL"
   },
   "outputs": [],
   "source": [
    "a = pd.Series([1,2,3])\n",
    "b = pd.Series([12,13,np.NaN],index=[2,1,0])\n",
    "print(a)\n",
    "a.update(b)\n",
    "print(a)"
   ]
  },
  {
   "cell_type": "markdown",
   "metadata": {
    "colab_type": "text",
    "id": "BZ22BalAE6YX"
   },
   "source": [
    "### Series.value_counts()\n",
    "This method returns a series with index corresponding to unique values and values corresponding to their count in the original series (can be useful for histogramming, especially with optional arguments):"
   ]
  },
  {
   "cell_type": "code",
   "execution_count": null,
   "metadata": {
    "colab": {},
    "colab_type": "code",
    "id": "zTcv_qxNE8ke"
   },
   "outputs": [],
   "source": [
    "a = pd.Series([1,1,3,1,10,2,2,3])\n",
    "print(a.value_counts())"
   ]
  },
  {
   "cell_type": "markdown",
   "metadata": {
    "colab_type": "text",
    "id": "YDl8hLLeE6hx"
   },
   "source": [
    "### Series.var()\n",
    "This method returns the sample variance of the series (optional `ddof` argument can be used to adjust the degrees of freedom):"
   ]
  },
  {
   "cell_type": "code",
   "execution_count": null,
   "metadata": {
    "colab": {},
    "colab_type": "code",
    "id": "92UwKgIqE9Da"
   },
   "outputs": [],
   "source": [
    "a = pd.Series(range(5))\n",
    "print(a.var())\n",
    "print(a.std()**(2.0))"
   ]
  },
  {
   "cell_type": "markdown",
   "metadata": {
    "colab_type": "text",
    "id": "-xiD4Lk-HJu5"
   },
   "source": [
    "### Series.where()\n",
    "The method `series.where(condition)` returns a new series with `NaN` for values where `condition` is `True` (similar to `series.mask()` which does the same for `False`):"
   ]
  },
  {
   "cell_type": "code",
   "execution_count": null,
   "metadata": {
    "colab": {},
    "colab_type": "code",
    "id": "uoh8JU2hHW09"
   },
   "outputs": [],
   "source": [
    "a = pd.Series(range(5))\n",
    "print(a.where(a>1))\n",
    "print(a.where(3>a))\n",
    "print(a.mask(a>1))\n",
    "print(a.mask(3>a))"
   ]
  },
  {
   "cell_type": "code",
   "execution_count": null,
   "metadata": {
    "colab": {},
    "colab_type": "code",
    "id": "qT7S3O_Ys3i6"
   },
   "outputs": [],
   "source": [
    "a = pd.Series(range(-1,5))\n",
    "b = pd.Series(a,a.index[::-1])\n",
    "print(\"\\na:\\n{}\".format(a))\n",
    "print(\"\\nb:\\n{}\".format(a))\n",
    "print(\"\\na.abs():\\n{}\".format(a.abs()))\n",
    "print(\"\\na.add(b):\\n{}\".format(a.add(b)))\n",
    "print(\"\\na.add_prefix('pre'):\\n{}\".format(a.add_prefix(\"pre\")))\n",
    "print(\"\\na.add_suffix('suf'):\\n\".format(a.add_suffix(\"suf\")))\n",
    "print(\"\\na.agg(lambda x: (x%2)*10):\\n{}\".format(a.agg(lambda x: (x%2)*10)))\n",
    "print(\"\\na.align(b):\\n{}\".format(a.align(b)))\n",
    "print(\"\\nb.align(a):\\n{}\".format(b.align(a)))\n",
    "print()"
   ]
  },
  {
   "cell_type": "code",
   "execution_count": null,
   "metadata": {},
   "outputs": [],
   "source": []
  }
 ],
 "metadata": {
  "colab": {
   "collapsed_sections": [],
   "name": "Pandas.ipynb",
   "provenance": []
  },
  "kernelspec": {
   "display_name": "CHE597",
   "language": "python",
   "name": "python3"
  },
  "language_info": {
   "codemirror_mode": {
    "name": "ipython",
    "version": 3
   },
   "file_extension": ".py",
   "mimetype": "text/x-python",
   "name": "python",
   "nbconvert_exporter": "python",
   "pygments_lexer": "ipython3",
   "version": "3.12.8"
  },
  "toc": {
   "base_numbering": 1,
   "nav_menu": {},
   "number_sections": true,
   "sideBar": true,
   "skip_h1_title": true,
   "title_cell": "Table of Contents",
   "title_sidebar": "Contents",
   "toc_cell": true,
   "toc_position": {},
   "toc_section_display": true,
   "toc_window_display": true
  }
 },
 "nbformat": 4,
 "nbformat_minor": 1
}
