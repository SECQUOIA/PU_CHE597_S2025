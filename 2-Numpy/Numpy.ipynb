{
 "cells": [
  {
   "cell_type": "markdown",
   "metadata": {},
   "source": [
    "<a name=\"top\" id=\"top\"></a>\n",
    "\n",
    "<div align=\"center\">\n",
    "    <h1>CHE597 - Numpy</h1>\n",
    "    <a href=\"https://github.com/bernalde\">David E. Bernal Neira</a>\n",
    "    <br>\n",
    "    <i>Davidson School of Chemical Engineering, Purdue University</i>\n",
    "    <br>\n",
    "    <a href=\"https://colab.research.google.com/github/SECQUOIA/PU_CHE597_S2025/blob/main/2-Numpy/Numpy.ipynb\" target=\"_parent\">\n",
    "        <img src=\"https://colab.research.google.com/assets/colab-badge.svg\" alt=\"Open In Colab\"/>\n",
    "    </a>\n",
    "    <a href=\"https://secquoia.github.io/\">\n",
    "        <img src=\"https://img.shields.io/badge/🌲⚛️🌐-SECQUOIA-blue\" alt=\"SECQUOIA\"/>\n",
    "    </a>\n",
    "</div>"
   ]
  },
  {
   "cell_type": "markdown",
   "metadata": {
    "id": "Im4SD2x5RfIe",
    "toc": true
   },
   "source": [
    "<h1>Table of Contents<span class=\"tocSkip\"></span></h1>\n",
    "<div class=\"toc\"><ul class=\"toc-item\"><li><span><a href=\"#Initializing-Numpy-Arrays\" data-toc-modified-id=\"Initializing-Numpy-Arrays-1\"><span class=\"toc-item-num\">1&nbsp;&nbsp;</span>Initializing Numpy Arrays</a></span></li><li><span><a href=\"#Array-Indexing\" data-toc-modified-id=\"Array-Indexing-2\"><span class=\"toc-item-num\">2&nbsp;&nbsp;</span>Array Indexing</a></span></li><li><span><a href=\"#Array-Operator-Behavior\" data-toc-modified-id=\"Array-Operator-Behavior-3\"><span class=\"toc-item-num\">3&nbsp;&nbsp;</span>Array Operator Behavior</a></span></li><li><span><a href=\"#Array-Methods\" data-toc-modified-id=\"Array-Methods-4\"><span class=\"toc-item-num\">4&nbsp;&nbsp;</span>Array Methods</a></span><ul class=\"toc-item\"><li><span><a href=\"#Reshaping\" data-toc-modified-id=\"Reshaping-4.1\"><span class=\"toc-item-num\">4.1&nbsp;&nbsp;</span>Reshaping</a></span></li><li><span><a href=\"#Linear-Algebra\" data-toc-modified-id=\"Linear-Algebra-4.2\"><span class=\"toc-item-num\">4.2&nbsp;&nbsp;</span>Linear Algebra</a></span></li><li><span><a href=\"#Statistics\" data-toc-modified-id=\"Statistics-4.3\"><span class=\"toc-item-num\">4.3&nbsp;&nbsp;</span>Statistics</a></span></li><li><span><a href=\"#Sorting\" data-toc-modified-id=\"Sorting-4.4\"><span class=\"toc-item-num\">4.4&nbsp;&nbsp;</span>Sorting</a></span></li><li><span><a href=\"#Logical-Methods\" data-toc-modified-id=\"Logical-Methods-4.5\"><span class=\"toc-item-num\">4.5&nbsp;&nbsp;</span>Logical Methods</a></span></li></ul></li><li><span><a href=\"#Array-functions\" data-toc-modified-id=\"Array-functions-5\"><span class=\"toc-item-num\">5&nbsp;&nbsp;</span>Array functions</a></span><ul class=\"toc-item\"><li><span><a href=\"#np.where()\" data-toc-modified-id=\"np.where()-5.1\"><span class=\"toc-item-num\">5.1&nbsp;&nbsp;</span>np.where()</a></span></li><li><span><a href=\"#Linear-Algebra\" data-toc-modified-id=\"Linear-Algebra-5.2\"><span class=\"toc-item-num\">5.2&nbsp;&nbsp;</span>Linear Algebra</a></span></li><li><span><a href=\"#Axis-argument\" data-toc-modified-id=\"Axis-argument-5.3\"><span class=\"toc-item-num\">5.3&nbsp;&nbsp;</span>Axis argument</a></span></li></ul></li></ul></div>"
   ]
  },
  {
   "cell_type": "code",
   "execution_count": 4,
   "metadata": {
    "colab": {
     "base_uri": "https://localhost:8080/",
     "height": 138
    },
    "executionInfo": {
     "elapsed": 28008,
     "status": "ok",
     "timestamp": 1580333464575,
     "user": {
      "displayName": "Brett Savoie",
      "photoUrl": "",
      "userId": "11084403397391204350"
     },
     "user_tz": 300
    },
    "id": "P7Pz4NcYnoc5",
    "outputId": "45659652-df6f-4755-8126-2303aeaf9bc7"
   },
   "outputs": [],
   "source": [
    "# If using this on Google colab, we need to install the packages\n",
    "try:\n",
    "  import google.colab\n",
    "  IN_COLAB = True\n",
    "except:\n",
    "  IN_COLAB = False\n"
   ]
  },
  {
   "cell_type": "markdown",
   "metadata": {
    "id": "EUbFsAtInxrq"
   },
   "source": [
    "<b>If you are using google colab you should save this notebook and any associated textfiles to their own folder on your google drive. Then you will need to adapt the following commands so that the notebook runs from the location of that folder. This is only necessary for the brief section on reading text files into Python.</b>"
   ]
  },
  {
   "cell_type": "code",
   "execution_count": null,
   "metadata": {},
   "outputs": [],
   "source": [
    "# If you want to use Google Drive to save/load files, set this to True\n",
    "USE_GOOGLE_DRIVE = False\n",
    "if IN_COLAB and USE_GOOGLE_DRIVE:\n",
    "    from google.colab import drive\n",
    "    drive.mount('/content/drive')\n",
    "\n",
    "    # Colab command to navigate to the folder holding the homework,\n",
    "    # CHANGE FOR YOUR SPECIFIC FOLDER LOCATION IN GOOGLE DRIVE\n",
    "    # Note: if there are spaces in the path, you need to precede them with a backslash '\\'\n",
    "    %cd /content/drive/My\\ Drive/CHE597/Lectures/2-Numpy"
   ]
  },
  {
   "cell_type": "markdown",
   "metadata": {
    "id": "Akw58iFcRfIg"
   },
   "source": [
    "\n",
    "\n",
    "# Introduction to Numpy\n",
    "<b>Numpy</b> is a ubiquitous module in scientific python applications that supplies an important class called an array. Arrays are essentially numerical implementations of tensors (i.e., vectors, matrices, and other higher dimensional numerical objects). In this section we will see the basic attributes and methods associated with numpy arrays. \n",
    "\n",
    "<b>historical note:</b> Scipy is a very common module that also includes numpy. This is because numpy preceeded scipy, and scipy builds on it. If you are looking up things online you will often see them used interchangably, but the basic distinction is that Scipy contains a lot of additional functions and numerical methods that are not part of numpy. There is no point in importing the much larger scipy module, if all you are doing is using numpy arrays and their associated functionality.\n",
    "\n",
    "In the following sections keywords you should know and in-text code will be presented as <b>keywords</b> and `code`, respectively. \n",
    "\n",
    "## Initializing Numpy Arrays\n",
    "Initializing a numpy array is as simple as importing the library and passing a list to the `np.array()` constructor (the class `__init__`, looks like a function):"
   ]
  },
  {
   "cell_type": "code",
   "execution_count": null,
   "metadata": {
    "colab": {
     "base_uri": "https://localhost:8080/"
    },
    "executionInfo": {
     "elapsed": 227,
     "status": "ok",
     "timestamp": 1674578085826,
     "user": {
      "displayName": "Brett Savoie",
      "userId": "11084403397391204350"
     },
     "user_tz": 300
    },
    "id": "jF0WXELoRfIh",
    "outputId": "acdaa779-106f-4018-aebf-76f5b4afc882"
   },
   "outputs": [],
   "source": [
    "import numpy as np\n",
    "a = np.array(range(9))\n",
    "print(a)"
   ]
  },
  {
   "cell_type": "markdown",
   "metadata": {
    "id": "dBZ6qu_ERfIl"
   },
   "source": [
    "Note that because we've imported numpy as `.np`, we access the associated objects in numpy through the `np.` namespace. The `array` constructor accepts a list containing a single datatype, and has an optional argument for the datatype `dtype`:"
   ]
  },
  {
   "cell_type": "code",
   "execution_count": null,
   "metadata": {
    "id": "i7rjTWLcMxc_",
    "outputId": "459d6ec3-ad79-4c02-e4cf-0aa614a09603"
   },
   "outputs": [],
   "source": [
    "b = np.array(range(9),dtype=np.float32)\n",
    "print(b)"
   ]
  },
  {
   "cell_type": "markdown",
   "metadata": {
    "id": "iC-5G5SMMxdD"
   },
   "source": [
    "When we supply the type `np.float32`, the list of integers returned by `range(5)` are upcast to numpy 32-bit floats (Note: built-in python floats are stored as 64-bit numbers, you can use `np.float64` if you need this additional precision but it doubles the memory cost of each number). Arrays only hold data of a single type, if you try to supply mixed numerical types it will always upcast to the highest level required to represent all of the objects: "
   ]
  },
  {
   "cell_type": "code",
   "execution_count": null,
   "metadata": {
    "id": "aKUIHEO-MxdE",
    "outputId": "aaaa8c74-006f-4174-e885-7f2a57844b43"
   },
   "outputs": [],
   "source": [
    "c = np.array([1,2.0,1+1j])\n",
    "d = np.array([1,2.0,\"3\"])\n",
    "print(c)\n",
    "print(d)"
   ]
  },
  {
   "cell_type": "markdown",
   "metadata": {
    "id": "pluk2SDuMxdJ"
   },
   "source": [
    "In the first example all of the numbers are recast as complex, in the second they are recast as strings.\n",
    "\n",
    "Arrays can also be made by passing tuples: "
   ]
  },
  {
   "cell_type": "code",
   "execution_count": null,
   "metadata": {
    "id": "Fv6o8vhFMxdL",
    "outputId": "20ce3966-8542-4a78-e5cd-eba6bce6b3cf"
   },
   "outputs": [],
   "source": [
    "d = np.array((1,2,3))\n",
    "print(d)"
   ]
  },
  {
   "cell_type": "markdown",
   "metadata": {
    "id": "gnXuFMKLMxdO"
   },
   "source": [
    "You won't get an error if you pass sets and dictionaries to `np.array()`, but their behavior won't be array-like. You can also initialize arrays to have multiple dimensions, by initializing them with lists of lists:"
   ]
  },
  {
   "cell_type": "code",
   "execution_count": null,
   "metadata": {
    "id": "mtG_oUEpRfIm",
    "outputId": "2b92d988-22d6-4372-d4a3-7864778bd7f2"
   },
   "outputs": [],
   "source": [
    "e = np.array([1,2]) # 1D array (vector)\n",
    "f = np.array([[1,2],[3,4]]) # 2D array (matrix)\n",
    "g = np.array([[[1,2],[3,4]],[[5,6],[7,8]]]) # 3D array(tensor)\n",
    "print(\"1D:\\n{}\".format(e))\n",
    "print(\"\\n2D:\\n{}\".format(f))\n",
    "print(\"\\n3D:\\n{}\".format(g))"
   ]
  },
  {
   "cell_type": "markdown",
   "metadata": {
    "id": "QOi4UnWhRfIo"
   },
   "source": [
    "Numpy also comes with several built-in functions for initializing arrays:\n",
    "\n",
    "- `zeros([n_rows,n_cols,...],dtype=float64)` can be used to initialize an array of zeroes with the specified shape and type.  \n",
    "- `ones([n_rows,n_cols,...],dtype=float64)` can be used to initialize an array of ones with the specified shape and type.\n",
    "- `full([n_rows,n_cols,...],value)` can be used to initialize an array of values with the specified shape and type.\n",
    "- `arange(start=0,stop,step=1,dtype=int64)` can be used to initialize a vector with evenly spaced between `start` and `stop` with a spacing of `step`, excluding the `stop` value but including the `start` value. `start` and `step` are optional. \n",
    "- `linspace(start=0,stop,num=50)` can be used to initialize a vector with a specify number of values between the `start` and `stop` values. Similar to `arange` but you specified the number of values rather than the step.\n",
    "\n",
    "Their behavior is more clearly illustrated with examples:"
   ]
  },
  {
   "cell_type": "code",
   "execution_count": null,
   "metadata": {
    "id": "FeJofBT9MxdS",
    "outputId": "0f002bf7-3401-4819-d51e-1b15998e6fb9"
   },
   "outputs": [],
   "source": [
    "h = np.zeros([2,2])\n",
    "i = np.ones([2,2])\n",
    "j = np.full([2,2],100.)\n",
    "k = np.arange(10)\n",
    "l = np.linspace(1,2,num=11)\n",
    "print(h)\n",
    "print(i)\n",
    "print(j)\n",
    "print(k)\n",
    "print(l)"
   ]
  },
  {
   "cell_type": "markdown",
   "metadata": {
    "id": "8gNRPDBoMxdW"
   },
   "source": [
    "Numpy has even more functions for initializing arrays for particular purposes, but these are the most common. \n",
    "\n",
    "Lastly, Numpy also has a relatively flexible built-in function called `loadtxt(filename,comments='#',delimiter=' ',skiprows=0,...)` for initializing arrays from suitably delimitted files:"
   ]
  },
  {
   "cell_type": "code",
   "execution_count": null,
   "metadata": {
    "id": "k3rNjigjMxdX",
    "outputId": "ab13f654-3551-469a-e1d9-f47a21b34a79"
   },
   "outputs": [],
   "source": [
    "m = np.loadtxt('sample.txt',comments=\"!\",skiprows=1)\n",
    "print(m)"
   ]
  },
  {
   "cell_type": "markdown",
   "metadata": {
    "id": "nl1dZA9GMxda"
   },
   "source": [
    "`genfromtxt()` is another numpy function with similar arguments that can also apply simple rules for missing values:"
   ]
  },
  {
   "cell_type": "code",
   "execution_count": null,
   "metadata": {
    "id": "5P3zwFBOMxdb",
    "outputId": "6bcd63de-4d71-4a0a-ec9e-c500b099f6e7"
   },
   "outputs": [],
   "source": [
    "n = np.genfromtxt('sample2.txt',comments=\"!\",skip_header=1,filling_values=100)\n",
    "print(n)"
   ]
  },
  {
   "cell_type": "markdown",
   "metadata": {
    "id": "Hr9UQax7Mxdd"
   },
   "source": [
    "## Array Indexing\n",
    "You can access values from arrays using the same slicing notation that we use for lists:"
   ]
  },
  {
   "cell_type": "code",
   "execution_count": null,
   "metadata": {
    "id": "_a3C9FxCRfIp",
    "outputId": "949448f7-e286-45da-82ed-488bf1dbdda7"
   },
   "outputs": [],
   "source": [
    "m = np.arange(10)\n",
    "print(m[2::2])"
   ]
  },
  {
   "cell_type": "markdown",
   "metadata": {
    "id": "PxkKNLTAMxdh"
   },
   "source": [
    "For multi-dimensional arrays, you can use sequential `[]` notation to access specific elements and rows. The first index corresponds to rows, the second to columns, and so on. For example `array[3][::2]` would return every other column from the 4th row. In sequential `[]` notation, each slice is returned before the next operates. Here are some examples:"
   ]
  },
  {
   "cell_type": "code",
   "execution_count": null,
   "metadata": {
    "id": "YqgiJoYUMxdi",
    "outputId": "0faf966b-1726-4d3b-ef16-9f308ec93be9"
   },
   "outputs": [],
   "source": [
    "n = np.array([[1,2],[3,4]])\n",
    "print(n)\n",
    "print(n[1][1])\n",
    "print(n[0])"
   ]
  },
  {
   "cell_type": "markdown",
   "metadata": {
    "id": "hAF8Z8XgMxdl"
   },
   "source": [
    "If you want to return specific columns or other dimensions you would use `[row,col,...]` notation. This is distinct from the sequential notation in that the slicing operation is carried out in a single step. This is necessary for returning columns. Consider the differing results of the following slicing operations: "
   ]
  },
  {
   "cell_type": "code",
   "execution_count": null,
   "metadata": {
    "id": "GQwaH2I1Mxdm",
    "outputId": "3b86b6f0-19a9-426b-edad-3b62e7516a86"
   },
   "outputs": [],
   "source": [
    "o = np.array([[1,2],[3,4]])\n",
    "print(o)\n",
    "print(o[:,1]) # Example 1\n",
    "print(o[:][1]) # Example 2"
   ]
  },
  {
   "cell_type": "markdown",
   "metadata": {
    "id": "r3YUXdQ-Mxdq"
   },
   "source": [
    "In the first example the second column is returned, but in the second example the second row is returned. The latter result occurs because the first slicing operation `o[:]` just returns the full array, with the result that the second slicing operation (`[1]`) returns the second row.\n",
    "\n",
    "Finally, arrays are distinct from lists in that you can pass a list of indices to arrays via the `[]` notation to return values in that order:"
   ]
  },
  {
   "cell_type": "code",
   "execution_count": null,
   "metadata": {
    "id": "uQpPimJCMxdq",
    "outputId": "74369d00-ae64-4029-d114-5ea1d881c05b"
   },
   "outputs": [],
   "source": [
    "print(o[[1,0]])\n",
    "print(o[[1,0,1],[1,0,0]])"
   ]
  },
  {
   "cell_type": "markdown",
   "metadata": {
    "id": "6Yng2yQ3Mxdt"
   },
   "source": [
    "In the first case, the rows are returned in order specified in the list. In the second case where two lists are passed, the first list specifies the row locations and the second list specifies the column locations (i.e., the `o[1][1]`, `o[0][0]`, and `o[1][0]` elements). This second case is a useful reference for below where the `np.where()` function is discussed."
   ]
  },
  {
   "cell_type": "markdown",
   "metadata": {
    "id": "h0cgnfC4Mxdu"
   },
   "source": [
    "## Array Operator Behavior\n",
    "Numpy arrays are defined to behave within typical operators (`+,-,*,**,/,%,>,==`) in element-wise fashion. Thus, `a*b` does <b>not</b> mean dot product, it means <b>element-wise</b> product between the arrays pointed to by `a` and `b`:"
   ]
  },
  {
   "cell_type": "code",
   "execution_count": null,
   "metadata": {
    "colab": {
     "base_uri": "https://localhost:8080/",
     "height": 235
    },
    "executionInfo": {
     "elapsed": 512,
     "status": "ok",
     "timestamp": 1580332876014,
     "user": {
      "displayName": "Brett Savoie",
      "photoUrl": "",
      "userId": "11084403397391204350"
     },
     "user_tz": 300
    },
    "id": "YdrK8B0iMxdu",
    "outputId": "aae97264-4a30-4960-90e5-9cd2c934722f"
   },
   "outputs": [],
   "source": [
    "p = np.arange(4)\n",
    "print(\"p: {}\".format(p))\n",
    "print(\"p+p: {}\".format(p+p))\n",
    "print(\"p-p: {}\".format(p-p))\n",
    "print(\"p*p: {}\".format(p*p))\n",
    "print(\"p**p: {}\".format(p**p))\n",
    "print(\"p/p: {}\".format(p/p))\n",
    "print(\"p%p: {}\".format(p%p))\n",
    "print(\"p>p: {}\".format(p>p))\n",
    "print(\"p==p: {}\".format(p==p))"
   ]
  },
  {
   "cell_type": "markdown",
   "metadata": {
    "id": "KSCmx8WFMxdx"
   },
   "source": [
    "Since operators act <b>element-wise</b>, they only make sense when `a` and `b` point to arrays of the same shape (see <b>broadcasting</b> behavior in numpy docs for more details on when operations can be performed on arrays of different size). You can also apply these operators between arrays and scalars, in which case the same scalar is applied to every element of the array in the operation:"
   ]
  },
  {
   "cell_type": "code",
   "execution_count": null,
   "metadata": {
    "colab": {
     "base_uri": "https://localhost:8080/",
     "height": 168
    },
    "executionInfo": {
     "elapsed": 1427,
     "status": "ok",
     "timestamp": 1580332882877,
     "user": {
      "displayName": "Brett Savoie",
      "photoUrl": "",
      "userId": "11084403397391204350"
     },
     "user_tz": 300
    },
    "id": "lyIbaVatMxdy",
    "outputId": "3dd98e84-79dd-4014-ba46-cb0106c686f7"
   },
   "outputs": [],
   "source": [
    "print(\"p: {}\".format(p))\n",
    "print(\"p+1.0: {}\".format(p+1.0))\n",
    "print(\"p-1.0: {}\".format(p-1.0))\n",
    "print(\"p*2.0: {}\".format(p*2.0))\n",
    "print(\"p**2.0: {}\".format(p**2.0))\n",
    "print(\"p/2.0: {}\".format(p/2.0))\n",
    "print(\"p%2.0: {}\".format(p%2.0))\n",
    "print(\"p>2: {}\".format(p>2))\n",
    "print(\"p==2: {}\".format(p==2))"
   ]
  },
  {
   "cell_type": "markdown",
   "metadata": {
    "id": "L9iO5Sx-Licz"
   },
   "source": [
    "Numpy also introduces a new operator, `@`, for the inner product between two arrays:"
   ]
  },
  {
   "cell_type": "code",
   "execution_count": null,
   "metadata": {
    "colab": {
     "base_uri": "https://localhost:8080/",
     "height": 34
    },
    "executionInfo": {
     "elapsed": 526,
     "status": "ok",
     "timestamp": 1580332937629,
     "user": {
      "displayName": "Brett Savoie",
      "photoUrl": "",
      "userId": "11084403397391204350"
     },
     "user_tz": 300
    },
    "id": "UtITi1zxLquq",
    "outputId": "d929cc59-02a8-483c-90fe-ff8c36fa7f10"
   },
   "outputs": [],
   "source": [
    "print(\"p@p: {}\".format(p@p))"
   ]
  },
  {
   "cell_type": "markdown",
   "metadata": {
    "id": "HiXKfkGHLwCB"
   },
   "source": [
    "This is equivalent to the `array.dot()` method and `np.dot()` function described below."
   ]
  },
  {
   "cell_type": "markdown",
   "metadata": {
    "id": "1zyhntLEMxd1"
   },
   "source": [
    "## Array Methods\n",
    "Numpy arrays come with a number of built-in methods for reshaping matrices, performing linear-algebra operations, calculating statistics, sorting, and performing logical operations.\n",
    "\n",
    "### Reshaping \n",
    "When we initialize an array, we can reorganize the elements using the `.reshape(dim1,dim2,...)` method to convert a vector into a matrix, etc. and vice versa:"
   ]
  },
  {
   "cell_type": "code",
   "execution_count": null,
   "metadata": {
    "colab": {
     "base_uri": "https://localhost:8080/",
     "height": 84
    },
    "executionInfo": {
     "elapsed": 425,
     "status": "ok",
     "timestamp": 1580327279026,
     "user": {
      "displayName": "Brett Savoie",
      "photoUrl": "",
      "userId": "11084403397391204350"
     },
     "user_tz": 300
    },
    "id": "ndX1BrYBMxd3",
    "outputId": "52047f51-5eae-4fd6-b38a-1c2dc65cfd55"
   },
   "outputs": [],
   "source": [
    "# Example 1: Using reshape to increase dimensions\n",
    "q = np.arange(9).reshape(3,3)\n",
    "print(q)\n",
    "\n",
    "# Example 2: Using reshape to reduce dimensions\n",
    "print(q.reshape(9))"
   ]
  },
  {
   "cell_type": "markdown",
   "metadata": {
    "id": "UYaORB_hRfIs"
   },
   "source": [
    "- <b>Example 1:</b> We create a 1-d array with `arange(9)` and immediately reshape it to a square 3x3 matrix. Note that you can chain numpy methods together just like you can any class method. \n",
    "- <b>Example 2:</b> We reshape the 3x3 matrix back to a 1D vector. Note that numpy counts objects by row, then column, etc. when reducing dimensions.\n",
    "\n",
    "### Linear Algebra\n",
    "One of the major motivations for developing numpy was to provide python users with access to objects that behave like tensors. The numpy arrays thus supplies methods for dot product, transpose, and complex conjugate:"
   ]
  },
  {
   "cell_type": "code",
   "execution_count": null,
   "metadata": {
    "colab": {
     "base_uri": "https://localhost:8080/",
     "height": 151
    },
    "executionInfo": {
     "elapsed": 466,
     "status": "ok",
     "timestamp": 1580327418441,
     "user": {
      "displayName": "Brett Savoie",
      "photoUrl": "",
      "userId": "11084403397391204350"
     },
     "user_tz": 300
    },
    "id": "ltZQ9apIRfIt",
    "outputId": "fdf19d58-99e1-4c26-d105-c6e00f81d949"
   },
   "outputs": [],
   "source": [
    "r = np.linspace(1+1J,4+4J,num=4).reshape(2,2)\n",
    "print(r)\n",
    "print(r.dot(r))\n",
    "print(r.dot(r.transpose()))\n",
    "print(r.dot(r.transpose().conj())) # Hermitian "
   ]
  },
  {
   "cell_type": "markdown",
   "metadata": {
    "id": "6EsRVqjfRfIv"
   },
   "source": [
    "More linear algebra operations can be applied using built in numpy functions (described in the following section) that accept arrays as inputs. \n",
    "\n",
    "### Statistics\n",
    "Arrays come with built-in methods for calculating means, sums, products, and standard deviations along rows/columns:  "
   ]
  },
  {
   "cell_type": "code",
   "execution_count": null,
   "metadata": {
    "colab": {
     "base_uri": "https://localhost:8080/",
     "height": 403
    },
    "executionInfo": {
     "elapsed": 468,
     "status": "ok",
     "timestamp": 1580328057567,
     "user": {
      "displayName": "Brett Savoie",
      "photoUrl": "",
      "userId": "11084403397391204350"
     },
     "user_tz": 300
    },
    "id": "pbU0_gAhRfIw",
    "outputId": "8f3c7444-f70c-42dd-b54e-d31085b04902"
   },
   "outputs": [],
   "source": [
    "# Mean Examples\n",
    "r = np.arange(4).reshape(2,2)\n",
    "print(\"r:\\n{}\".format(r))\n",
    "print(\"\\nmean examples:\")\n",
    "print(r.mean())\n",
    "print(r.mean(axis=0))\n",
    "print(r.mean(axis=1))\n",
    "\n",
    "# Sum Examples\n",
    "print(\"\\nsum examples:\")\n",
    "print(r.sum())\n",
    "print(r.sum(axis=0)) # over rows\n",
    "print(r.sum(axis=1)) # over columns\n",
    "\n",
    "# Product Examples\n",
    "print(\"\\nprod examples:\")\n",
    "print(r.prod())\n",
    "print(r.prod(axis=0)) # over rows\n",
    "print(r.prod(axis=1)) # over columns\n",
    "\n",
    "# Stdev Examples\n",
    "print(\"\\nstd examples:\")\n",
    "print(r.std())\n",
    "print(r.std(axis=0)) # over rows\n",
    "print(r.std(axis=1)) # over columns"
   ]
  },
  {
   "cell_type": "markdown",
   "metadata": {
    "id": "KCDQ1jnnRfIy"
   },
   "source": [
    "Each of these methods accepts an optional `axis` argument which corresponds to which dimension you want to perform the operation over (See later section on this topic). For example, `.mean(axis=0)` corresponds to taking the mean of each column (since you are calculating the mean over the rows). Similar to other array related commands, `axis` interprets `0` as rows, `1` as columns, etc. When `axis` is not specified, each method is calculated with respect to all elements in the array.\n",
    "\n",
    "### Sorting\n",
    "Arrays come with built-in methods for sorting values and returning the indices of the sorted array:"
   ]
  },
  {
   "cell_type": "code",
   "execution_count": null,
   "metadata": {
    "colab": {
     "base_uri": "https://localhost:8080/",
     "height": 218
    },
    "executionInfo": {
     "elapsed": 519,
     "status": "ok",
     "timestamp": 1580328443677,
     "user": {
      "displayName": "Brett Savoie",
      "photoUrl": "",
      "userId": "11084403397391204350"
     },
     "user_tz": 300
    },
    "id": "XAoR6l63MxeH",
    "outputId": "a0f7827e-7112-41a2-c5c4-19350deb8ff0"
   },
   "outputs": [],
   "source": [
    "# Initialize 2D array\n",
    "s = np.array([[4,1],[2,3]])\n",
    "print(\"s:\\n{}\\n\".format(s))\n",
    "\n",
    "# Example 1: Sort rows\n",
    "s = np.array([[4,1],[2,3]])\n",
    "s.sort() # Same as axis=1\n",
    "print(\"\\ns.sort():\\n{}\".format(s))\n",
    "\n",
    "# Example 2: Sort columns\n",
    "s = np.array([[4,1],[2,3]])\n",
    "s.sort(axis=0)\n",
    "print(\"\\ns.sort(axis=0):\\n{}\".format(s))\n"
   ]
  },
  {
   "cell_type": "markdown",
   "metadata": {
    "id": "8MM8xIwNMxeK"
   },
   "source": [
    "-<b>Example 1:</b> The `.sort()` method modifies the existing array and does not return a new array. The `.sort()` method accepts an optional `axis` argument, by default this is set to `-1` (i.e., the last dimension of the array). In this case, `axis=1`, so the sorting is across the columns and each row has the same values but in ascending order.\n",
    "\n",
    "-<b>Example 2:</b> Here `axis=0`, so the sorting is across the rows and each column has the same values but in ascending order.\n",
    "\n",
    "Arrays also come with the `.argsort()` method that returns the indices that would sort the array, this can be useful when you want to sort an array by the values in a particular column or row: "
   ]
  },
  {
   "cell_type": "code",
   "execution_count": null,
   "metadata": {
    "colab": {
     "base_uri": "https://localhost:8080/",
     "height": 218
    },
    "executionInfo": {
     "elapsed": 492,
     "status": "ok",
     "timestamp": 1580329222960,
     "user": {
      "displayName": "Brett Savoie",
      "photoUrl": "",
      "userId": "11084403397391204350"
     },
     "user_tz": 300
    },
    "id": "H0rA9wkoMxeL",
    "outputId": "d0cc733c-6be9-4b51-8001-d5ba3c60f451"
   },
   "outputs": [],
   "source": [
    "t = np.array([[3,0.1],[1,0.2],[2,0.2]])\n",
    "inds = t[:,0].argsort()\n",
    "print(\"t:\\n{}\\n\".format(t))\n",
    "print(\"inds:\\n{}\\n\".format(inds))\n",
    "print(\"t[inds]:\\n{}\".format(t[inds]))"
   ]
  },
  {
   "cell_type": "markdown",
   "metadata": {
    "id": "SQNw6zUUMxeO"
   },
   "source": [
    "In this example, suppose that the first column in the array were time and we wanted to sort the rest of values in each row so that the times are ordered. Here `t[:,0].argort()` returns a list of indices (`inds`) that sorts the times. The array can then be called with these indices (`t[inds]`) to return the array sorted by the time values. "
   ]
  },
  {
   "cell_type": "markdown",
   "metadata": {
    "id": "M7ykf4krMxeP"
   },
   "source": [
    "### Logical Methods\n",
    "When you want to use logical operators on arrays like `>` and `==` you might want to know if \"any\" value in the array is \"greater than\" or \"equal to\" a value, respectively. Alternatively, you might want to know if \"all\" values in the array satisfy the comparison. The `.all()` and `.any()` methods are used for this purpose:"
   ]
  },
  {
   "cell_type": "code",
   "execution_count": null,
   "metadata": {
    "colab": {
     "base_uri": "https://localhost:8080/",
     "height": 50
    },
    "executionInfo": {
     "elapsed": 579,
     "status": "ok",
     "timestamp": 1580330567130,
     "user": {
      "displayName": "Brett Savoie",
      "photoUrl": "",
      "userId": "11084403397391204350"
     },
     "user_tz": 300
    },
    "id": "itSyDLAoMxeP",
    "outputId": "80469d22-1634-43cd-b497-d097a9bd4211"
   },
   "outputs": [],
   "source": [
    "u = np.array([3,3,4,5])\n",
    "print((u>3).any())\n",
    "print((u>3).all())"
   ]
  },
  {
   "cell_type": "markdown",
   "metadata": {
    "id": "QvTf4GhuMxeS"
   },
   "source": [
    "- <b>Example 1:</b> `(u>3)` returns an array of booleans which is passed to `.any()` for evaluation. `.any()` returns `True` because `4` and `5` are greater than `3`.\n",
    "- <b>Example 2:</b> `(u>3)` returns an array of booleans which is passed to `.all()` for evaluation. `.all()` returns `False` because the first two elements are `False` (i.e., not \"all\" of the booleans are `True`)."
   ]
  },
  {
   "cell_type": "markdown",
   "metadata": {
    "id": "Tyl6n4adMxeT"
   },
   "source": [
    "## Array functions\n",
    "Even though Numpy is the \"light-weight\" version of \"scipy\" it comes packed with a lot of useful functions for arrays relevant to finding specific elements and performing additional linear algebra operations.\n",
    "\n",
    "### np.where()\n",
    "The `np.where(condition)` function is a flexible and optimized function for finding the indices in an array where a condition is `True`:"
   ]
  },
  {
   "cell_type": "code",
   "execution_count": null,
   "metadata": {
    "colab": {
     "base_uri": "https://localhost:8080/",
     "height": 50
    },
    "executionInfo": {
     "elapsed": 583,
     "status": "ok",
     "timestamp": 1580330889939,
     "user": {
      "displayName": "Brett Savoie",
      "photoUrl": "",
      "userId": "11084403397391204350"
     },
     "user_tz": 300
    },
    "id": "c_UIJvf2RfIz",
    "outputId": "4f7289a6-e541-4d43-84bf-39c5f0496388"
   },
   "outputs": [],
   "source": [
    "v = np.array([[3,1],[2,20]])\n",
    "row_inds,col_inds = np.where(v>1)\n",
    "print(row_inds,col_inds) \n",
    "print(v[np.where(v>1)]) # np.where() result can also be used directly"
   ]
  },
  {
   "cell_type": "markdown",
   "metadata": {
    "id": "01o0PnEHRfI1"
   },
   "source": [
    "`np.where(v>1)` returns a tuple of two arrays with the row and column positions corresponding to where `v>1`. The tuple contains two arrays because `v` is two dimensional. For example, on a vector `np.where` only returns one array:"
   ]
  },
  {
   "cell_type": "code",
   "execution_count": null,
   "metadata": {
    "colab": {
     "base_uri": "https://localhost:8080/",
     "height": 50
    },
    "executionInfo": {
     "elapsed": 506,
     "status": "ok",
     "timestamp": 1580331084370,
     "user": {
      "displayName": "Brett Savoie",
      "photoUrl": "",
      "userId": "11084403397391204350"
     },
     "user_tz": 300
    },
    "id": "HlLIfIEZMxeX",
    "outputId": "3e147a9d-f4d2-4926-ec54-36847bab7e87"
   },
   "outputs": [],
   "source": [
    "w = np.array([1,2,3,4])\n",
    "print(np.where(w == 1))\n",
    "print(w[np.where(w == 1)])"
   ]
  },
  {
   "cell_type": "markdown",
   "metadata": {
    "id": "--cLdrnOZ-FP"
   },
   "source": [
    "`np.where(condition,truevals,falsevals)` is a second use case of `np.where()` that is used to generate a new array based on values from `truevals` and `falsevals`. Specifically, the new array will have dimensions equal to `condition`. `truvals` and `falsevals` must either be constants or arrays of the same dimension as `condition`. Here are examples of both uses:"
   ]
  },
  {
   "cell_type": "code",
   "execution_count": null,
   "metadata": {
    "id": "bFVQOQnjZ-FP",
    "outputId": "7d6a585b-da3a-4c35-edbf-7f36472bdb47"
   },
   "outputs": [],
   "source": [
    "truvals = np.array([[1,2],[3,4]])\n",
    "falsevals = np.array([[-1,-2],[-3,-4]])\n",
    "a = np.where(truvals>1,truvals,falsevals)\n",
    "b = np.where(truvals<3,truvals,100)\n",
    "print(a)\n",
    "print(b)"
   ]
  },
  {
   "cell_type": "markdown",
   "metadata": {
    "id": "BqWCSQRdMxea"
   },
   "source": [
    "### Linear Algebra\n",
    "Some array methods can be used to perform linear algebra operations, but a more general set is available through the numpy functions. `cross()`, `dot()`, `matmul()`, `outer()` all correspond to the expected matrix operations:"
   ]
  },
  {
   "cell_type": "code",
   "execution_count": null,
   "metadata": {
    "colab": {
     "base_uri": "https://localhost:8080/",
     "height": 101
    },
    "executionInfo": {
     "elapsed": 539,
     "status": "ok",
     "timestamp": 1580332043615,
     "user": {
      "displayName": "Brett Savoie",
      "photoUrl": "",
      "userId": "11084403397391204350"
     },
     "user_tz": 300
    },
    "id": "vpLxCvS6RfI1",
    "outputId": "3c3e059f-bd19-48c4-b8f9-345ff67e4a59"
   },
   "outputs": [],
   "source": [
    "# cross, dot, and outer product examples\n",
    "x = np.array([1,0,0])\n",
    "y = np.array([0,1,0])\n",
    "print(np.cross(x,y))\n",
    "print(np.dot(x,y))\n",
    "print(np.matmul(x,y)) # NOTE: this behaves the same as dot() for vectors and matrices. For 3D it interprets the array as a list of matrices where the matrices are stored in the last two dimensions. \n",
    "print(np.outer(x,y)) # analogous to dot(x.T,y)"
   ]
  },
  {
   "cell_type": "markdown",
   "metadata": {
    "id": "U8z8WUXdZ-FQ"
   },
   "source": [
    "### Axis argument\n",
    "In typical use cases there can be the need to only apply numpy methods/functions along a subset of an array. For example, you might want to find the maximum value in each row of an array, or each column of an array, rather than over the whole array. Likewise, we already saw the example above of calculatings sums and means across columns and rows.\n",
    "\n",
    "Whenever it makes sense for a method or function to operate across rows or columns, numpy uses an optional `axis` argument to control the behavior. In most cases the default behavior is to perform the operation over the whole array, whereas `axis=0` means to perform the operation across rows, and `axis=1` means to perform the operation across columns. You will only get an intuition for this from practice, but below are some illustrative examples:"
   ]
  },
  {
   "cell_type": "code",
   "execution_count": null,
   "metadata": {
    "id": "LRswxoQNZ-FQ",
    "outputId": "98f3a14f-2848-48af-a1f4-34b3447104ab"
   },
   "outputs": [],
   "source": [
    "a = np.arange(25).reshape(5,5)\n",
    "print(a)\n",
    "print(\"sum over array: {}\".format(a.sum()))\n",
    "print(\"sum over rows: {}\".format(a.sum(axis=0)))\n",
    "print(\"sum over colunns: {}\".format(a.sum(axis=1)))\n",
    "print(\"maximum value over the array: {}\".format(a.max()))\n",
    "print(\"maximum value in each column: {}\".format(a.max(axis=0)))\n",
    "print(\"maximum value in each row: {}\".format(a.max(axis=1)))"
   ]
  }
 ],
 "metadata": {
  "colab": {
   "provenance": []
  },
  "kernelspec": {
   "display_name": "CHE597",
   "language": "python",
   "name": "python3"
  },
  "language_info": {
   "codemirror_mode": {
    "name": "ipython",
    "version": 3
   },
   "file_extension": ".py",
   "mimetype": "text/x-python",
   "name": "python",
   "nbconvert_exporter": "python",
   "pygments_lexer": "ipython3",
   "version": "3.12.8"
  },
  "toc": {
   "base_numbering": 1,
   "nav_menu": {},
   "number_sections": true,
   "sideBar": true,
   "skip_h1_title": true,
   "title_cell": "Table of Contents",
   "title_sidebar": "Contents",
   "toc_cell": true,
   "toc_position": {},
   "toc_section_display": true,
   "toc_window_display": true
  }
 },
 "nbformat": 4,
 "nbformat_minor": 0
}
