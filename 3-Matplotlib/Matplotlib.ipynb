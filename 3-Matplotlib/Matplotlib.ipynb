{
 "cells": [
  {
   "cell_type": "markdown",
   "metadata": {},
   "source": [
    "<a name=\"top\" id=\"top\"></a>\n",
    "\n",
    "<div align=\"center\">\n",
    "    <h1>CHE597 - Matplotlib</h1>\n",
    "    <a href=\"https://github.com/bernalde\">David E. Bernal Neira</a>\n",
    "    <br>\n",
    "    <i>Davidson School of Chemical Engineering, Purdue University</i>\n",
    "    <br>\n",
    "    <a href=\"https://colab.research.google.com/github/SECQUOIA/PU_CHE597_S2025/blob/main/3-Matplotlib/Matplotlib.ipynb\" target=\"_parent\">\n",
    "        <img src=\"https://colab.research.google.com/assets/colab-badge.svg\" alt=\"Open In Colab\"/>\n",
    "    </a>\n",
    "    <a href=\"https://secquoia.github.io/\">\n",
    "        <img src=\"https://img.shields.io/badge/🌲⚛️🌐-SECQUOIA-blue\" alt=\"SECQUOIA\"/>\n",
    "    </a>\n",
    "</div>"
   ]
  },
  {
   "cell_type": "markdown",
   "metadata": {
    "id": "Im4SD2x5RfIe",
    "toc": true
   },
   "source": [
    "<h1>Table of Contents<span class=\"tocSkip\"></span></h1>\n",
    "<div class=\"toc\"><ul class=\"toc-item\"><li><span><a href=\"#Basic-Syntax\" data-toc-modified-id=\"Basic-Syntax-1\"><span class=\"toc-item-num\">1&nbsp;&nbsp;</span>Basic Syntax</a></span><ul class=\"toc-item\"><li><span><a href=\"#The-plot-function\" data-toc-modified-id=\"The-plot-function-1.1\"><span class=\"toc-item-num\">1.1&nbsp;&nbsp;</span>The plot function</a></span></li><li><span><a href=\"#Current-Figure-and-Axes-Concepts\" data-toc-modified-id=\"Current-Figure-and-Axes-Concepts-1.2\"><span class=\"toc-item-num\">1.2&nbsp;&nbsp;</span>Current Figure and Axes Concepts</a></span></li><li><span><a href=\"#Basic-Plot-Types\" data-toc-modified-id=\"Basic-Plot-Types-1.3\"><span class=\"toc-item-num\">1.3&nbsp;&nbsp;</span>Basic Plot Types</a></span></li><li><span><a href=\"#Plotting-Categorical-Data\" data-toc-modified-id=\"Plotting-Categorical-Data-1.4\"><span class=\"toc-item-num\">1.4&nbsp;&nbsp;</span>Plotting Categorical Data</a></span></li><li><span><a href=\"#Formatting-Plots\" data-toc-modified-id=\"Formatting-Plots-1.5\"><span class=\"toc-item-num\">1.5&nbsp;&nbsp;</span>Formatting Plots</a></span><ul class=\"toc-item\"><li><span><a href=\"#Labels\" data-toc-modified-id=\"Labels-1.5.1\"><span class=\"toc-item-num\">1.5.1&nbsp;&nbsp;</span>Labels</a></span></li><li><span><a href=\"#Resizing\" data-toc-modified-id=\"Resizing-1.5.2\"><span class=\"toc-item-num\">1.5.2&nbsp;&nbsp;</span>Resizing</a></span></li><li><span><a href=\"#Colors\" data-toc-modified-id=\"Colors-1.5.3\"><span class=\"toc-item-num\">1.5.3&nbsp;&nbsp;</span>Colors</a></span></li><li><span><a href=\"#Axis-Scaling\" data-toc-modified-id=\"Axis-Scaling-1.5.4\"><span class=\"toc-item-num\">1.5.4&nbsp;&nbsp;</span>Axis Scaling</a></span></li></ul></li></ul></li><li><span><a href=\"#Connecting-with-Numpy\" data-toc-modified-id=\"Connecting-with-Numpy-2\"><span class=\"toc-item-num\">2&nbsp;&nbsp;</span>Connecting with Numpy</a></span><ul class=\"toc-item\"><li><span><a href=\"#Reading-in-Data\" data-toc-modified-id=\"Reading-in-Data-2.1\"><span class=\"toc-item-num\">2.1&nbsp;&nbsp;</span>Reading in Data</a></span></li><li><span><a href=\"#Linear-Regression---Theory\" data-toc-modified-id=\"Linear-Regression---Theory-2.2\"><span class=\"toc-item-num\">2.2&nbsp;&nbsp;</span>Linear Regression - Theory</a></span></li><li><span><a href=\"#Linear-Regression---Application\" data-toc-modified-id=\"Linear-Regression---Application-2.3\"><span class=\"toc-item-num\">2.3&nbsp;&nbsp;</span>Linear Regression - Application</a></span></li></ul></li></ul></div>"
   ]
  },
  {
   "cell_type": "code",
   "execution_count": null,
   "metadata": {
    "colab": {
     "base_uri": "https://localhost:8080/",
     "height": 391
    },
    "executionInfo": {
     "elapsed": 9755,
     "status": "error",
     "timestamp": 1674748692581,
     "user": {
      "displayName": "",
      "userId": "11084403397391204350"
     },
     "user_tz": 300
    },
    "id": "P7Pz4NcYnoc5",
    "outputId": "b30ecf12-d121-470a-db0f-0f4509a5a51b"
   },
   "outputs": [],
   "source": [
    "# If using this on Google colab, we need to install the packages\n",
    "try:\n",
    "  import google.colab\n",
    "  IN_COLAB = True\n",
    "except:\n",
    "  IN_COLAB = False\n"
   ]
  },
  {
   "cell_type": "markdown",
   "metadata": {
    "id": "EUbFsAtInxrq"
   },
   "source": [
    "<b>If you are using google colab you should save this notebook and any associated textfiles to their own folder on your google drive. Then you will need to adapt the following commands so that the notebook runs from the location of that folder. This is only necessary for the brief section on reading text files into Python.</b>"
   ]
  },
  {
   "cell_type": "code",
   "execution_count": null,
   "metadata": {},
   "outputs": [],
   "source": [
    "# If you want to use Google Drive to save/load files, set this to True\n",
    "USE_GOOGLE_DRIVE = False\n",
    "if IN_COLAB and USE_GOOGLE_DRIVE:\n",
    "    from google.colab import drive\n",
    "    drive.mount('/content/drive')\n",
    "\n",
    "    # Colab command to navigate to the folder holding the homework,\n",
    "    # CHANGE FOR YOUR SPECIFIC FOLDER LOCATION IN GOOGLE DRIVE\n",
    "    # Note: if there are spaces in the path, you need to precede them with a backslash '\\'\n",
    "    %cd /content/drive/My\\ Drive/CHE597/Lectures/4-Visualization"
   ]
  },
  {
   "cell_type": "markdown",
   "metadata": {
    "id": "Akw58iFcRfIg"
   },
   "source": [
    "\n",
    "\n",
    "# Introduction to Matplotlib\n",
    "<b>Matplotlib</b> is probably the most established plotting library in python. There are several other newcomers that are ascendant (some even built on top of matplotlib), but matplotlib is likely here to stay and is capable of doing everything you will need for this course.  \n",
    "\n",
    "We will primarily utilize the matplotlib sub-module called `pyplot`. This is an interface to MATLAB style plotting functions that will familiar to many of the students in this course. Thus in all of the following examples we will assume the following import call has been performed"
   ]
  },
  {
   "cell_type": "code",
   "execution_count": null,
   "metadata": {
    "executionInfo": {
     "elapsed": 471,
     "status": "ok",
     "timestamp": 1674748701927,
     "user": {
      "displayName": "",
      "userId": "11084403397391204350"
     },
     "user_tz": 300
    },
    "id": "jF0WXELoRfIh"
   },
   "outputs": [],
   "source": [
    "import matplotlib.pyplot as plt\n",
    "import numpy as np"
   ]
  },
  {
   "cell_type": "markdown",
   "metadata": {
    "id": "U27em0EXbGK8"
   },
   "source": [
    "In the following sections keywords you should know and in-text code will be presented as <b>keywords</b> and `code`, respectively. "
   ]
  },
  {
   "cell_type": "markdown",
   "metadata": {
    "id": "dBZ6qu_ERfIl"
   },
   "source": [
    "## Basic Syntax\n",
    "\n",
    "### The plot function\n",
    "Making your first plot in matplotlib can be accomplished with just two function calls:"
   ]
  },
  {
   "cell_type": "code",
   "execution_count": null,
   "metadata": {
    "colab": {
     "base_uri": "https://localhost:8080/",
     "height": 265
    },
    "executionInfo": {
     "elapsed": 944,
     "status": "ok",
     "timestamp": 1674748703414,
     "user": {
      "displayName": "",
      "userId": "11084403397391204350"
     },
     "user_tz": 300
    },
    "id": "i7rjTWLcMxc_",
    "outputId": "31136b3d-4c65-4ce1-8320-6a72489c1b12"
   },
   "outputs": [],
   "source": [
    "plt.plot([1,2,3],[4,5,6])\n",
    "plt.show()"
   ]
  },
  {
   "cell_type": "markdown",
   "metadata": {
    "id": "iC-5G5SMMxdD"
   },
   "source": [
    "Here we have passed the `.plot()` function data for x (first) and data for y (second) and used the `.show()` function to display the result. \n",
    "\n",
    "A couple important things are illustrated by this example. First, every change to the plot (including displaying or saving it) is done through a pyplot function. Second, matplotlib tries to keep things simple and so it automatically guessed sensible x and y ranges for the plot and default colors. Every component of the plot can be modified and many through the `.plot()` arguments: "
   ]
  },
  {
   "cell_type": "code",
   "execution_count": null,
   "metadata": {
    "colab": {
     "base_uri": "https://localhost:8080/",
     "height": 265
    },
    "executionInfo": {
     "elapsed": 263,
     "status": "ok",
     "timestamp": 1674748703676,
     "user": {
      "displayName": "",
      "userId": "11084403397391204350"
     },
     "user_tz": 300
    },
    "id": "ZOZ-DrOnbGLC",
    "outputId": "9d274643-5b5b-4a00-955e-216d50b86b59"
   },
   "outputs": [],
   "source": [
    "plt.plot([1,2,3],[4,5,6],color='green', marker='o', linestyle='dashed',linewidth=4.0,markersize=20)\n",
    "plt.show()"
   ]
  },
  {
   "cell_type": "markdown",
   "metadata": {
    "id": "CP22xXoCbGLG"
   },
   "source": [
    "### Current Figure and Axes Concepts\n",
    "Matplotlib keeps track of the <b>current figure</b> and <b>current axes</b>. By default these are set to the last of each that were created. This is how matplotlib functions like `plot()` know where to put things. For example:"
   ]
  },
  {
   "cell_type": "code",
   "execution_count": null,
   "metadata": {
    "colab": {
     "base_uri": "https://localhost:8080/",
     "height": 265
    },
    "executionInfo": {
     "elapsed": 903,
     "status": "ok",
     "timestamp": 1674748704570,
     "user": {
      "displayName": "",
      "userId": "11084403397391204350"
     },
     "user_tz": 300
    },
    "id": "aKUIHEO-MxdE",
    "outputId": "f51783a2-d340-409f-b031-7abdb3d1468c"
   },
   "outputs": [],
   "source": [
    "plt.plot([1,2,3],[4,5,6])\n",
    "plt.plot([1,2,3],[-4,-5,-6])\n",
    "plt.show()"
   ]
  },
  {
   "cell_type": "markdown",
   "metadata": {
    "id": "pluk2SDuMxdJ"
   },
   "source": [
    "This example results in two lines in the same figure/set of axes. This is because unless we create a new figure, the `matplotlib.pylab` functions will continue adding/modifying the <b>current figure and axes</b>. Compare the above result with the following:"
   ]
  },
  {
   "cell_type": "code",
   "execution_count": null,
   "metadata": {
    "colab": {
     "base_uri": "https://localhost:8080/",
     "height": 513
    },
    "executionInfo": {
     "elapsed": 693,
     "status": "ok",
     "timestamp": 1674748776276,
     "user": {
      "displayName": "",
      "userId": "11084403397391204350"
     },
     "user_tz": 300
    },
    "id": "Fv6o8vhFMxdL",
    "outputId": "d33354a1-246d-4b7a-9ea5-0153664eaa86"
   },
   "outputs": [],
   "source": [
    "plt.figure() # Explicitly creates a new figure\n",
    "plt.plot([1,2,3],[4,5,6])\n",
    "plt.figure() # Explicitly creates a new figure\n",
    "plt.plot([1,2,3],[-4,-5,-6])\n",
    "plt.show() # Shows all figures initialized by plt"
   ]
  },
  {
   "cell_type": "markdown",
   "metadata": {
    "id": "gnXuFMKLMxdO"
   },
   "source": [
    "The <b>current axes</b> and <b>current figure</b> were effectively the same thing in the previous examples. This is not the case when we make subplots:\n"
   ]
  },
  {
   "cell_type": "code",
   "execution_count": null,
   "metadata": {
    "colab": {
     "base_uri": "https://localhost:8080/",
     "height": 279
    },
    "executionInfo": {
     "elapsed": 323,
     "status": "ok",
     "timestamp": 1674749322773,
     "user": {
      "displayName": "",
      "userId": "11084403397391204350"
     },
     "user_tz": 300
    },
    "id": "LUVeveQvbGLO",
    "outputId": "900d94b5-d048-4395-883e-75bc7fd86d80"
   },
   "outputs": [],
   "source": [
    "ax1 = plt.subplot(211)\n",
    "ax1.plot([1,2,3],[4,5,6])\n",
    "ax1.set_xlabel(\"Time\")\n",
    "ax1.set_ylabel(\"Personal Happiness\")\n",
    "ax2 = plt.subplot(212)\n",
    "ax2.plot([1,2,3],[-4,-5,-6])\n",
    "ax2.set_xlabel(\"Time\")\n",
    "ax2.set_ylabel(\"World Happiness\")\n",
    "plt.show()"
   ]
  },
  {
   "cell_type": "markdown",
   "metadata": {
    "id": "IBaojgTJbGLR"
   },
   "source": [
    "The subplot() function specifies `numrows, numcols, plot_number` where `plot_number` ranges from `1` to `numrows*numcols`. When we call the `subplot` function we create `numrows*numcols` subplots inside a single figure. We can address each set of axes individually by assigning them to pointers (e.g., `ax1` and `ax2` in the example). The axes have their own attributes and methods (`ax.plot()` and `ax.set_xlabel()` etc.) that can be used to configure the plot. "
   ]
  },
  {
   "cell_type": "markdown",
   "metadata": {
    "id": "TnVQF98cbGLR"
   },
   "source": [
    "### Basic Plot Types\n",
    "matplotlib.pyplot comes with many elementary plotting functions for different types of figures. A common subset includes `.plot()`, `.scatter()`, `.bar()`, `.hist()` for lineplots, scatterplots, bar charts, and histograms, respectively. We've already seen `.plot()` but a quick demonstration of the others follows:"
   ]
  },
  {
   "cell_type": "code",
   "execution_count": null,
   "metadata": {
    "colab": {
     "base_uri": "https://localhost:8080/",
     "height": 265
    },
    "executionInfo": {
     "elapsed": 6,
     "status": "ok",
     "timestamp": 1674748705374,
     "user": {
      "displayName": "",
      "userId": "11084403397391204350"
     },
     "user_tz": 300
    },
    "id": "4w_-hdlebGLS",
    "outputId": "f18b8eeb-598b-4cbc-ee60-7d8c15903fe9"
   },
   "outputs": [],
   "source": [
    "np.random.seed(15422) # for reproducibility\n",
    "plt.scatter(np.random.randint(0,100,size=100),np.random.randint(0,100,size=100))\n",
    "plt.show()"
   ]
  },
  {
   "cell_type": "code",
   "execution_count": null,
   "metadata": {
    "colab": {
     "base_uri": "https://localhost:8080/",
     "height": 266
    },
    "executionInfo": {
     "elapsed": 214,
     "status": "ok",
     "timestamp": 1674748705583,
     "user": {
      "displayName": "",
      "userId": "11084403397391204350"
     },
     "user_tz": 300
    },
    "id": "YpFAtO8UbGLV",
    "outputId": "68a252bc-4391-4f05-d997-99aee46f4c3a"
   },
   "outputs": [],
   "source": [
    "plt.bar([\"cat_1\",\"cat_2\",\"cat_3\"],[4,5,6])\n",
    "plt.show()"
   ]
  },
  {
   "cell_type": "code",
   "execution_count": null,
   "metadata": {
    "colab": {
     "base_uri": "https://localhost:8080/",
     "height": 211
    },
    "executionInfo": {
     "elapsed": 1534,
     "status": "ok",
     "timestamp": 1674748707114,
     "user": {
      "displayName": "",
      "userId": "11084403397391204350"
     },
     "user_tz": 300
    },
    "id": "qAzkATwtbGLX",
    "outputId": "b85396d2-291b-4e2c-c5aa-378413e77a75"
   },
   "outputs": [],
   "source": [
    "plt.figure(figsize=(10, 3))\n",
    "np.random.seed(15422) # for reproducibility\n",
    "data = np.random.normal(size=50000)\n",
    "ax1 = plt.subplot(131)\n",
    "n, bins, patches = ax1.hist(data,bins=np.arange(-5,5,0.1),density=1)\n",
    "ax2 = plt.subplot(132)\n",
    "n, bins, patches = ax2.hist(data,density=1,bins='rice')\n",
    "ax3 = plt.subplot(133)\n",
    "n, bins, patches = ax3.hist(data,density=1,bins='rice',cumulative=True)\n",
    "plt.show()"
   ]
  },
  {
   "cell_type": "markdown",
   "metadata": {
    "id": "2TNbwK9gbGLa"
   },
   "source": [
    "The `.hist()` function accepts a specific binning as an explicit list/array, or supports one of many automatic binning strategies (e.g., `rice` used in the middle panel). "
   ]
  },
  {
   "cell_type": "markdown",
   "metadata": {
    "id": "InimbVWubGLb"
   },
   "source": [
    "### Plotting Categorical Data\n",
    "Matplotlib is flexible in plotting catgorical vs numerical data. We can simply supply categorical data along either axis: "
   ]
  },
  {
   "cell_type": "code",
   "execution_count": null,
   "metadata": {
    "colab": {
     "base_uri": "https://localhost:8080/",
     "height": 225
    },
    "executionInfo": {
     "elapsed": 206,
     "status": "ok",
     "timestamp": 1674748707315,
     "user": {
      "displayName": "",
      "userId": "11084403397391204350"
     },
     "user_tz": 300
    },
    "id": "MlkpcQzNdmLT",
    "outputId": "1450da82-ab00-467b-d013-21cf164a0886"
   },
   "outputs": [],
   "source": [
    "plt.figure(figsize=(10, 3))\n",
    "ax1 = plt.subplot(131)\n",
    "ax1.plot([\"undergraduate\",\"masters\",\"PhD\"],[78.5,81.2,85.4])\n",
    "ax1.set_ylim(0,100)\n",
    "ax1.set_ylabel(\"Average Grade\")\n",
    "ax2 = plt.subplot(132)\n",
    "ax2.scatter([\"undergraduate\",\"masters\",\"PhD\"],[78.5,81.2,85.4])\n",
    "ax2.set_ylabel(\"Average Grade\")\n",
    "ax2.set_ylim(0,100)\n",
    "ax3 = plt.subplot(133)\n",
    "ax3.bar([\"undergraduate\",\"masters\",\"PhD\"],[78.5,81.2,85.4])\n",
    "ax3.set_ylabel(\"Average Grade\")\n",
    "ax3.set_ylim(0,100)\n",
    "plt.tight_layout()\n",
    "plt.show()"
   ]
  },
  {
   "cell_type": "markdown",
   "metadata": {
    "id": "bkWVYtHwePLz"
   },
   "source": [
    "### Formatting Plots\n",
    "#### Labels\n",
    "You can add an x label, y label, and title to your plot with the `plt.xlabel(\"string\")`, `plt.ylabel(\"string\")`, and `plt.title(\"string\")` functions, respectively."
   ]
  },
  {
   "cell_type": "code",
   "execution_count": null,
   "metadata": {
    "colab": {
     "base_uri": "https://localhost:8080/",
     "height": 297
    },
    "executionInfo": {
     "elapsed": 400,
     "status": "ok",
     "timestamp": 1674748707713,
     "user": {
      "displayName": "",
      "userId": "11084403397391204350"
     },
     "user_tz": 300
    },
    "id": "nnV12WS1uwrZ",
    "outputId": "d2dab328-421d-4138-e263-b7414deec48a"
   },
   "outputs": [],
   "source": [
    "x = np.linspace(-np.pi,np.pi,100)\n",
    "plt.plot(x,np.cos(x))\n",
    "plt.xlabel(r\"$\\theta$\")\n",
    "plt.ylabel(r\"cos($\\theta$)\")\n",
    "plt.title(\"One Period of Cosine\")\n",
    "plt.show()"
   ]
  },
  {
   "cell_type": "markdown",
   "metadata": {
    "id": "DmDNccFOK_iB"
   },
   "source": [
    "In this example we have used a \"raw\" string (with prefix `r\" \"`) to enable latex style specification of special symbols. \n",
    "\n",
    "#### Resizing\n",
    "You can change the dimensions of your figures by using the `plt.figure(figsize=(height,width))` function where `height` and `width` are specified in inches by default. You can call this function before plotting to create a new figure, followed by plotting functions like `plt.plot()` which will be rendered on the figure:"
   ]
  },
  {
   "cell_type": "code",
   "execution_count": null,
   "metadata": {
    "colab": {
     "base_uri": "https://localhost:8080/",
     "height": 297
    },
    "executionInfo": {
     "elapsed": 250,
     "status": "ok",
     "timestamp": 1674748707960,
     "user": {
      "displayName": "",
      "userId": "11084403397391204350"
     },
     "user_tz": 300
    },
    "id": "DxwdYavKfQc1",
    "outputId": "1f7352e6-1315-4ce6-84a4-4358c42f5ade"
   },
   "outputs": [],
   "source": [
    "x = np.linspace(-np.pi,np.pi,100)\n",
    "plt.figure(figsize=(10,2))\n",
    "plt.plot(x,np.cos(x))\n",
    "plt.figure(figsize=(10,2))\n",
    "plt.plot(x,np.sin(x))\n",
    "plt.show()"
   ]
  },
  {
   "cell_type": "markdown",
   "metadata": {
    "id": "r4Mrksezuxd8"
   },
   "source": [
    "#### Colors\n",
    "All of the built in plotting functions provide ways of modifying the color via the plot function itself. A number of built-in colors are aliased to strings (e.g., \"b\" means default blue color and \"k\" means black):"
   ]
  },
  {
   "cell_type": "code",
   "execution_count": null,
   "metadata": {
    "colab": {
     "base_uri": "https://localhost:8080/",
     "height": 541
    },
    "executionInfo": {
     "elapsed": 434,
     "status": "ok",
     "timestamp": 1674748708392,
     "user": {
      "displayName": "",
      "userId": "11084403397391204350"
     },
     "user_tz": 300
    },
    "id": "bq4DqZzNbGLg",
    "outputId": "3a1aeb69-4950-4922-defb-3911d4bb02cc"
   },
   "outputs": [],
   "source": [
    "import numpy as np\n",
    "import matplotlib.pyplot as plt\n",
    "\n",
    "# Scatter plot with green markers\n",
    "a = np.random.normal(size=(1000,2))\n",
    "plt.scatter(a[:,0],a[:,1],c=\"g\")\n",
    "plt.xlabel(\"x coord\")\n",
    "plt.ylabel(\"y coord\")\n",
    "plt.show()\n",
    "\n",
    "# Lineplot with a black line\n",
    "x = np.linspace(-np.pi,np.pi,100)\n",
    "plt.plot(x,np.sin(x),color=\"k\")\n",
    "plt.xlabel(\"time\")\n",
    "plt.xlabel(\"amplitude\")\n",
    "plt.show()"
   ]
  },
  {
   "cell_type": "markdown",
   "metadata": {
    "id": "yrqA4QzWu4XQ"
   },
   "source": [
    "If you want to change the color of certain quantities, it is usually the most straightforward to use separate plotting calls with the corresponding color supplied:"
   ]
  },
  {
   "cell_type": "code",
   "execution_count": null,
   "metadata": {
    "colab": {
     "base_uri": "https://localhost:8080/",
     "height": 279
    },
    "executionInfo": {
     "elapsed": 225,
     "status": "ok",
     "timestamp": 1674748708615,
     "user": {
      "displayName": "",
      "userId": "11084403397391204350"
     },
     "user_tz": 300
    },
    "id": "dbQY9idevA3I",
    "outputId": "5fc60224-0efb-4a16-aa71-a8cd9c3b4bc9"
   },
   "outputs": [],
   "source": [
    "# Scatter plot with green markers and a black x for mean\n",
    "a = np.random.normal(size=(1000,2))\n",
    "plt.scatter(a[:,0],a[:,1],c=\"g\") # scatter green\n",
    "plt.scatter(a[:,0].mean(),a[:,1].mean(),c='k',marker=\"x\")\n",
    "plt.xlabel(\"x coord\")\n",
    "plt.ylabel(\"y coord\")\n",
    "plt.show()"
   ]
  },
  {
   "cell_type": "markdown",
   "metadata": {
    "id": "VKLqEaGAMehG"
   },
   "source": [
    "The `alpha` argument can be used to set the transparency of objects (`alpha=1.0` is opaque, default):"
   ]
  },
  {
   "cell_type": "code",
   "execution_count": null,
   "metadata": {
    "colab": {
     "base_uri": "https://localhost:8080/",
     "height": 279
    },
    "executionInfo": {
     "elapsed": 663,
     "status": "ok",
     "timestamp": 1674748709275,
     "user": {
      "displayName": "",
      "userId": "11084403397391204350"
     },
     "user_tz": 300
    },
    "id": "JLZCbio2MkxJ",
    "outputId": "33f5ad17-7d7a-4c6c-8579-18ca77c01cf4"
   },
   "outputs": [],
   "source": [
    "# Scatter plot with transparency\n",
    "np.random.seed(915432) # for reproducibility\n",
    "a = np.random.normal(size=(1000,2))\n",
    "b = np.random.normal(loc=3.0,scale=1.0,size=(1000,2))\n",
    "plt.scatter(a[:,0],a[:,1],c=\"b\",alpha=0.2) # scatter blue\n",
    "plt.scatter(b[:,0],b[:,1],c=\"r\",alpha=0.2) # scatter red\n",
    "plt.xlabel(\"x coord\")\n",
    "plt.ylabel(\"y coord\")\n",
    "plt.show()"
   ]
  },
  {
   "cell_type": "markdown",
   "metadata": {
    "id": "Dm_iyYvbvH48"
   },
   "source": [
    "You can also use specific rgba tuples to set the color and transparency of your choice: "
   ]
  },
  {
   "cell_type": "code",
   "execution_count": null,
   "metadata": {
    "colab": {
     "base_uri": "https://localhost:8080/",
     "height": 279
    },
    "executionInfo": {
     "elapsed": 8,
     "status": "ok",
     "timestamp": 1674748709276,
     "user": {
      "displayName": "",
      "userId": "11084403397391204350"
     },
     "user_tz": 300
    },
    "id": "n5traYj6vPtk",
    "outputId": "f2b15add-8431-42e7-8fa2-3680c6b9cc0c"
   },
   "outputs": [],
   "source": [
    "# Scatter plot with transparency\n",
    "np.random.seed(915432) # for reproducibility\n",
    "a = np.random.normal(size=(1000,2))\n",
    "b = np.random.normal(loc=3.0,scale=1.0,size=(1000,2))\n",
    "plt.scatter(a[:,0],a[:,1],c=np.array([[0.05,0.35,0.75,0.2]])) # scatter blue\n",
    "plt.scatter(b[:,0],b[:,1],c=np.array([(0.05,0.8,0.6,0.2)])) # scatter green\n",
    "plt.xlabel(\"x coord\")\n",
    "plt.ylabel(\"y coord\")\n",
    "plt.show()"
   ]
  },
  {
   "cell_type": "markdown",
   "metadata": {
    "id": "TuWCD-GkvUpb"
   },
   "source": [
    "<b>Note:</b> we use a 2D array with a single value to suppress a warning, but just putting a single value will also work.\n",
    "\n",
    "You can also use built in colormaps to select colors using the `cm` submodule of `matplotlib`. The simplest way to access colors is to use the `cm.colormap_name(value)` method. Here `colormap_name` can be any of the many built-in colormaps (e.g., `viridis`, `plasma` for continuous or `RdBu` for divergent). "
   ]
  },
  {
   "cell_type": "code",
   "execution_count": null,
   "metadata": {
    "colab": {
     "base_uri": "https://localhost:8080/",
     "height": 283
    },
    "executionInfo": {
     "elapsed": 547,
     "status": "ok",
     "timestamp": 1674748710236,
     "user": {
      "displayName": "",
      "userId": "11084403397391204350"
     },
     "user_tz": 300
    },
    "id": "_Lqw-AsXse_u",
    "outputId": "3e513942-7b69-4460-93b3-3a26a918dd77"
   },
   "outputs": [],
   "source": [
    "from matplotlib import cm\n",
    "from scipy.stats import gaussian_kde\n",
    "\n",
    "# Not sure why, but the scipy.stats.gauusian_kde function insists on the data being passed horizontally hence the transposes.\n",
    "da = gaussian_kde(a.T)(a.T) # gaussian density estimate evaluated at the specific points of a\n",
    "db = gaussian_kde(b.T)(b.T) # gaussian density estimate evaluated at the specific points of b\n",
    "plt.scatter(a[:,0],a[:,1],c=cm.viridis(da/max(da))) # normalized density so that the max is 1\n",
    "plt.scatter(b[:,0],b[:,1],c=cm.viridis(db/max(db))) # normalized density so that the max is 1\n",
    "plt.xlabel(\"x coord\")\n",
    "plt.ylabel(\"y coord\")\n",
    "plt.colorbar()\n",
    "plt.show()"
   ]
  },
  {
   "cell_type": "markdown",
   "metadata": {
    "id": "T4NMO9d1se_v"
   },
   "source": [
    "In the example above we have performed a \"kernel density estimate\", which is basically a fit of the data distribution to a gaussian. The gaussian provides an estimate of the \"density\" of datapoints, which we have used to color our markers. This is a common means of showing the data density in scatter plots with lots of overlapping points. \n",
    "\n",
    "By default, direct calls to the colormap are normalized to values between 0 and 1. That's why we normalized the values by the `max()`. As a teaser of `sklearn`, a common machine learning library that we will use a little later, we'll redo this example with the corresponding `sklearn` KDE class, which is more flexible than the `scipy` analog: "
   ]
  },
  {
   "cell_type": "code",
   "execution_count": null,
   "metadata": {
    "colab": {
     "base_uri": "https://localhost:8080/",
     "height": 573
    },
    "executionInfo": {
     "elapsed": 2070,
     "status": "ok",
     "timestamp": 1674748712304,
     "user": {
      "displayName": "",
      "userId": "11084403397391204350"
     },
     "user_tz": 300
    },
    "id": "h73Z-Nmhse_v",
    "outputId": "18c55fe4-37a4-4e05-a5b5-2187f8ea1135"
   },
   "outputs": [],
   "source": [
    "from matplotlib import cm\n",
    "from sklearn.neighbors import KernelDensity\n",
    "\n",
    "\n",
    "# The score_samples function returns the natural log of the probability of each sample calculated from the kde.\n",
    "kde = KernelDensity().fit(a)\n",
    "da = np.e**(kde.score_samples(a))\n",
    "kde = KernelDensity().fit(b)\n",
    "db = np.e**(kde.score_samples(b))\n",
    "\n",
    "plt.scatter(a[:,0],a[:,1],c=cm.viridis(da/max(da))) # normalized density so that the max is 1\n",
    "plt.scatter(b[:,0],b[:,1],c=cm.viridis(db/max(db))) # normalized density so that the max is 1\n",
    "plt.xlabel(\"x coord\")\n",
    "plt.ylabel(\"y coord\")\n",
    "plt.title(\"default settings\")\n",
    "plt.colorbar()\n",
    "plt.show()\n",
    "\n",
    "# bandwidth gives you the flexibility to smooth or sharpen the estimate. Other kernels are also available. \n",
    "kde = KernelDensity(bandwidth=0.325).fit(a)\n",
    "da = np.e**(kde.score_samples(a))\n",
    "kde = KernelDensity(bandwidth=0.325).fit(b) \n",
    "db = np.e**(kde.score_samples(b))\n",
    "plt.scatter(a[:,0],a[:,1],c=cm.viridis(da/max(da))) # normalized density so that the max is 1\n",
    "plt.scatter(b[:,0],b[:,1],c=cm.viridis(db/max(db))) # normalized density so that the max is 1\n",
    "plt.xlabel(\"x coord\")\n",
    "plt.ylabel(\"y coord\")\n",
    "plt.title(\"fixed bandwidth\")\n",
    "plt.colorbar()\n",
    "plt.show()"
   ]
  },
  {
   "cell_type": "markdown",
   "metadata": {
    "id": "SoQFv3MHse_v"
   },
   "source": [
    "Colormaps can also be used just for drawing sequences of curves. Recall that direct calls to the colormap are normalized to values between 0 and 1. So calling `cm.viridis(0.5)` returns the midpoint color of the `viridis` colormap. `np.linspace(0,1,N)` comes in handy if you know the number of curves (`N`) you want to plot in advance:"
   ]
  },
  {
   "cell_type": "code",
   "execution_count": null,
   "metadata": {
    "colab": {
     "base_uri": "https://localhost:8080/",
     "height": 265
    },
    "executionInfo": {
     "elapsed": 362,
     "status": "ok",
     "timestamp": 1674748712664,
     "user": {
      "displayName": "",
      "userId": "11084403397391204350"
     },
     "user_tz": 300
    },
    "id": "j3KI_bw1vcvI",
    "outputId": "12204f52-bfc2-438c-a6e6-4e3a6c4e493b"
   },
   "outputs": [],
   "source": [
    "from matplotlib import cm\n",
    "colors = [ cm.viridis(x) for x in np.linspace(0,1,10) ] # list of colors\n",
    "x = np.linspace(-np.pi,np.pi,100)\n",
    "for count_i,i in enumerate(np.linspace(0,2.0*np.pi,10)): # iterate over phase shift\n",
    "  plt.plot(x,np.sin(x+i),color=colors[count_i]) # plot with current color\n",
    "plt.show()"
   ]
  },
  {
   "cell_type": "markdown",
   "metadata": {
    "id": "nhGDL6Ihse_v"
   },
   "source": [
    "#### Axis Scaling\n",
    "The `plt.xscale()` and `plt.yscale()` functions can be used to change a plot from linear (`linear`, default) scaling to logarithmic (`log`):"
   ]
  },
  {
   "cell_type": "code",
   "execution_count": null,
   "metadata": {
    "colab": {
     "base_uri": "https://localhost:8080/",
     "height": 813
    },
    "executionInfo": {
     "elapsed": 1952,
     "status": "ok",
     "timestamp": 1674748714612,
     "user": {
      "displayName": "",
      "userId": "11084403397391204350"
     },
     "user_tz": 300
    },
    "id": "2e99GVYVse_v",
    "outputId": "ef47a47a-8183-420c-e4e0-0d583eb22e50"
   },
   "outputs": [],
   "source": [
    "x = np.linspace(-10,10,100)\n",
    "plt.figure()\n",
    "plt.plot(x,np.exp(x))\n",
    "plt.title('linear/linear')\n",
    "plt.figure()\n",
    "plt.plot(x,np.exp(x))\n",
    "plt.yscale('log')\n",
    "plt.title('linear/log')\n",
    "plt.figure()\n",
    "plt.plot(x,np.exp(x))\n",
    "plt.xscale('log')\n",
    "plt.yscale('log')\n",
    "plt.title('log/log')\n",
    "plt.show()"
   ]
  },
  {
   "cell_type": "markdown",
   "metadata": {
    "id": "Y-lTRxK0se_w"
   },
   "source": [
    "## Connecting with Numpy\n",
    "Let's finish the demonstration of matplotlib by working through a short linear regression example using numpy. This will plant the seed for our later lecture on more sophisticated regression while also reinforcing what we recently learned about numpy. \n",
    "\n",
    "### Reading in Data\n",
    "I have supplied some data with this notebook that is in the data.txt file. If you take a look at it (you should make a habit of this), it is just a space delimited file with unlabeled x and y data and a one line header. Let's read it in using the numpy built-in `np.loadtxt` function and visualize what we have:"
   ]
  },
  {
   "cell_type": "code",
   "execution_count": null,
   "metadata": {
    "colab": {
     "base_uri": "https://localhost:8080/",
     "height": 373
    },
    "executionInfo": {
     "elapsed": 227,
     "status": "error",
     "timestamp": 1674748714834,
     "user": {
      "displayName": "",
      "userId": "11084403397391204350"
     },
     "user_tz": 300
    },
    "id": "v0unrIDwse_w",
    "outputId": "e0be75bf-f4f6-4c22-81bc-7852689c031f"
   },
   "outputs": [],
   "source": [
    "data = np.loadtxt('data.txt',skiprows=1)\n",
    "plt.figure()\n",
    "plt.scatter(data[:,0],data[:,1])\n",
    "plt.show()"
   ]
  },
  {
   "cell_type": "markdown",
   "metadata": {
    "id": "kYbupRHAse_w"
   },
   "source": [
    "After visualization, we can see that the data exhibits a roughly parabolic relatioinship. Let's fit a least-squares model to the data. \n",
    "\n",
    "### Linear Regression - Theory\n",
    "In basic linear regression modeling we attempt to built a model of the form\n",
    "$$ \\mathbf{y} = \\mathbf{x}\\mathbf{\\beta} + \\mathbf{\\varepsilon} $$\n",
    "where $\\mathbf{y}$ are the values we want to predict, $\\mathbf{x}$ are the values of the variables we want to base our predictions on, $\\mathbf{\\varepsilon}$ are the residuals between the predicted value and the real value, and $\\mathbf{\\beta}$ is a vector of constants to be determined such that the residuals are minimized. All of these quantities are vectors or matrices. $\\mathbf{y}$ is an $N_s$ by $1$ vector, where $N_s$ is the number of samples. $\\mathbf{x}$ is an $N_s$ by $N_x + 1$ matrix, where $N_x$ is the number of predictor variables with an extra column of $1$s used to define an optional intercept term. $\\mathbf{\\beta}$ is an $N_x$ by $1$ vector, and $\\mathbf{\\varepsilon}$ is an $N_s$ by $1$ vector holding the differences between the predicted values for each sample ($\\mathbf{x}_i\\cdot\\beta$). \n",
    "\n",
    "The least squares solution corresponds to selecting $\\mathbf{\\beta}$ such that the square of the residuals is minimized:\n",
    "\n",
    "$$\\underset{\\beta}{\\mathrm{arg \\, min}}\\sum_{i}\\left(y_{i} - \\mathbf{x}_{i}\\mathbf{\\beta}\\right)^2 $$\n",
    "\n",
    "This can be solved by taking the derivative and solving for the extremum. Or more concisely:\n",
    "\n",
    "$$ \\mathbf{x}\\mathbf{\\beta} = \\mathbf{y} $$\n",
    "$$  \\mathbf{\\beta} = \\left(\\mathbf{x}^\\mathrm{T}\\mathbf{x}\\right)^{-1}\\mathbf{x}^\\mathbf{T}\\mathbf{y} $$\n",
    "\n",
    "Where the second line follows by multiplying each side by $\\mathbf{x}^\\mathrm{T}$ then taking the inverse. This deals with rank deficiency for tall matrices (i.e., when there are more samples than variables and the system of equations is inconsistent).\n",
    "\n",
    "<b>Note: the above description also generalizes to $\\mathbf{y}$ containing multiple variables, but the $\\mathbf{\\beta}$ and $\\mathbf{y}$ matrices would change shape.</b>   \n",
    "\n",
    "### Linear Regression - Application\n",
    "Returning to our example, we have data that looks approximately parabolic so let's try fitting a cubic polynomial to the data:\n",
    "\n",
    "$$ y = \\beta_0 + \\beta_1 x + \\beta_2 x^2 + \\beta_3 x^3 $$\n",
    "\n",
    "The data we have just has one independent variable (x) and our model has four parameters ($\\beta_0-3$). Adapting this to the situation in the previous section, the first step is to form our $\\mathbf{x}$ matrix given our model. The answer is to form the matrix:\n",
    "\n",
    "$$ \\mathbf{x} = \\begin{bmatrix}\n",
    " 1 & x_0 & x_{0}^{2} & x_{0}^3 \\\\\n",
    " 1 & x_1 & x_{1}^{2} & x_{1}^3 \\\\\n",
    " \\vdots & \\vdots & \\vdots & \\vdots \\\\\n",
    " 1 & x_N & x_{N}^{2} & x_{N}^3 \n",
    " \\end{bmatrix} $$\n",
    "\n",
    "If you have trouble remembering what your $\\mathbf{x}$ matrix should be, remember that we want $\\mathbf{x\\beta}=\\mathbf{y}$ to reproduce our set of equations for the problem. For our $\\mathbf{x}$ and $\\beta$, $\\mathbf{x\\beta}=\\mathbf{y}$ would yield:\n",
    "\n",
    "$$ \\begin{array} {c}\n",
    "\\beta_0 + \\beta_1 x_0 + \\beta_2 x_{0}^2 + \\beta_3 x_{0}^3 = y_0 \\\\\n",
    "\\beta_0 + \\beta_1 x_1 + \\beta_2 x_{1}^2 + \\beta_3 x_{1}^3 = y_1 \\\\\n",
    "\\vdots \\\\\n",
    "\\beta_0 + \\beta_1 x_N + \\beta_2 x_{N}^2 + \\beta_3 x_{N}^3 = y_N \\\\\n",
    "\\end{array} $$\n",
    "\n",
    "where we want to find the $\\beta_{0-3}$ that minimizes the squared errors with respect to the right hand side of the equations. So we have our specific $\\mathbf{x}$ for this problem. Continuing to adapt the results from the previous section, we have two results:\n",
    "\n",
    "$$ \\mathbf{x}^\\mathrm{T}\\mathbf{x}\\mathbf{\\beta} = \\mathbf{x}^\\mathrm{T}\\mathbf{y} $$\n",
    "$$  \\mathbf{\\beta} = \\left(\\mathbf{x}^\\mathrm{T}\\mathbf{x}\\right)^{-1}\\mathbf{x}^\\mathbf{T}\\mathbf{y} $$\n",
    "\n",
    "The first result just comes from multiplying our system of equations by $\\mathbf{x}^\\mathrm{T}$, and the second just comes from applying the inverse to both sides. If you have trouble remembering this, remember that we have more equations (N) than we have variables (4), so we can't usually solve $\\mathbf{x\\beta}=\\mathbf{y}$ directly, unless a bunch of the rows are essentially redundant. After multiplying both sides by $\\mathbf{x}^\\mathrm{T}$ we are only left with four equations and four unknowns (check the dimensions of the matrix multiplication). It turns out that this system of four equations solves the least-squares regression problem. \n",
    "\n",
    "We can solve the problem using either of the previous two equations. The first can be solved using gaussian elimination and backsubtitution. The second involves calculating the inverse and is generally much more expensive. Let's solve the problem both ways using numpy's built in `np.lstsq()` and `np.linalg.inv()` functions, respectively, and prove that they are equivalent. "
   ]
  },
  {
   "cell_type": "code",
   "execution_count": null,
   "metadata": {
    "executionInfo": {
     "elapsed": 4,
     "status": "aborted",
     "timestamp": 1674748714835,
     "user": {
      "displayName": "",
      "userId": "11084403397391204350"
     },
     "user_tz": 300
    },
    "id": "zSUxI7v4se_w"
   },
   "outputs": [],
   "source": [
    "# Make our X matrix\n",
    "X = np.ones([len(data),4])\n",
    "X[:,1] = data[:,0]\n",
    "X[:,2] = data[:,0]**(2.0)\n",
    "X[:,3] = data[:,0]**(3.0)\n",
    "\n",
    "# Calculate our parameters using the lstsq() function\n",
    "beta_1 = np.linalg.lstsq(X.T.dot(X),X.T.dot(data[:,1]))[0] # Check docs to see all of the returns from lstsq\n",
    "print(\"parameters for method 1: {}\".format(beta_1))\n",
    "\n",
    "# Calculate our parameters using the inverse\n",
    "beta_2 = np.dot(np.dot(np.linalg.inv(X.T.dot(X)),X.T),data[:,1])\n",
    "print(\"parameters for method 2: {}\".format(beta_2))\n",
    "\n",
    "# Make y predictions for our two models\n",
    "x_grid = np.linspace(min(data[:,0]),max(data[:,0]),100) # just generating some x values that span the range of the supplied data.\n",
    "y_1 = beta_1[0] + beta_1[1]*x_grid + beta_1[2]*x_grid**(2.0) + beta_1[3]*x_grid**(3.0)\n",
    "y_2 = beta_2[0] + beta_2[1]*x_grid + beta_2[2]*x_grid**(2.0) + beta_2[3]*x_grid**(3.0)\n",
    "\n",
    "# Plot our predictions against the data\n",
    "plt.figure(figsize=(5,5))\n",
    "plt.scatter(data[:,0],data[:,1],marker='o',label=\"data\")\n",
    "plt.plot(x_grid,y_1,label=\"lstsq()\")\n",
    "plt.plot(x_grid,y_2,label=\"inv()\")\n",
    "#plt.plot(x,0.7*x + 0.9*x**(2.0) +0.1*x**(3.0)+0.5,color='k',label='generator')\n",
    "plt.legend()\n",
    "plt.xlabel(\"X\")\n",
    "plt.ylabel(\"Y\")\n",
    "plt.show()\n"
   ]
  },
  {
   "cell_type": "markdown",
   "metadata": {
    "id": "xmvyOCqDse_w"
   },
   "source": [
    "As promised, the two methods yielded the same model. We also used our new matplotlib skills to plots the models against the training data, which further comfirms the equivalence of the two expressions and shows pretty good agreement with our data."
   ]
  }
 ],
 "metadata": {
  "colab": {
   "provenance": []
  },
  "kernelspec": {
   "display_name": "CHE597",
   "language": "python",
   "name": "python3"
  },
  "language_info": {
   "codemirror_mode": {
    "name": "ipython",
    "version": 3
   },
   "file_extension": ".py",
   "mimetype": "text/x-python",
   "name": "python",
   "nbconvert_exporter": "python",
   "pygments_lexer": "ipython3",
   "version": "3.12.8"
  },
  "toc": {
   "base_numbering": 1,
   "nav_menu": {},
   "number_sections": true,
   "sideBar": true,
   "skip_h1_title": true,
   "title_cell": "Table of Contents",
   "title_sidebar": "Contents",
   "toc_cell": true,
   "toc_position": {},
   "toc_section_display": true,
   "toc_window_display": true
  }
 },
 "nbformat": 4,
 "nbformat_minor": 0
}
