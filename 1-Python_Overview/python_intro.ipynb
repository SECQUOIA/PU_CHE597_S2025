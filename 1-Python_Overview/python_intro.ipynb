{
 "cells": [
  {
   "cell_type": "markdown",
   "metadata": {},
   "source": [
    "<a name=\"top\" id=\"top\"></a>\n",
    "\n",
    "<div align=\"center\">\n",
    "    <h1>CHE597 - Python Overview</h1>\n",
    "    <a href=\"https://github.com/bernalde\">David E. Bernal Neira</a>\n",
    "    <br>\n",
    "    <i>Davidson School of Chemical Engineering, Purdue University</i>\n",
    "    <br>\n",
    "    <a href=\"https://colab.research.google.com/github/SECQUOIA/PU_CHE597_S2025/blob/main/1-Python_Overview/python_intro.ipynb\" target=\"_parent\">\n",
    "        <img src=\"https://colab.research.google.com/assets/colab-badge.svg\" alt=\"Open In Colab\"/>\n",
    "    </a>\n",
    "    <a href=\"https://secquoia.github.io/\">\n",
    "        <img src=\"https://img.shields.io/badge/🌲⚛️🌐-SECQUOIA-blue\" alt=\"SECQUOIA\"/>\n",
    "    </a>\n",
    "</div>"
   ]
  },
  {
   "cell_type": "markdown",
   "metadata": {
    "id": "Im4SD2x5RfIe",
    "toc": true
   },
   "source": [
    "<h1>Table of Contents<span class=\"tocSkip\"></span></h1>\n",
    "<div class=\"toc\"><ul class=\"toc-item\"><li><span><a href=\"#Programming-Languages\" data-toc-modified-id=\"Programming-Languages-1\"><span class=\"toc-item-num\">1&nbsp;&nbsp;</span>Programming Languages</a></span></li><li><span><a href=\"#Python-Basics\" data-toc-modified-id=\"Python-Basics-2\"><span class=\"toc-item-num\">2&nbsp;&nbsp;</span>Python Basics</a></span><ul class=\"toc-item\"><li><span><a href=\"#Dynamic-&quot;typing&quot;\" data-toc-modified-id=\"Dynamic-&quot;typing&quot;-2.1\"><span class=\"toc-item-num\">2.1&nbsp;&nbsp;</span>Dynamic \"typing\"</a></span></li><li><span><a href=\"#Pointers-vs-Objects\" data-toc-modified-id=\"Pointers-vs-Objects-2.2\"><span class=\"toc-item-num\">2.2&nbsp;&nbsp;</span>Pointers vs Objects</a></span></li><li><span><a href=\"#Strong-typing\" data-toc-modified-id=\"Strong-typing-2.3\"><span class=\"toc-item-num\">2.3&nbsp;&nbsp;</span>Strong typing</a></span></li><li><span><a href=\"#Data-types\" data-toc-modified-id=\"Data-types-2.4\"><span class=\"toc-item-num\">2.4&nbsp;&nbsp;</span>Data types</a></span></li><li><span><a href=\"#Operators\" data-toc-modified-id=\"Operators-2.5\"><span class=\"toc-item-num\">2.5&nbsp;&nbsp;</span>Operators</a></span></li><li><span><a href=\"#Functions\" data-toc-modified-id=\"Functions-2.6\"><span class=\"toc-item-num\">2.6&nbsp;&nbsp;</span>Functions</a></span><ul class=\"toc-item\"><li><span><a href=\"#Anonymous\" data-toc-modified-id=\"Anonymous-2.6.1\"><span class=\"toc-item-num\">2.6.1&nbsp;&nbsp;</span>Anonymous</a></span></li></ul></li><li><span><a href=\"#Indenting\" data-toc-modified-id=\"Indenting-2.7\"><span class=\"toc-item-num\">2.7&nbsp;&nbsp;</span>Indenting</a></span></li><li><span><a href=\"#Namespace\" data-toc-modified-id=\"Namespace-2.8\"><span class=\"toc-item-num\">2.8&nbsp;&nbsp;</span>Namespace</a></span></li><li><span><a href=\"#Scope\" data-toc-modified-id=\"Scope-2.9\"><span class=\"toc-item-num\">2.9&nbsp;&nbsp;</span>Scope</a></span></li></ul></li><li><span><a href=\"#Data-Structures\" data-toc-modified-id=\"Data-Structures-3\"><span class=\"toc-item-num\">3&nbsp;&nbsp;</span>Data Structures</a></span><ul class=\"toc-item\"><li><span><a href=\"#Built-In-Structures\" data-toc-modified-id=\"Built-In-Structures-3.1\"><span class=\"toc-item-num\">3.1&nbsp;&nbsp;</span>Built-In Structures</a></span></li><li><span><a href=\"#List---Examples\" data-toc-modified-id=\"List---Examples-3.2\"><span class=\"toc-item-num\">3.2&nbsp;&nbsp;</span>List - Examples</a></span></li><li><span><a href=\"#Slice-notation\" data-toc-modified-id=\"Slice-notation-3.3\"><span class=\"toc-item-num\">3.3&nbsp;&nbsp;</span>Slice notation</a></span></li><li><span><a href=\"#Tuple---Examples\" data-toc-modified-id=\"Tuple---Examples-3.4\"><span class=\"toc-item-num\">3.4&nbsp;&nbsp;</span>Tuple - Examples</a></span></li><li><span><a href=\"#Set---Examples\" data-toc-modified-id=\"Set---Examples-3.5\"><span class=\"toc-item-num\">3.5&nbsp;&nbsp;</span>Set - Examples</a></span></li><li><span><a href=\"#Dictionary---Examples\" data-toc-modified-id=\"Dictionary---Examples-3.6\"><span class=\"toc-item-num\">3.6&nbsp;&nbsp;</span>Dictionary - Examples</a></span></li></ul></li><li><span><a href=\"#Control-Statements\" data-toc-modified-id=\"Control-Statements-4\"><span class=\"toc-item-num\">4&nbsp;&nbsp;</span>Control Statements</a></span><ul class=\"toc-item\"><li><span><a href=\"#for---Examples\" data-toc-modified-id=\"for---Examples-4.1\"><span class=\"toc-item-num\">4.1&nbsp;&nbsp;</span>for - Examples</a></span></li><li><span><a href=\"#while---Examples\" data-toc-modified-id=\"while---Examples-4.2\"><span class=\"toc-item-num\">4.2&nbsp;&nbsp;</span>while - Examples</a></span></li><li><span><a href=\"#if/elif/else---Examples\" data-toc-modified-id=\"if/elif/else---Examples-4.3\"><span class=\"toc-item-num\">4.3&nbsp;&nbsp;</span>if/elif/else - Examples</a></span></li></ul></li><li><span><a href=\"#Object-Comprehension\" data-toc-modified-id=\"Object-Comprehension-5\"><span class=\"toc-item-num\">5&nbsp;&nbsp;</span>Object Comprehension</a></span><ul class=\"toc-item\"><li><span><a href=\"#List-Comprehension---Examples\" data-toc-modified-id=\"List-Comprehension---Examples-5.1\"><span class=\"toc-item-num\">5.1&nbsp;&nbsp;</span>List Comprehension - Examples</a></span></li><li><span><a href=\"#Set/Dictionary-Comprehension---Examples\" data-toc-modified-id=\"Set/Dictionary-Comprehension---Examples-5.2\"><span class=\"toc-item-num\">5.2&nbsp;&nbsp;</span>Set/Dictionary Comprehension - Examples</a></span></li></ul></li><li><span><a href=\"#Classes\" data-toc-modified-id=\"Classes-6\"><span class=\"toc-item-num\">6&nbsp;&nbsp;</span>Classes</a></span><ul class=\"toc-item\"><li><span><a href=\"#Built-In-Classes\" data-toc-modified-id=\"Built-In-Classes-6.1\"><span class=\"toc-item-num\">6.1&nbsp;&nbsp;</span>Built-In Classes</a></span></li><li><span><a href=\"#File-Objects\" data-toc-modified-id=\"File-Objects-6.2\"><span class=\"toc-item-num\">6.2&nbsp;&nbsp;</span>File Objects</a></span></li><li><span><a href=\"#Custom-Classes\" data-toc-modified-id=\"Custom-Classes-6.3\"><span class=\"toc-item-num\">6.3&nbsp;&nbsp;</span>Custom Classes</a></span></li></ul></li></ul></div>"
   ]
  },
  {
   "cell_type": "markdown",
   "metadata": {
    "id": "EUbFsAtInxrq"
   },
   "source": [
    "<b>If you are using google colab you should save this notebook and any associated textfiles to their own folder on your google drive. Then you will need to adapt the following commands so that the notebook runs from the location of that folder. This is only necessary for the brief section on reading text files into Python.</b>"
   ]
  },
  {
   "cell_type": "code",
   "execution_count": 1,
   "metadata": {
    "colab": {
     "base_uri": "https://localhost:8080/"
    },
    "executionInfo": {
     "elapsed": 973,
     "status": "ok",
     "timestamp": 1673538060747,
     "user": {
      "displayName": "Brett Savoie",
      "userId": "11084403397391204350"
     },
     "user_tz": 300
    },
    "id": "P7Pz4NcYnoc5",
    "outputId": "d9a0c126-4cfe-41c7-9d70-34eddc85afdf"
   },
   "outputs": [],
   "source": [
    "# If using this on Google colab, we need to install the packages\n",
    "try:\n",
    "  import google.colab\n",
    "  IN_COLAB = True\n",
    "except:\n",
    "  IN_COLAB = False\n",
    "\n",
    "if IN_COLAB:\n",
    "    from google.colab import drive\n",
    "    drive.mount('/content/drive')\n",
    "\n",
    "    # Colab command to navigate to the folder holding the homework,\n",
    "    # CHANGE FOR YOUR SPECIFIC FOLDER LOCATION IN GOOGLE DRIVE\n",
    "    # Note: if there are spaces in the path, you need to preceed them with a backslash '\\'\n",
    "    %cd /content/drive/My\\ Drive/CHE597/Notebooks/1-Python_Overview"
   ]
  },
  {
   "cell_type": "markdown",
   "metadata": {
    "id": "Akw58iFcRfIg"
   },
   "source": [
    "\n",
    "\n",
    "# Introduction to Python\n",
    "Throughout this course we will learn by doing. At the outset we'll assume that you know nothing, but getting you up to speed on Python is critical because we'll need to move to more advanced topics quickly. Here is your crash course on Python. \n",
    "\n",
    "In the following sections keywords you should know and in-text code will be presented as <b>keywords</b> and `code`, respectively. \n",
    "\n",
    "## Programming Languages\n",
    "Getting a computer to do something you want is always a matter of translation, because you and the computer (the bundle of connected hardware, including your display, RAM, hard drive, processor, and GPU) speak different languages. Your computer speaks something called \"machine code\", or one step higher, closely related \"assembly\" language, which is almost impossible for humans to read. If we had to write everything in assembly language it would be very difficult to get anything done. So what has developed in modern computing is a system of higher-level programming languages that are human readable (with practice) that get converted into machine code by specialized translators called <b>compilers</b>. Thus, all of the programming lanuages that you commonly think of like C, Fortran, Python, Java, etc. have specialized vocabulary for common tasks like addition, matrix multiplication, writing files, and generating pictures, that the associated <b>compiler</b> knows how to turn into machine code for the computer to execute. \n",
    "\n",
    "For example:"
   ]
  },
  {
   "cell_type": "code",
   "execution_count": null,
   "metadata": {
    "colab": {
     "base_uri": "https://localhost:8080/"
    },
    "executionInfo": {
     "elapsed": 120,
     "status": "ok",
     "timestamp": 1673540693835,
     "user": {
      "displayName": "Brett Savoie",
      "userId": "11084403397391204350"
     },
     "user_tz": 300
    },
    "id": "jF0WXELoRfIh",
    "outputId": "bffe2df0-318e-4345-c958-d6e084e6c1d8"
   },
   "outputs": [],
   "source": [
    "a = 1\n",
    "b = 2\n",
    "c = print(a+b)\n"
   ]
  },
  {
   "cell_type": "markdown",
   "metadata": {
    "id": "dBZ6qu_ERfIl"
   },
   "source": [
    "is about the simplest python program possible, but A LOT goes on behind the scenes to make things that simple. \n",
    "\n",
    "- For instance, we created two integers in the system's memory (`1` and `2`). We didn't tell the computer where to put those, we left it up to Python's interpreter (a behind the scenes compiler) and the system's operating system (which actually executed the compiled program) to just figure out whether to put those in RAM or on the disk drive, and to do it in a manner that didn't conflict with other things that might be saved in those places. \n",
    "- We also attached labels to those integers (`a` and `b`), so that we could use them later. Creating <b>pointers</b>, or giving names to objects in a program, is something that comes naturally to us, but behind the scenes the <b>compiler</b> needs to do more hard work to provide this abstraction.\n",
    "- How did the computer know that `1` and `2` were integers? How did it know that we didn't mean `1.0` and `2.0` (floats), or `\"1\"` and `\"2\"` (strings)? That's a convention of the language and you have to play by its rules. In Python, a number without a decimal is interpreted as an integer and anything inside of single (`''`) or double (`\"\"`) quotes is a string. In other languages you need to be more explicit.\n",
    "- How did the computer know what `a+b` meant? There are a lot of assumptions we made there without thinking about it. We assumed that the Python knows how to interpret `+`. Thankfully it does. We also assumed that it would know that `a` and `b` pointed to things that could be added. What if `a` and `b` had been strings?"
   ]
  },
  {
   "cell_type": "code",
   "execution_count": null,
   "metadata": {
    "id": "mtG_oUEpRfIm"
   },
   "outputs": [],
   "source": [
    "a = \"one\"\n",
    "b = \"two\"\n",
    "print(a+b)"
   ]
  },
  {
   "cell_type": "markdown",
   "metadata": {
    "id": "QOi4UnWhRfIo"
   },
   "source": [
    "- In this case the program interpretted `+` in different way, to mean \"add these strings together\". This is again something built into the language that we can take for granted in Python but will be different in other languages. \n",
    "- What is `print()`? I think everyone can guess that `print()` \"prints\" whatever is inside its parenthesis, but how did the program know it could do this? There are a lot of capabilities that are built into every modern programming language. For instance, all modern programming languages assume every user will potentially need to do things like print out results (`print()`) and add (`+`). Some capabilities aren't available by default and we'll need to alert the program that we want to use them (we cover this in the <b>importing</b> section).\n",
    "- Finally, at what point did the human-readable commands above (source-code) get turned into machine code? Part of the reason that Python is so useful is because this intermediate step is handled behind the scenes by an <b>interpreter</b> and a specialized Python compiler. In other languages, compiling source-code is a separate step and you need to be careful how you do it. In Python, this is handled behind the scenes for you. This is why Python is sometimes called an <b>interpreted</b> language versus a <b>compiled</b> language. But these distinctions and how they apply to Python are way beyond what you need to know right now. Just know that Python handles the compilation of the commands you write behind the scenes which liberates you to focus on your code. This is the last you will hear of <b>compilers</b> and <b>interpreters</b> in this course because we need to move on to doing things. \n",
    "\n",
    "## Python Basics\n",
    "\n",
    "### Dynamic \"typing\"\n",
    "In Python, objects are one thing and their <b>pointers</b> (you might want to call them labels or variables) are another.  As I told you above in the case of `a=1`, the integer was created somewhere in the available memory and we attached the pointer `a` to it so that we could use it later. Python automatically \"knew\" that we meant `1` to be an integer by convention. That is, the <b>type</b> of `1` was determined to be an integer on the fly. We call this aspect of a language \"dynamic typing\" and it means that the user doesn’t need to explicitly specify the <b>type</b> of an object. This can be a surprise for someone coming from the C-family or Fortran programming languages. \n",
    "\n",
    "### Pointers vs Objects\n",
    "In a dynamically typed language, <b>pointers</b> are labels for objects in memory (like `1` above). They can be plucked off one object and placed on another. For example the two consecutive commands,"
   ]
  },
  {
   "cell_type": "code",
   "execution_count": null,
   "metadata": {
    "id": "_a3C9FxCRfIp"
   },
   "outputs": [],
   "source": [
    "a=1\n",
    "a='one'\n",
    "print(a)"
   ]
  },
  {
   "cell_type": "markdown",
   "metadata": {
    "id": "UYaORB_hRfIs"
   },
   "source": [
    "result in the program first creating an integer in memory corresponding to `1`, with the pointer `a` pointing to it. After the second line, a string `'one'` is created in memory and the pointer `a` now points to it. If the `1` initialized in memory isn’t used for a while, a <b>garbage collector</b> comes around and automatically deletes it from memory. In languages like C it is up to the user to allocate and release memory, but in Python the <b>garbage collector</b> (this is actually what it is called) periodically deletes things once the program you are executing no longer references them. In a notebook, like this, objects will typically persist indefinitely, but when running a .py file they will be deleted more methodically. This all happens behind the scenes, because of the hard work of the Python developers. \n",
    "\n",
    "### Strong typing ###\n",
    "Even though Python determines object <b>types</b> dynamically when they are created, the object <b>type</b> is fixed. We call this aspect of a programming language <b>strong typing</b>. In practical terms, all that this means is that Python will throw an error if you try and do something with an object that it is incapable of. Python <i>will not</i> try to convert the object to a different <b>type</b> in order for your code to make sense. Thus, `a` in the example above might be alternately assigned to an integer or a string, but operations on the object that `a` points to must be consistent with that object. The compiler won’t guess your intentions. For example"
   ]
  },
  {
   "cell_type": "code",
   "execution_count": null,
   "metadata": {
    "id": "ltZQ9apIRfIt"
   },
   "outputs": [],
   "source": [
    "a=1\n",
    "b=a+1\n",
    "print(b)"
   ]
  },
  {
   "cell_type": "markdown",
   "metadata": {
    "id": "6EsRVqjfRfIv"
   },
   "source": [
    "works fine, but"
   ]
  },
  {
   "cell_type": "code",
   "execution_count": null,
   "metadata": {
    "id": "pbU0_gAhRfIw"
   },
   "outputs": [],
   "source": [
    "a=1\n",
    "b=a+\"one\""
   ]
  },
  {
   "cell_type": "markdown",
   "metadata": {
    "id": "KCDQ1jnnRfIy"
   },
   "source": [
    "throws an error, because string objects can’t be added to integers. Sometypes Python is forgiving, like if you add an integer and float (we'll return to this), but it is best to be explicit. \n",
    "\n",
    "### Data types ###\n",
    "We've partly covered this but let's be comprehensive. We'll refer to <b>objects</b> as anything that is stored in memory and <b>data</b> as special types of objects that are single values. Data objects are the most elementary of the objects we will work with in Python and more complicated objects like functions and structures will use data objects as inputs. The basic data types that we commonly work with are `int`, `float`, `string`, `complex`, and `boolean`. Python can handle all of these natively.\n",
    "\n",
    "- <strong>int</strong>: integers are whole numbers (no decimal places). Python automatically interprets any number specified without a decimal place as an integer (e.g., `1`,`3`,`100001`, and `0` are all integers).\n",
    "\n",
    "- <strong>float</strong>: floats are decimal numbers. Python automatically interprets any number specified with a decimal as a float (e.g., `1.`, `1.0`, and `1.00000` all refer to the same float). Behind the scenes floats are stored as the closest binary fraction of a fixed length. What this means is that numbers like `1.0/3.0`, are not exactly one-third, but a truncated approximation of one-third. In many practical cases, this limited precision may not matter, but you need to be aware of it or you might get counter-intuitive results.\n",
    "\n",
    "- <strong>string</strong>: strings are words, sentences, or anything that you want the computer to interpret \"literally\". Python automatically interprets any characters specified inside single (`''`) or double (`\"\"`) quotes as a string (e.g., `\"blue\"`, `\"words are great\"`, and `\"1.0\"` are all strings, in the last case the numbers are  literally interpreted as their characters rather than their numerical value). Sometimes we'll parse numbers like `\"1.464364363\"` from a file, then we'll convert them to floats and vice versus.  \n",
    "\n",
    "- <strong>complex</strong>: complex types are imaginary numbers. Python automatically interprets any number written as `a + bJ` as a complex type, where `a` and `b` can be integers or floats (e.g., `1.0 + 1.0J`, `1+ 1J`, and `1 + 1.0J` all specify complex numbers with a real and imaginary component of `1`).\n",
    "\n",
    "- <strong>boolean</strong>: boolean types are things that have only two values, `True` and `False`. In a lot of applications we need booleans, or at least use them behind the scenes to evaluate whether or not something is true. For example, `1<2` returns the boolean `True`, and `1>2` returns the boolean `False` in Python. `True` and `False` are special values in Python reserved for booleans.\n",
    "\n",
    "Let's looks at some illustrative examples:"
   ]
  },
  {
   "cell_type": "code",
   "execution_count": null,
   "metadata": {
    "id": "c_UIJvf2RfIz"
   },
   "outputs": [],
   "source": [
    "# Example 1: integer math\n",
    "a = 1000\n",
    "b = 2000\n",
    "print(a+b)\n",
    "\n",
    "# Example 2: float math\n",
    "a = 1000.0\n",
    "b = 2000.0\n",
    "print(a+b)\n",
    "print(type(a+b))"
   ]
  },
  {
   "cell_type": "markdown",
   "metadata": {
    "id": "01o0PnEHRfI1"
   },
   "source": [
    "In the first example, adding two `int` objects returns an `int` result (you can tell by the fact that the printed number doesn't have a decimal). \n",
    "\n",
    "In the second example, adding two `float` objects returns a `float` result. We can also confirm this by printing out the type explicitly."
   ]
  },
  {
   "cell_type": "code",
   "execution_count": null,
   "metadata": {
    "id": "vpLxCvS6RfI1"
   },
   "outputs": [],
   "source": [
    "# Example 1: upcasting, integer math\n",
    "a = 1\n",
    "b = 3\n",
    "print (a/b)\n",
    "\n",
    "# Example 2: upcasting, mixed integer/float math\n",
    "a = 1000\n",
    "b = 2000.0\n",
    "print(a+b)\n",
    "print(b/a)"
   ]
  },
  {
   "cell_type": "markdown",
   "metadata": {
    "id": "rCXSmlWiRfI4"
   },
   "source": [
    "In all three cases we obtained `float` results. This is expected behavior known as <strong>upcasting</strong>. When you ask Python to do something with an object, it will <i>sometimes</i> change the object's type (if it can) in order to do what you asked.  \n",
    "\n",
    "- <strong>Example 1</strong>: division of two `int` objects yields a fraction that is not expressible as an `int`. Python upcasts the `int` objects to `float` objects in order to perform the division. Older versions of python (2.x) would not do this and would instead yield 0 as an answer (the `int` object that results from truncating the decimal digits). \n",
    "\n",
    "- <strong>Example 2</strong>: adding an `int` to a `float` gives a `float` result. This is another instance of upcasting, where the lower precision object (`int`) is converted to the type of the higher precision object (`float`) in order to carry out the operation. Older versions of Python support this type of upcasting.\n",
    "\n",
    "- <strong>Example 3</strong>: dividing a `float` by an `int` gives a `float` result. Yet another example of upcasting. In this case, older versions of python (2.x) would not perform upcasting in this case.\n",
    "\n",
    "In summary, Python is often smart enough to convert data types for you in order to yield sensible results. However, what is \"sensible\" to the developers may not be the behavior you intended, and it is important to be aware of upcasting because it will occur without warning and can be difficult to debug when it is occuring unintentionally. Upcasting can be great if you know what you are doing, but generally it is best practice to explicitly cast your results using the built in type functions. \n",
    "\n",
    "More examples:"
   ]
  },
  {
   "cell_type": "code",
   "execution_count": null,
   "metadata": {
    "id": "l8r_7NmBRfI5"
   },
   "outputs": [],
   "source": [
    "# Example 1: Explicit casting, integer math\n",
    "a = 2\n",
    "b = 3\n",
    "print(int(a/b))\n",
    "\n",
    "# Example 2: Explicit casting, float math\n",
    "a = float(2)\n",
    "b = float(3)\n",
    "print(a/b)\n",
    "\n",
    "# Example 3: complex math\n",
    "a = 1.0 + 1.0J\n",
    "b = 1.0 + 5.0J\n",
    "print(a+b)\n",
    "\n",
    "# Example 4: string concatenation\n",
    "a = \"1.0\"\n",
    "b = '3.0'\n",
    "print(a+b)"
   ]
  },
  {
   "cell_type": "markdown",
   "metadata": {
    "id": "fg6CVVGhRfI7"
   },
   "source": [
    "- <strong>Example 1</strong>: We've used the standard Python function `int()` to convert the result to an `int` object. Note, even though 0.666666.... rounds up to 1, `int()` just returns the non-decimal digits resulting in `0`. Sometimes this is convenient if you want the \"floor\" of a value.\n",
    "\n",
    "- <strong>Example 2</strong>: We've used the standard Python function `float()` to convert `a` and `b` to `float` objects prior to dividing them. There is no ambiguity about the result which is a `float`. \n",
    "\n",
    "- <strong>Example 3</strong>: This is just an example of adding complex numbers. `a` and `b` in this case are cast as `complex` objects since we used the `J`-notation when we defined them. \n",
    "\n",
    "- <strong>Example 4</strong>: \"adding\" two `string` objects doesn't have mathematical meaning, but Python developers have given the `+` operator the definition of \"concatenation\" for `string` objects. Thus, adding two `string` objects returns a new `string` object with the second `string` attached to the first `string`. Note, we used double-quotes when we defined `a` and single-quotes when we defined `b`. Single and double quotes have the same effect (casting the object as a `string`). It is useful to have both available in case we want to make a string that contains quotes (e.g., `a='the student answered \"Python is my favorite programming language\"'`).\n",
    "\n",
    "What are <b>functions</b> and <b>operators</b>? I've snuck these concepts in without alerting you, but I think based on the above examples you might be able to guess what they are. Let's give each a proper definition and further examples.\n",
    "\n",
    "### Operators ###\n",
    "<b>Operators</b> are commands that “operate” on objects to their left and right and return a new object or value. This abstract notion is actually extremely intuitive. For example `+` and `/` are arithmetic operators for addition and division of the objects on either side of the operator. `<` is a logical operator, it returns `True` when the object on the right is larger than the object on the left (Note: logical operators can be used on things that aren't obviously numeric). `is` is another logical operator, it returns `True` when the pointers on the left and right point to the same object, and `False` when they don’t. `is` is similar to `==` (\"equals\"), except that `==` can evaluate to `True` if two different objects evaluate to the same value. Remember, in Python the same object in memory can have multiple pointers, `True` and `False` are common examples. Here are some usage examples\n",
    "\n",
    "\n",
    " "
   ]
  },
  {
   "cell_type": "code",
   "execution_count": null,
   "metadata": {
    "id": "PXL5QtLcRfI8"
   },
   "outputs": [],
   "source": [
    "a=1\n",
    "b=1\n",
    "c=True\n",
    "\n",
    "# Example 1: logical \"==\" operator\n",
    "print(a == b)\n",
    "\n",
    "# Example 2: logical \"is\" operator\n",
    "print(c is True)\n",
    "\n",
    "# Example 3: logical \">\" operator\n",
    "print(100>1)\n",
    "\n",
    "# Example 4: logical \"<\" operator\n",
    "print(\"abce\"<=\"abcd\")"
   ]
  },
  {
   "cell_type": "markdown",
   "metadata": {
    "id": "L17L-vmFRfI-"
   },
   "source": [
    "- <b>Example 1</b>: This is an example of using the `==` logical operator. This will be useful when we get to control structures like `if` statements where we want something to occur \"only if\".\n",
    "\n",
    "- <b>Example 2</b>: This is an example of using the `is` logical operator. In many cases `is` and `==` return the same `boolean`, but not always. `is` returns `True` only if they point to the same object in memory.\n",
    "\n",
    "- <b>Example 3</b>: This is an example of using the `>` operator. In this case, 100 is greater than 1 so it returns `True`.\n",
    "\n",
    "- <b>Example 4</b>: This is an example of using the `<=` (less than or equal to) operator on `string` data types. In `string` comparisons each character is compared until a difference is found. Placement in the alphabet is used to determine 'greater than' or 'less than', so `'e'` is \"greater than\" `'d'` and the operator evaluates to `False`. Be careful when making logical string comparisons!\n",
    "\n",
    "### Functions ###\n",
    "In Python, a `function` is a special type of object that takes other objects as input and does something or optionally returns other object(s) as output(s). `functions` are the work-horse of most programs and they are more intuitive to see and use than this abstract definition makes them appear. At their most essential, `functions` allow you to reuse chunks of code for operation on new inputs or with tweaks to the parameters associated with the reused code. \n",
    "\n",
    "A `function` is called in Python by using its name followed by parentheses (e.g., `print(1)` calls the `print()` function with the integer `1`). Most, though not all, functions will accept some kind of object as an input. The inputted objects to a function are called its <b>arguments</b>, and these go inside the parentheses. We've seen several examples of `functions` already: `print()`, `int()`, `float()`. These are functions that are standard in Python and can be used by default. `print()` takes in an <b>argument</b> but doesn't <b>return</b> anything. `int()` takes in an object that is convertible to an integer and <b>returns</b> an `int` object. For example:  "
   ]
  },
  {
   "cell_type": "code",
   "execution_count": null,
   "metadata": {
    "id": "gJiqwB0-RfI_"
   },
   "outputs": [],
   "source": [
    "# example 1: calling the print() function on an integer\n",
    "a=print(1)\n",
    "\n",
    "# example 2: print() does not return an object\n",
    "print(a)"
   ]
  },
  {
   "cell_type": "markdown",
   "metadata": {
    "id": "KG-QJ2zdRfJA"
   },
   "source": [
    "- <strong>Example 1</strong>: we call the `print()` function with the `int` `1`. Very sensibly, `print(1)` prints the number to standard output (i.e., the place on your computer that displays output, in notebooks that is right below the code block). We also try to assign the label `a` to whatever object that print <b>returns</b>. \n",
    "\n",
    "- <strong>Example 2</strong>: we call `print()` on the object that `a` points to. The result is `None`, confirming that print does not <b>return</b> any object. \n",
    "\n",
    "<b>return</b>: When we say that a function <b>returns</b> something, we mean that the function creates an object that we intend to keep for use in the rest of the program. Some functions, like `print()`, do not <b>return</b> objects. Some functions <b>return</b> several objects. \n",
    "\n",
    "<b>arguments</b>: the objects that we pass to a function are its <b>arguments</b>. These can be optional or required depending on the function. When multiple arguments are supplied they are separated by a comma (`,`). For example, `print()` accepts one or more arguments that are convertible into <b>strings</b>. If an argument is required, the function will fail if you don't supply it. Required arguments are usually <b>positional</b>, meaning that when you call the function it expects a given argument in a given position (see example 1 below). Functions may also have <b>optional</b> arguments that take on a default value when they are not supplied by the user (see example 4 below). <b>optional</b> arguments are always specified after <b>positional</b> arguments. \n",
    "\n",
    "In summary, functions are nothing more than packages of reuable code for things we commonly need to do. It would be very inconvenient to rewrite the `print()` function every time we wanted to use it. Likewise, we can define our own functions for specific tasks that will be repeated in our programs. For example:  "
   ]
  },
  {
   "cell_type": "code",
   "execution_count": null,
   "metadata": {
    "id": "-oLeV6eoRfJB"
   },
   "outputs": [],
   "source": [
    "# example 1: function that returns an object (a and b are positional arguments)\n",
    "def add(a,b):\n",
    "    return a+b\n",
    "\n",
    "# example 2: function that returns multiple objects\n",
    "def add_sub_mult_div(a,b):\n",
    "    return a+b,a-b,a*b,a/b\n",
    "\n",
    "# print results\n",
    "print(add(1,3))\n",
    "print(add_sub_mult_div(1.,3.))\n",
    "\n",
    "# example 3: label results for reuse\n",
    "a,b,c,d = add_sub_mult_div(1.,3.)\n",
    "print(\"a: \"+str(a))\n",
    "print(\"b: \"+str(b))\n",
    "print(\"c: \"+str(c))\n",
    "print(\"d: \"+str(d))"
   ]
  },
  {
   "cell_type": "markdown",
   "metadata": {
    "id": "42gbfWaJa4Lh"
   },
   "source": [
    "- <strong>Example 1</strong>: We define a simple add function that has `a` and `b` as inputs and <i>returns</i> `a+b` as an output. `def name(input1,input2,...)`: is the syntax in Python for defining a function. We test out this function by calling `add(1,3)` inside of `print()` with the result that `4` is printed to the screen. Note the order of operations: `add(1,3)` returns the `int` 4, which is then passed as an input to `print()`. \n",
    "\n",
    "- <strong>Example 2</strong>: We define a function that has `a` and `b` as inputs and <i>returns</i> `a+b,a-b,a*b,a/b`. This function returns several `floats`. When we `print()` the result of `add_sub_mult_div(1.,3.)` we get multiple outputs: `(4.0, -2.0, 3.0, 0.3333333333333333)`. \n",
    "\n",
    "- <strong>Example 3</strong>: If we wanted to save the outputs from a function for future use, we can name them by calling the function with an equality. Since `add_sub_mult_div()` returns four objects, we put four labels on the left-hand side of the equality, separated by commas, and we call the function on the right-hand side. When we print the individual results they are the same as in <strong>Example 2</strong>.\n",
    "\n",
    "Note: `add(1,3)` returned an integer, whereas `add_sub_mult_div(1.,3.)` returned floats. Functions aren't magic, they simply do what you program them to do. As written, each function will retain the type of the objects supplied. Likewise, if you supply incompatible inputs to the function, you will get an error (e.g., `add_sub_mult_div('one','three')`). \n",
    "\n",
    "Finally, let's reformulate example 1 so that the second argument `b` is optional. In this case, it acts the same as the original function when two arguments are supplied, but defaults to adding `0` when only one argument is supplied."
   ]
  },
  {
   "cell_type": "code",
   "execution_count": null,
   "metadata": {
    "id": "oTdDRgPrad-p"
   },
   "outputs": [],
   "source": [
    "# example 4: add function with an optional second argument (a is positional, b is optional)\n",
    "def add(a,b=0):\n",
    "  return a+b\n",
    "\n",
    "# print results\n",
    "print(add(1,3))\n",
    "print(add(1,b=3))\n",
    "print(add(1))"
   ]
  },
  {
   "cell_type": "markdown",
   "metadata": {
    "id": "ZO1yxxzyRfJD"
   },
   "source": [
    "<b>Note:</b> `add(1,3)` and `add(1,b=3)` are equivalent. For optional arguments, you can supply them out of order to the function as long as you specify their name. It is generally more robust to specify the name of optional arguments that you are specifying in case the positional ordering of the function arguments is updated in later versions of the function. \n",
    "\n",
    "<b>Note:</b> a `method` is like a `function` except that it is associated with a specific <b>class</b> of object. For example, all `string` objects have the `.format` method associated with them. `methods` are covered in the later section on `classes` but there will be some references to them before that I want to plant the seed. \n",
    "\n",
    "\n",
    "#### Anonymous #####\n",
    "There is a second way of defining functions in Python that is common enough to be included in the discussion. Specifically, Python allows you to define functions on a single line with the keyword `lambda` followed by the input arguments and a single expression that is evaluated and returned. These functions are called <b>anonymous</b> because they don't have a name. Specifically, the expression just creates a function object that the user can assign to a pointer or use in other expressions the same way any other function might be used.\n",
    "\n",
    "The specific syntax for defining an anonymous function is `lambda a,b,c: expression` where `a,b,c` are input arguments to the function and `expression` is a python expression involving the arguments `a,b,c`. This is best illustrated with some examples:\n"
   ]
  },
  {
   "cell_type": "code",
   "execution_count": null,
   "metadata": {
    "id": "G3sP3bhEkLT-",
    "outputId": "14b081f6-e393-4a0c-f8ef-291f9ab88842"
   },
   "outputs": [],
   "source": [
    "sqroot = lambda x: x**(0.5)\n",
    "\n",
    "print(sqroot)\n",
    "print(\"sqroot(100): \",sqroot(100))\n",
    "\n",
    "# Advanced example\n",
    "l = range(11)\n",
    "print(list(filter(lambda x: x%2==0,l)))\n",
    "print(list(map(lambda x: x%2==0,l)))\n"
   ]
  },
  {
   "cell_type": "markdown",
   "metadata": {
    "id": "0-AoBsKwkLT-"
   },
   "source": [
    "<b>Note:</b> the first print statement reflects that the pointer `sqroot` points to a function object. \n",
    "\n",
    "<b>Note:</b> in the second print statement we call `sqroot()` like we would any other function. \n",
    "\n",
    "<b>Note:</b> in the last two examples anonymous functions that return a boolean if a number is even are passed to other functions `filter` and `map`. These functions haven't been covered yet, but a common use case for anonymous functions is when passing an expression as an argument to another function. \n",
    "\n",
    "### Indenting ###\n",
    "How did Python know where the function definitions ended? In most programming languages you would use a \"start\" keyword, like \"def\", and a separate \"end\" keyword to let the compiler know that you were finished defining your function. In Python, instead of using \"end\" keywords for the various situations that require them, you instead use indenting to specifify when code is part of the function and when it is part of the rest of the program. Indenting is used in this way anytime you are doing something that seems to logically require an \"end\" statement (e.g., this will figure prominently in the control statements section below). \n",
    "\n",
    "### Namespace ###\n",
    "In the examples above, inside the functions the labels `a` and `b` have one meaning, but outside the functions, we use `a` and `b` to label outputs. How come these don't conflict in some way? <strong>Namespace</strong> is the term used for how programming languages organize object labels. The short answer is that the names for things inside of functions (and later, classes) are actually renamed internally by Python without you knowing it in order to make sure that they don't conflict with labels in the rest of the code. You can make an object \"global\" so that it is accessible everywhere in your code, but this shouldn't be done naively and is beyond the scope of this intro. Also note that when you call a function (e.g., `add(1,3)` in the example above), Python automatically assigns the inputs to the function labels based on position (e.g., `a` and `b` in the case of `add()`), you don't have to manually do that.\n",
    "\n",
    "### Scope ###\n",
    "Similar to namespace, <strong>scope</strong> refers to which objects can be accessed by different parts of your program. For example, a `function` only has access to data objects that are passed as inputs, data objects that are defined in the `function` itself, and other `functions` that have been defined or imported (more on this later) into the program. Likewise, the rest of the program cannot access the objects generated by a `function` unless they are returned and given labels. On the other hand, a function has access to other functions that have already been defined in the program or are built-in to Python. For example:  "
   ]
  },
  {
   "cell_type": "code",
   "execution_count": null,
   "metadata": {
    "id": "m9h3-b0ZRfJE",
    "outputId": "8926829a-3bc0-4098-a815-85963ca5909f"
   },
   "outputs": [],
   "source": [
    "# add function that returns an object\n",
    "def add(a,b):\n",
    "    return a+b\n",
    "\n",
    "# subtract function that returns an object\n",
    "def sub(a,b):\n",
    "    return a-b\n",
    "\n",
    "# example 1: function that calls other functions\n",
    "def add_sub(a,b):\n",
    "    return add(float(a),float(b)),sub(float(a),float(b))\n",
    "\n",
    "print(add_sub(1,3)) "
   ]
  },
  {
   "cell_type": "markdown",
   "metadata": {
    "id": "vzosIL36RfJG"
   },
   "source": [
    "- <strong>Example 1</strong>: In this example, the function `add_sub()` calls the user-defined functions `add()` and `sub()` and also uses the built-in function `float()` to <b>cast</b> the <b>returned</b> objects as `floats`. Note, `add_sub()` would not work if `add()` and `sub()` were defined after the first call of `add_sub()` (e.g., try moving the definition of `add()` to after the `print()` statement).\n",
    "\n",
    "Scoping is a way of avoiding conflicts in complicated code so that the user is always working with the objects that they intend. Again, \"global\" objects are exceptions to this rule but will not be covered here.\n",
    "\n",
    "## Data Structures ##\n",
    "### Built-In Structures ###\n",
    "We've already covered individual data <b>objects</b> like `floats`, `ints`, etc. In any practical application it will quickly become inconvenient to work with objects on an individual basis and we will want to collect objects together--that's what data <b>structures</b> are for. Thankfully in Python the most useful <b>structures</b> come built-in or can easily be imported from standard packages. As with many things, it is easier to show than tell, so let's run through the definitions and demonstrate their use:\n",
    "\n",
    "- <strong>list</strong>: lists are the structures that store data in <b>order</b>. Lists have built-in methods (see below) for adding more data, removing data, modifying data, and accessing data in the list. You can modify objects in the list without creating a whole new list, for this reason we say that lists are <b>mutable</b>. Defined using `[]` notation (check examples below).\n",
    "\n",
    "- <strong>tuple</strong>: tuples are structures that store data in <b>order</b> but are <b>immutable</b>. That is tuples are like lists, except that you can't add or remove from them without creating a whole new object in memory. Sometimes you need things that are immutable (e.g., the next two structures require immutable objects!). Defined using `()` (check examples below).\n",
    "\n",
    "- <strong>set</strong>: sets are like lists but they are <b>unordered</b> and no duplicates are allowed. Unordered? Yes, sets collect objects but don't keep track of where they were put. On a technical side, it is actually more accurate to say that sets are hyperspecific about where they’ve put things (internally) and so you as the user cannot modify that order. This makes sets very efficient at calculating membership (e.g., is \"1\" in our set?) and intersections (common objects in multiple sets). If you wanted to know if the numbers 7,23,and 108 existed in three lists or three sets, it would be much faster to do the latter. Defined using `{}` or `set(list)` notation. (check examples below).\n",
    "\n",
    "- <strong>dictionary</strong>: dictionaries are structures that store objects in pairs. Each pair consists of a <b>key</b> and a <b>value</b>. In analogy, a phone book is a dictionary, where the key is a person's name, and the value their phone number. You could accomplish the same thing using two sets of ordered lists, but dictionaries have the advantage that their keys are stored...as...a...<b>set</b>! Returning to our phonebook example, this would make it really easy to figure out if someone is in the phonebook (otherwise you would need to read every name). It also means that there can't be two identical keys in your dictionary. Defined with `{}` notation with `key:value` pairs. (check examples below)\n",
    "\n",
    "### List - Examples ###"
   ]
  },
  {
   "cell_type": "code",
   "execution_count": null,
   "metadata": {
    "id": "q_jw3Fa3RfJG"
   },
   "outputs": [],
   "source": [
    "# example 1 - creating a list of ints\n",
    "a = [1,2,3,4]\n",
    "print(\"a:\"+str(a))\n",
    "\n",
    "# example 2 - adding an element and creating a new list\n",
    "b = a + [100]\n",
    "print(\"b:\"+str(b))\n",
    "\n",
    "# example 3 - removing an element from the list and storing it in a new variable\n",
    "c = b.pop(0)\n",
    "print(\"c:\"+str(c)+\", b:\"+str(b))\n",
    "\n",
    "# example 4 - returning the minimum value\n",
    "d = min(a)\n",
    "print(\"d:\"+str(d))\n",
    "\n",
    "# example 5 - grabbing the first item in a list (without removal)\n",
    "e = a[0]\n",
    "print(\"e:\"+str(e))\n",
    "\n",
    "# example 6 - grabbing the last object in a list (without removal)\n",
    "f = a[-1]\n",
    "print(\"f:\"+str(f))\n",
    "\n",
    "# example 7 - grabbing the first three objects in a list (without removal)\n",
    "g = a[:3]\n",
    "print(\"g:\"+str(g))\n",
    "\n",
    "# example 8 - grabbing the last three objects in a list (without removal)\n",
    "h = a[-3:]\n",
    "print(\"h:\"+str(h))\n",
    "\n",
    "# example 9 - return all objects from the list (without removal)\n",
    "i = a[:]\n",
    "print(\"i:\"+str(i))\n",
    "\n",
    "# example 10 - grabbing every other value from a list (without removal)\n",
    "j = a[::2]\n",
    "print(\"j:\"+str(j))\n",
    "\n",
    "# example 11 - reassign the first element to 100000.0\n",
    "a[0] = 100000.0\n",
    "print(\"a:\"+str(a))"
   ]
  },
  {
   "cell_type": "markdown",
   "metadata": {
    "id": "eSZnQORJRfJI"
   },
   "source": [
    "- <strong>Example 1</strong>: We create a list use `[]`, or \"square-bracket\" notation. Python will interpret any square brackets that are not attached to a pointer (e.g., Example 5 is square brackets attached to a pointer) as a list. In this case there are five objects in the list (i.e., 4 `int` objects) and they will be stored in the order they were added.\n",
    "\n",
    "- <strong>Example 2</strong>: Adding two lists together is interpreted as \"extend\" or \"contatanate\", with the first list followed by the second list. In this case the second list only has a single element (100), so the new list will have 5 objects. \n",
    "\n",
    "- <strong>Example 3</strong>: Two things are happening here that need explanations. First, we are using `structure.method` notation for the first time. A <b>method</b> is just a name for a function that is attached to a structure or class (we'll discuss classes later). <b>methods</b> come with the structure (list in this case) for free, and they usually do something to the structure they are attached to, that's why it makes sense to define the functionality as a <b>method</b> and not as an ordinary function. In this case the <b>method</b> is `pop()`, and it removes an element from the list based on which index you supply it as an argument. Since lists are <b>0-indexed</b> the `0` corresponds to the first element in the list. `b.pop(0)` thus removes the first element, 1, and assigns it to the points `c`.\n",
    "\n",
    "- <strong>Example 4</strong>: `min()` and `max()` are functions that ship with Python by default. These functions accept `lists`, `tuples`, `sets` and other structures and return the minimum and maximum value (without removing it from the structure itself). Here we assign the minimum value the label `d`.\n",
    "\n",
    "- <strong>Example 5</strong>: You can access one or more objects from lists using \"slice\" notation (i.e., square brackets `[]` attached to a list or its pointer). In this case `a` is a pointer to the `list` `[1,2,3,4]`, so `a[0]` returns the first object in the list (remember, everything in Python is 0-indexed).  \n",
    "\n",
    "- <strong>Example 6</strong>: When using `[]` notation with negative integers the indexing will count from the end of the list. In this case `a[-1]` returns the last element, `a[-2]` would have returned the second from last, etc. \n",
    "\n",
    "- <strong>Example 7</strong>: index ranges can be specified using a colon `:` . If you used `[start:stop]` then the objects between index `start` (inclusive) and `stop` (exclusive) will be returned as a new list. If you don't specify `start` or `stop` in this example, then it will automatically run to the beginning or end of the list, respectively. In this case, `a[:3]` returns all objects from the beginning of the list through the object at index 2 as a new list. \n",
    "\n",
    "- <strong>Example 8</strong>: Colon notation can also be used with negative integer for specifying indices relative to the end of the list. In this case, `a[-3:]`, returns all objects from the third to the last through the end of the list as a new list. \n",
    "\n",
    "- <strong>Example 9</strong>: If neither the start or stop indices are specified then all objects are returned. In this case, the list `i` would be the same as the list `a`.\n",
    "\n",
    "- <strong>Example 10</strong>: An optional \"stride\" or \"step\" can be specified when using slice-notation. When it isn't specified a default of `1` is used. In this example, `a[::2]`, neither the `start` of `end` indices are set and we set the `step` to `2`, so every other object is returned from the list. \n",
    "\n",
    "- <strong>Example 11</strong>: Since lists are <b>mutable</b> we can reassign their values. In this case, note that the resulting list has a mixture of `int` and `float` objects. \n",
    "\n",
    "\n",
    "### Slice notation ###\n",
    "Since it is so important, here's a quick summary of slice notation. `list[start:stop:step]` returns objects between the indices `start` through `stop` (excluding `stop`). `list[start:]` returns objects start through the end of the list, `list[:stop]` returns objects from the beginning of the list through the object at index `stop` (excluding the object at `stop`), `list[:]` returns all objects, and `list[::step]` returns objects every `step` apart. You can use slice notation for accessing objects from any ordered data structure (e.g., `tuple`). \n",
    "\n",
    "### Tuple - Examples ###"
   ]
  },
  {
   "cell_type": "code",
   "execution_count": null,
   "metadata": {
    "id": "8j8tGpyqRfJJ"
   },
   "outputs": [],
   "source": [
    "# example 1 - creating a tuple \n",
    "a = (1,2,3,4)\n",
    "print(\"a:\"+str(a))\n",
    "\n",
    "# example 2 - extending a tuple\n",
    "b = a + a\n",
    "print(\"b:\"+str(b))\n",
    "\n",
    "# example 3 - finding the min of a tuple\n",
    "c = min(a)\n",
    "print(\"c:\"+str(c))\n",
    "\n",
    "# example 4 - returning the last two objects\n",
    "d = a[-2:]\n",
    "print(\"d:\"+str(d))\n",
    "\n",
    "# example 5 - try to reassign the first element to 100000.0 \n",
    "a[0] = 100000.0"
   ]
  },
  {
   "cell_type": "markdown",
   "metadata": {
    "id": "9sN0kwodRfJL"
   },
   "source": [
    "- <strong>Example 1</strong>: We create a tuple using `()`, with objects separated by commas. Python will interpret any parentheses that are not attached to a pointer or function (e.g., Example 3 the parentheses are associated with the `min()` function). In this case there are four objects in the tuple (i.e., 4 `int` objects) and they will be stored in the order they were added.\n",
    "\n",
    "- <strong>Example 2</strong>: Adding two tuples together is interpreted as \"extend\" or \"contatanate\", with the first tuple followed by the second tuple. \n",
    "\n",
    "- <strong>Example 3</strong>: `min()` and `max()` are functions that ship with Python by default. These functions accept `lists`, `tuples`, `sets`, among other structures, and return the minimum and maximum value. \n",
    "\n",
    "- <strong>Example 4</strong>: You can use \"slice\" notation on tuple objects (and any other ordered data structure). \n",
    "\n",
    "- <strong>Example 5</strong>: tuples are <b>immutable</b> so they do not support item reassignment. Python should have printed a `TypeError` at this point. \n",
    "\n",
    "### Set - Examples ###"
   ]
  },
  {
   "cell_type": "code",
   "execution_count": null,
   "metadata": {
    "id": "pGMyuqAARfJM"
   },
   "outputs": [],
   "source": [
    "# example 1 - creating a set\n",
    "a = {1,2,3,4}\n",
    "print(\"a:\"+str(a))\n",
    "\n",
    "# example 2 - sets do not have order or duplicates\n",
    "b = {4,4,4,4,3,2,1}\n",
    "print(\"a==b: \"+str(a==b))\n",
    "\n",
    "# example 3 - extending a set\n",
    "a.add(5.0)\n",
    "print(\"a:\"+str(a))\n",
    "\n",
    "# example 4 - sets only store unique values\n",
    "a.add(4)\n",
    "print(\"a:\"+str(a))\n",
    "\n",
    "# example 5 - checking if a number is in the set\n",
    "print(\"2 in a: \"+str(2 in a))\n",
    "\n",
    "# example 6 - finding the union and intersection of two sets\n",
    "b = {3,4,5,6,7}\n",
    "print(\"b:\"+str(b))\n",
    "print(\"union of a and b:\"+str(a.union(b)))\n",
    "print(\"intersection of a and b:\"+str(a.intersection(b)))"
   ]
  },
  {
   "cell_type": "markdown",
   "metadata": {
    "id": "-6o_a7PwRfJN"
   },
   "source": [
    "- <strong>Example 1</strong>: We create a set using `{}`, with objects separated by commas. Alternatively, we could have defined the same object as `set([1,2,3,4])`. Likewise, since sets don't have duplicates and are unordered, all of the following would result in identical objects `{1,2,3,4}`, `{4,3,2,1}`, and `{1,1,1,2,3,4}`.\n",
    "\n",
    "- <strong>Example 2</strong>: This example demonstrates that two sets (`a` and `b`) initialized from lists of the same unique objects, albeit with different orders and quantities, result in the same object. Sets don't have order or allow duplicates so `a` and `b` in this case must be identical. \n",
    "\n",
    "- <strong>Example 3</strong>: The `set.add()` method can be used to add objects to an existing set. After printing out the full set, we can see that the `float` `5.0` has been added. We can also see that sets support mixed data types (in this case `int` and `float`).\n",
    "\n",
    "- <strong>Example 4</strong>: If we try to add an object that is already in the set (in this case the `int` `4`) nothing happens. Sets do not allow duplicate objects! If you wanted to find the unique objects in a really long list, converting the list to a set would do it. \n",
    "\n",
    "- <strong>Example 5</strong>: `in` is an operator that returns a true or false depending on if the object on the left hand side is in the data structure on the right hand side. `in` comparisons can be slow for lists because every object needs to be compared against the thing on the lhs of `in`. Because of the way that sets store objects, `in` can be evaluated very rapidly. \n",
    "\n",
    "- <strong>Example 6</strong>: sets can perform set logical operations very effectively (surprised?). If you want to calculate which objects two groups have in common, or which objects in group `a` are not in group `b`, then sets are the data structure that you want to use. In this case we've demonstrated how to calculate the union (set that results from combining unique objects of each) and intersection (set of objects in common to both) of two sets `a` and `b`, using the methods of the same name.    \n",
    "\n",
    "### Dictionary - Examples ###"
   ]
  },
  {
   "cell_type": "code",
   "execution_count": null,
   "metadata": {
    "id": "CQAUS4-sRfJP"
   },
   "outputs": [],
   "source": [
    "# example 1 - creating a dictionary\n",
    "a = {1:\"one\",2:\"two\",3:\"three\",4:\"four\"}\n",
    "print(\"a:\"+str(a))\n",
    "\n",
    "# example 2 - accessing a dictionary value by key\n",
    "print(\"a[3]: \"+a[3])\n",
    "\n",
    "# example 3 - adding a key:value pair to a dictionary\n",
    "a[99] = \"ninety-nine\"\n",
    "print(\"a:\"+str(a))\n",
    "\n",
    "# example 4 - dictionary of dictionaries\n",
    "a = {\"benzene\": {\"MW\": 78.11, \"MF\":\"C6H6\"}, \"ethane\": {\"MW\":30.07, \"MF\":\"C2H6\"}}\n",
    "print(a[\"benzene\"][\"MW\"])"
   ]
  },
  {
   "cell_type": "markdown",
   "metadata": {
    "id": "AltOVUwKRfJT"
   },
   "source": [
    "- <strong>Example 1</strong>: We create a dictionary using `{key:value,...}`, with objects separated by commas. Only immutable objects can be keys in a dictionary. Basic data types like `ints`, `floats`, and `strings` are immutable (`tuples` too!) and can serve as dictionary keys. Any object type can be a value (e.g., we could have lists as values in a dictionary). In this example, the keys are integers, and the values are the string associated with each key. \n",
    "\n",
    "- <strong>Example 2</strong>: Dictionary values are accessed by their associated keys. In this case our dictionary is basically a translator, you give it an integer and it returns the string version. `a[3]` returns `\"three\"`.\n",
    "\n",
    "- <strong>Example 3</strong>: Additional key value pairs can be added to dictionaries by supplying the key to an existing dictionary using `[]` notation and setting it equal to the desired value. In this case we've assigned the key `99` to the string `ninety-nine`. \n",
    "\n",
    "- <strong>Example 4</strong>: Dictionaries can hold dictionaries. Likewise, all of the other structures mentioned so far can hold other structures (not just integers and floats). Use sequential `[][]...[]` notation to access nested elements.  "
   ]
  },
  {
   "cell_type": "markdown",
   "metadata": {
    "id": "s4qqd3aZRfJU"
   },
   "source": [
    "## Control Statements ##\n",
    "\n",
    "We motivated the introduction of data structures by saying that it is difficult to do anything useful if you are limited to dealing with individual datum. Similarly, it is difficult to construct useful programs if you have to hard code every individual action you want to do. We will often want to perform the same action many times (<b>for</b>/<b>while</b> loops), or perform an action only under certain circumstances (<b>if</b>/<b>elif</b>/<b>else</b> logic), or will want to attempt something and if it fails implement a fallback plan (<b>try</b>/<b>except</b> logic), or some combination of all three. The tools that accomplish these feats are <b>control statements</b>. These are built into python, and they are so useful that every language has them in some form. We'll quickly run through the definitions of each of these then demonstrate their usefulness with examples. \n",
    "\n",
    "- <strong>for</strong>: You will use `for` whenever you need to do something \"`for` every `x` in `y`\", where `x` is an object and `y` is something like a `list` that potentially holds many objects. In a strict sense you can use `for` on any object that is <b>iterable</b>, which means the object has rules for what to do when `for` operates on it. For example, many built-in python objects are iterable, including `strings` (for loops over their individual characters), although their iteration rules might not be obvious without experimentation. The standard construction of a `for` loop is `for variable in iterable:` where `variable` is a convenient name for the objects returned by the iterable, and `iterable` is the pointer to an iterable object or an iterable defined directly in the `for` statement. \n",
    "\n",
    "- <strong>while</strong>: You will use `while` whenever you need to do something repeatedly \"`while` `x` is `True`\", where `x` is a condition (e.g., `len(x) > 0`) and `True` is a boolean. In practice, `while` and `for` loops are redundant, although it is sometimes easier to do something in one than the other. The standard construction of a `while` loop is `while condition:` where `condition` is an expression that evaluates to a boolean. As long as `condition` evaluates to `True`, the loop will run again. A valid `condition` would be `x is False`, which would evaluate to `True` (you might need to think about this a little bit, but it becomes intuitive very quickly).  \n",
    "\n",
    "- <strong>if/elif/else</strong>: You will use `if` (and possibly `elif` and `else`) when you want to do something \"only `if` `x` is `True`\", where `x` is a condition (e.g., `x is False`) and `True` is a boolean. This is kind of like `while` except that `if` statements are only evaluated once, not repeatedly until they evaluate to `False`. If the condition `x` evaluates to `False` then the commands inside of `if` do not get executed. This isn't the end of the story, a lot of the time we want to provide instructions along the lines of \"if not a then do b\", or \"if not a and if not b, then do c\" or \"if not ... a bunch of conditions... do this\". To accomplish this, `if` comes with two optional partners. The first is `elif` which is a portmanteu of \"else\" and \"if\". You will use `elif` when you want to test an addition condition `y` when the `if` condition evaluated to `False`. In words, a typical situation would be \"if x do a; elif y: do b\", where the `elif` condition would <emph>only</emph> be evaluated when the `if` condition evaluates to `False`. The second partner is `else`, which you would use for \"do this when everything else has evaluated to `False`. Thus, `else` contains commands that only run when all of the preceeding `if` and `elif` statements have evaluated to `False`. Both `elif` and `else` are optional. You can use `if` alone, in which case if the conditional expression evaluates to `False`, the implied `else` is \"do nothing\".\n",
    "\n",
    "- <strong>try/except</strong>: You will use `try` and its complementary statement `except` when you want to \"try `x` and if it fails do `exception`\". This sounds a lot like `if` and `else`, and it is, except that you don't test anything in the `try` statement. `try` and `except` have a distinctly pythonic flavor, encapsulated in the epigram \"it is better to ask forgiveness than permission\". This means that it is sometimes better to just attempt it, than to do a preliminary test to check if you should. This can lead to significant efficiency gains in some applications. Logically, `try` and `except` are nearly redundant with `if` and `else`, so you can get by without using them initially, but you really should become practiced with them since some exceptions are easier to catch than to test for in advance, and there are some situations where `if` and `else` are not equivalent, like when information is time sensitive--for instance, between the time an `if` statement evaluates to `True` and the code being evaluated something might have changed that leads the code to fail--using try and except makes your code robust to these kinds of situations. Note, `else` and `finally` are also complements to `try` but I'm intentionally not covering their use here. \n",
    "\n",
    "<i><b>Note about colons:</b> Just like with functions, every control statement will need to be terminated with a colon, `:`, and all of the commands that belong to it will be indented at a consistent level. The following examples will make this clear.</i>\n",
    "\n",
    "### for - Examples ###"
   ]
  },
  {
   "cell_type": "code",
   "execution_count": null,
   "metadata": {
    "id": "F0r1e7VoRfJV"
   },
   "outputs": [],
   "source": [
    "# example 1: loop over list objects\n",
    "print(\"example 1:\")\n",
    "for i in [1,2,3,4,5]:\n",
    "    print(i)\n",
    "    \n",
    "# example 2: loop over list object using pointer\n",
    "print(\"\\nexample 2:\")\n",
    "a = [1,2,3,4,5]\n",
    "for dummy in a:\n",
    "    print(dummy)\n",
    "    \n",
    "# example 3: loop over partial list\n",
    "print(\"\\nexample 3:\")\n",
    "for i in a[::2]:\n",
    "    print(i)\n",
    "\n",
    "# example 4: modify objects within loop (cumulative summation)\n",
    "print(\"\\nexample 4:\")\n",
    "cum_sum = [a[0]]\n",
    "for i in a[1:]:\n",
    "    cum_sum = cum_sum + [i+cum_sum[-1]]\n",
    "print(cum_sum)\n",
    "\n",
    "\n",
    "# example 5: break out of loop early (also if/else use!)\n",
    "print(\"\\nexample 5:\")\n",
    "a = [1,2,3,None,5,6,7]\n",
    "for i in a:\n",
    "    if i is None:\n",
    "        break\n",
    "    else:\n",
    "        print(i)"
   ]
  },
  {
   "cell_type": "markdown",
   "metadata": {
    "id": "rnJZAYnwRfJW"
   },
   "source": [
    "- <strong>Example 1</strong>: Demonstration of `for` loop construction for printing out the elements of a list. Here the list is defined directly in the `for` loop initialization. We also choose the variable `i` to place each object in at each iteration. So printing `i` has the effect of printing out each object in the list, <b>in order</b>. \n",
    "\n",
    "- <strong>Example 2</strong>: This example is nearly identical to the first, except that we first define the list before the `for` loop. In the loop initialization we just use the point for the iterable object,`a`, and python is smart enough to carry out the for iteration on the iterable that `a` points to. We've also changed the iteration variable to `dummmy` just to demonstrate that this choice is arbitrary and can be anything we want. \n",
    "\n",
    "- <strong>Example 3</strong>: This example demonstrates that slice notation can be used in conjunction with `for` loop initialization (in this case, to loop over every other item in the list). Most of the core functionality in Python stacks really well can be combined in this way to accomplish complicated tasks with relatively concise code.\n",
    "\n",
    "- <strong>Example 4</strong>: This example demonstrates that we can perform non-trivial operations within a loop that carry forward from iteration to iteration. In this case, we are performing a cumulative summation of all integers in the list. We initialize the list `cum_sum` with the first integer from `a`. We then use slice notation to loop over the objects in `a`, starting with the second (remember, python is 0-indexed). Every time the loop runs, the list `cum_sum` gets the extended with the current cumulative sum (`cum_sum[-1]`) plus the current value, `i`. The result at the end is a list of partial cumulative summations indexed to the original list, `a`. \n",
    "\n",
    "- <strong>Example 5</strong>: Sometimes we will want to break loops early if something happens. Intuitively, you use the `break` keyword for this. We're also showing you how to use `if` and `else` within the `for` loop! These will be demonstrated more clearly soon, but I think you can intuit how they work pretty clearly from this example. \n",
    "\n",
    "### while - Examples ###"
   ]
  },
  {
   "cell_type": "code",
   "execution_count": null,
   "metadata": {
    "id": "rlTn-VEgRfJX"
   },
   "outputs": [],
   "source": [
    "# example 1: increment an integer\n",
    "print(\"example 1:\")\n",
    "i=1\n",
    "while i < 6:\n",
    "    print(i)\n",
    "    i += 1\n",
    "    \n",
    "# example 2: loop over list object using pointer\n",
    "print(\"\\nexample 2:\")\n",
    "a = [1,2,3,4,5]\n",
    "i=0\n",
    "max=len(a)\n",
    "while i<max:\n",
    "    print(a[i])\n",
    "    i += 1\n",
    "    \n",
    "# example 3: pop items from list\n",
    "print(\"\\nexample 3:\")\n",
    "a = [1,2,3,4,5]\n",
    "while a:\n",
    "    print(a.pop(0))\n",
    "    \n",
    "# example 4: modify objects within loop (multiples of 2)\n",
    "print(\"\\nexample 4:\")\n",
    "a = [1]\n",
    "while a[-1] < 100:\n",
    "    a += [a[-1]*2]\n",
    "print(a[:-1])\n",
    "\n",
    "# example 5: break out of loop early (also if/else use!)\n",
    "print(\"\\nexample 5:\")\n",
    "a = [1,2,3,None,5,6,7]\n",
    "i = 0\n",
    "while True:    \n",
    "    if a[i] is None:\n",
    "        break\n",
    "    else:\n",
    "        print(a[i])\n",
    "    i += 1"
   ]
  },
  {
   "cell_type": "markdown",
   "metadata": {
    "id": "PYoibDXNRfJf"
   },
   "source": [
    "- <strong>Example 1</strong>: Demonstration of `while` loop construction for incrementing a variable. In contrast to the for loop, there is no iterable built into the control statement (e.g., a list) we only need to define the break condition using a statement that evaluates to a `boolean` (in this case `i < 6`). `i` is incremented each iteration of `while` using the `i += 1` shorthand. \n",
    "\n",
    "- <strong>Example 2</strong>: This example is just an extension of the first, except that we use our incremented variable `i` in order to print out sequential elements in an ordered list `a`. In this case, the result of this `while` loop is indistinguishable from an equivalent `for` loop over the list `a`. Note: we define the maximum value outside of the loop so that the `len()` function doesn't get called every iteration (can you think of potential cases where we might want to call `len()` every time? What if the length of the list is changing?).\n",
    "\n",
    "- <strong>Example 3</strong>: This example is typical of where `while` might offer a somewhat more intuitive approach to the equivalent `for`. In this case the condition is on whether the list `a` is non-empty. Each iteration `a` is  modified by the `.pop(0)` method inside the control statement. In this case, the `while` statement will exit once the list is empty. By default iterables evaluate to `True` in while statements if they are non-empty.\n",
    "\n",
    "- <strong>Example 4</strong>: This another illustration of when `while` is useful. In particular, if the exit condition isn't easy to calculate. In this trivial case, we want the control statement to terminate once the first result greater than 100 is obtained. You can imagine less trivial cases where we wouldn't know this in advance. \n",
    "\n",
    "- <strong>Example 5</strong>: This example is analogous to the `for` example above, and shows that 1) `while` statements are compatible with `break` conditions, and 2) `while` statements can be initialized without a logical operator. Specifically, the `while` condition requires a statement which evaluates to `True` or `False` each iterations. In this case, we have initialized it with `True` which will make it run indefinitely unless a `break` statement is supplied somewhere within thhe control statement. \n",
    "\n",
    "### if/elif/else - Examples ###"
   ]
  },
  {
   "cell_type": "code",
   "execution_count": null,
   "metadata": {
    "id": "fUhJUMIXRfJf"
   },
   "outputs": [],
   "source": [
    "# example 1: if else, find smallest divisor of a besides 1.\n",
    "print(\"example 1:\")\n",
    "a = 1890843693043\n",
    "i = 2\n",
    "while i < a:\n",
    "    if a % i == 0:\n",
    "        break\n",
    "    else:\n",
    "        i += 1\n",
    "print(\"{} is the smallest divisor of {} greater than 1.\".format(i,a))\n",
    "\n",
    "# example 2: defined objects evaluate to true by default\n",
    "print(\"\\nexample 2:\")\n",
    "if a:\n",
    "    print(\"a exists!\")\n",
    "    \n",
    "# example 3: if elif else\n",
    "print(\"\\nexample 3:\")\n",
    "a = 2.1\n",
    "if a % 2 == 0:\n",
    "    print(\"a is even\")\n",
    "elif a % 1 == 0:\n",
    "    print(\"a is odd\")\n",
    "else:\n",
    "    print(\"a is fractional\")"
   ]
  },
  {
   "cell_type": "markdown",
   "metadata": {
    "id": "_MNGQmJvRfJh"
   },
   "source": [
    "- <strong>Example 1</strong>: This example utilizes a while loop to find the first number greater than 1 that evenly divides into `a`. `if` a match is found, then the while loop breaks. `else` the divisor, `i` gets incremented and the loop continues.\n",
    "\n",
    "- <strong>Example 2</strong>: This example illustrates that by Python's default behavior is to evaluate any object that exists to `True`, thus triggering the corresponding `if`/`elif` statement. This can be useful if you are uncertain if a variable has been defined at a certain point in the program. \n",
    "\n",
    "- <strong>Example 3</strong>: This is an example of `if`/`elif`/`else` usage for the trivial example of determining if a number is even, odd, or fractional. Experiment with different numbers to confirm that the statements evaluate as they should. "
   ]
  },
  {
   "cell_type": "code",
   "execution_count": null,
   "metadata": {
    "id": "L2xkzRGdRfJi"
   },
   "outputs": [],
   "source": [
    "#Example 1: try with a general except condition\n",
    "print(\"Example 1:\")\n",
    "try:\n",
    "    print(doesnt_exist)\n",
    "except:\n",
    "    print(\"that didn't work!\")\n",
    " \n",
    "#Example 2: try with a specific except condition\n",
    "print(\"\\nExample 2:\")\n",
    "try:\n",
    "    print(doesnt_exist)\n",
    "except NameError:\n",
    "    print(\"Caught a NameError\")\n",
    "\n",
    "#Example 3: try with a do nothing exception\n",
    "print(\"\\nExample 3:\")\n",
    "try:\n",
    "    print(doesnt_exist)\n",
    "except:\n",
    "    pass\n",
    "\n",
    "# Example 4: try with a specific exception and general exception\n",
    "print(\"\\nExample 4:\")\n",
    "a=\"string\"\n",
    "try:\n",
    "    a = a/2\n",
    "except TypeError:\n",
    "    print(\"'a' doesn't support division\")\n",
    "except:\n",
    "    print(\"something besides a type error occured\")"
   ]
  },
  {
   "cell_type": "markdown",
   "metadata": {
    "id": "NyhvJijpRfJk"
   },
   "source": [
    "- <strong>Example 1</strong>: In this example the program tries to print out a variable that hasn't been defined yet. This would ordinarily throw out a `NameError` and terminate execution of the program. In this case, the program instead falls back on the `except` code when it encounters the error. In this case `except` is completely general because haven't listed a specific error we are trying to catch. \n",
    "\n",
    "- <strong>Example 2</strong>: This is identical to the first example, but here we are being explicit about the type of error we want to catch.\n",
    "\n",
    "- <strong>Example 3</strong>: This example is identical to the previous, but illustrates that we can do \"nothing\" by using the `pass` statement (If you don't put anything Python will get angry).\n",
    "\n",
    "- <strong>Example 4</strong>: This example illustrates that we can chain together both specific and general exceptions. \n",
    "\n",
    "## Object Comprehension ##\n",
    "iterables are used so extensively in Python that there is a really tidy shorthand notation, called <b>list/set/dictionary comprehension</b>, for performing `for` loop and `if` `else` operations on them. This can be somewhat intimidating at first, but comprehensions are ubiquitous in python and make for a really good exercise for improving your ability to think like a Python programmer. Let's show a few examples of list comprehension to start with.\n",
    "\n",
    "### List Comprehension - Examples ###"
   ]
  },
  {
   "cell_type": "code",
   "execution_count": null,
   "metadata": {
    "id": "14ltukqaRfJk"
   },
   "outputs": [],
   "source": [
    "a = list(range(10)) # Note: range is a built in function for generating lists of integers\n",
    "print(\"Here is our iterable: {}\".format(a))\n",
    "\n",
    "print(\"\\nExample 1:\")\n",
    "b = [ i*10 for i in a ]\n",
    "print(b)\n",
    "\n",
    "print(\"\\nExample 2:\")\n",
    "c = [ i*10 for i in a if i % 2 == 0 ]\n",
    "print(c)\n",
    "\n",
    "print(\"\\nExample 3:\")\n",
    "d = [ i*10 if i % 2 == 0 else i for i in a ]\n",
    "print(d)\n",
    "\n",
    "\n",
    "list_of_lists = [ list(range(i)) for i in a ]\n",
    "print(\"\\nExample 4:\")\n",
    "print(\"list_of_lists: {}\".format(list_of_lists))\n",
    "e = [ j*10 for i in list_of_lists for j in i ]\n",
    "print(\"unwrapped and *10, list_of_lists: {}\".format(e))"
   ]
  },
  {
   "cell_type": "markdown",
   "metadata": {
    "id": "uTNKGWOZRfJm"
   },
   "source": [
    "- <strong>Example 1</strong>: This is an example of `list` comprehension. You can tell that it is `list` comprehension and not `set` or `dict` comprehension, because of the square braces `[]`. Here, `i` is a dummy variable for the `for` loop which iterates over `a`. In object comprehension the operations that we want to perform go at the front of the expression (`i*10`) followed by the definition of the iterable. The net effect of this one-liner is that a new list is created where each element is multiplied by 10 with respect to the original list `a`. \n",
    "\n",
    "- <strong>Example 2</strong>: This example is identical to the first, except that we only operate on even values of the original list `a`. This is accomplished by using an `if` statement after the `for` loop definition. When you only want to use `if` conditions (and not also `else` or `elif`) you put it at the end of an object comprehension. \n",
    "\n",
    "- <strong>Example 3</strong>: We add yet another twist here by using both `if` and `else` conditions. Here we multiply all even values by 10 and return the original odd values. For technical reasons that are beyond the current scope, if you want to use <b>both</b> `if` and `else`, you integrate them into the commands you want to execute and <b>not</b> after the `for` loop (like in example 2). \n",
    "\n",
    "- <strong>Example 4</strong>: This example illustrates that you can even nest `for` loops in an object comprehension if the iterable also returns iterables (in this case, a list of lists, but a list of strings would be a perfectly good example too). Here we do a pretty trivial thing and combine the individual elements of the list of lists into a single list and multiply them by 10. \n",
    "\n",
    "The equivalent comprehensions exist for sets and dictionaries, except that we use `{}` notation instead and `{}` with `key:value` notation, respectively.\n",
    "\n",
    "### Set/Dictionary Comprehension - Examples ###"
   ]
  },
  {
   "cell_type": "code",
   "execution_count": null,
   "metadata": {
    "id": "Vhb-Ir0TRfJm"
   },
   "outputs": [],
   "source": [
    "print(\"\\nExample 1:\")\n",
    "a = { i/10.0 for i in range(10) if i % 2 == 0 }\n",
    "print(a)\n",
    "\n",
    "print(\"\\nExample 2:\")\n",
    "b = { str(i):i for i in range(100) }\n",
    "print(b)\n",
    "\n",
    "print(\"\\nExample 3:\")\n",
    "c = tuple( i/10.0 for i in range(10) if i % 2 == 0 )\n",
    "print(c)"
   ]
  },
  {
   "cell_type": "markdown",
   "metadata": {
    "id": "RRgNWet2RfJo"
   },
   "source": [
    "- <strong>Example 1</strong>: This is an example of `set` comprehension. You can tell that it is `set` comprehension and not `list` or `dict` comprehension, because of the curley braces `{}` and the fact that we don't have `key:value` pairs in the leading command. Here, `i` is a dummy variable for the `for` loop which iterates over `a`. We divide each value by 10 and save it to the new set. \n",
    "\n",
    "- <strong>Example 2</strong>: This is an example of `dictionary` comprehension. You can tell that it is `dictionary` comprehension and not `list` or `set` comprehension, because of the curley braces `{}` and the presence of `key:value` notation. In this case, we make a trivial dictionary with `string` versions of the integers as keys and the `ints` themselves as the objects. \n",
    "\n",
    "- <strong>Example 3</strong>: Unfortunately there is no `tuple` comprehension, because the round parentheses, `()`, are already reserved syntactically for functions. Although you can hack one by using `tuple( commands for i in iterable )` as we have done in this example (on the backend this is just `list` comprehension with a final conversion to a `tuple`). You usually use a `tuple` instead of a `list` when you want something that is fixed length, so this example is pretty contrived. \n",
    "\n",
    "## Classes ##\n",
    "The built-in data types (`int`, `str`, `float`, etc.) and data structures (`list`, `dictionary`, etc.) are actually implemented in python as things called <b>classes</b>. I've somewhat mislead you to keep things simple, but here I will pull back the curtain. Everything we discussed previously about these objects is still true, but the <b>class</b> objects that they are examples of need more explanation, and so we will use these in our introductory discussion. \n",
    "\n",
    "### Built-In Classes ###\n",
    "A <b>class</b> is the central component in what is known as <b>object-oriented programming</b>. A <b>class</b> is strictly an object that combines data and functions. When combined into a <b>class</b>, the associated data are called <b>attributes</b> and the associated function is called a <b>method</b>. A <b>class</b> is defined in a general form with the attributes it expects and methods it supports. An <b>instance</b> is a specific example of the class after it is defined with specific attributes. This is loosely analogous to when you define a function (class) as opposed to when you call a function (instance). \n",
    "\n",
    "<b>Note:</b> because classes are so prevalent in the languages that support them and because classes are at the center of object-oriented programming, the term <b>\"object\"</b> is often used interchangably with <b>\"class instance\"</b>. \n",
    "\n",
    "Let's take a look at some things we can do with the `str` class that wasn't highlighted before:\n",
    "\n",
    "\n"
   ]
  },
  {
   "cell_type": "code",
   "execution_count": null,
   "metadata": {
    "id": "rhdEcAebA3xL"
   },
   "outputs": [],
   "source": [
    "a = 'my string'\n",
    "print(a.split())\n",
    "print(a.split('t'))"
   ]
  },
  {
   "cell_type": "markdown",
   "metadata": {
    "id": "a_G1NBocA4KP"
   },
   "source": [
    "In this example, `.split()` is a <b>method</b> associated with the `str` class that returns a list of tokens based on a delimiter.  By default the delimiter is set to spaces; in the second example we have set it to the `t` character. We didn't even know about the `.split()` method; we never defined it, but it is there. That is because, strings are actually implemented as classes and so everytime you define an instance of a string, the methods associated with the class come along for free. In the above example, `'my string'` is the attribute of this specific instance of the string class, and `.split()` is an example of one of the many methods associated with the string class. Here are some other useful methods for strings:"
   ]
  },
  {
   "cell_type": "code",
   "execution_count": null,
   "metadata": {
    "id": "0WE-n28d_tRO"
   },
   "outputs": [],
   "source": [
    "# Example 1: .format method replaces each {} in a string with a specified object\n",
    "a = \"substitute here -> {}\"\n",
    "print(\"Example 1 (substitution example):\\n\")\n",
    "print(a)\n",
    "print(a.format(\"my string is awesome!\"))\n",
    "\n",
    "# Example 2: {} syntax can be used to format strings with a given precision or number of spaces\n",
    "b = \"{:12.6f} {:<20s} {:<10s} {:<2d}\".format(20,\"20chars\",\"10chars\",1)\n",
    "print(\"\\nExample 2 (formatting examples):\\n\")\n",
    "print(b)\n",
    "\n",
    "# Example 3: the str class has several case methods for capitalization etc.\n",
    "c = \"MiXeD CaSe 123\"\n",
    "print(\"\\nExample 3 (case functions):\\n\")\n",
    "print(c.upper())\n",
    "print(c.lower())\n",
    "print(c.capitalize())\n",
    "print(c.title())\n",
    "\n",
    "# Example 4: .strip('chars') can be used to remove characters from the start\n",
    "#            and end of a string. Methods can be chained together with left \n",
    "#            to right evaluation.\n",
    "d = \"this is a simple sentence.\"\n",
    "print(\"\\nExample 4 (.strip examples):\\n\")\n",
    "print(d.strip('.te').title())\n",
    "print(d.title().strip('.te'))\n",
    "\n",
    "# Example 5: .join(list) can be used to join together strings from a list using\n",
    "#            inserting the original string between the objects.\n",
    "e = [\"this\",\"is\",\"a\",\"simple\",\"sentence\"]\n",
    "f = [1,2,3,4,5,6,7,9,10]\n",
    "print(\"\\nExample 5 (.join examples):\\n\")\n",
    "print(\"\".join(e))\n",
    "print(\" \".join(e))\n",
    "print(\"...\".join(e))\n",
    "print(\" \".join([ \"{:<10.6f}\".format(i) for i in f ]))"
   ]
  },
  {
   "cell_type": "markdown",
   "metadata": {
    "id": "DkMF04Fk_th5"
   },
   "source": [
    "- <strong>Example 1</strong>: This is an example of the `.format` method. You can use it to replace a pair of curley braces (`{}`) with a string of your choice. Multiple braces can be present, in which case, the corresponding substitutions are separated by commas. \n",
    "\n",
    "- <strong>Example 2</strong>: The `.format` method is powerful because of the ability to format the string that you insert. In these examples we have used the formatting specifications `{:12.6f} {:<20s} {:<10s} {:<2d}`. The letters `f`, `s` and `d`, mean `float`, `str`, and `int` respectively. The `<` means left-align. The numbers `12.6` mean the float should occupy twelve characters, with six values after the decimal (`0` or spaces are automatically padded). The `:` is always required for formatted substitution.\n",
    "\n",
    "- <strong>Example 3</strong>: This is an example of several case methods for the string class. `.upper()` and `.lower()` raise or lower all letters to upper-case and lower-case respectively. `.capitalize()` and `.title()` capitalize the first word and all words, respectively. Numbers are unaffected by these methods. \n",
    "\n",
    "- <strong>Example 4</strong>: This is an example of the `.strip()` method. Whatever characters are supplied to `.strip('chars')` are removed from the start and end of the returned string. This example also shows how methods can be chained together, with left-to-right evaluation. The 't' is not removed from the second case, because it is first capitalized and no longer matches the `t` argument in `.strip('.te')`.\n",
    "\n",
    "- <strong>Example 5</strong>: The `.join()` method is powerful for forming formatted strings from lists of strings. This is extremely common when writing delimitted text files with data. The join method will put an instance of the string that it is called on between each string in the list. In the first case, the parent string is `''`, or an \"empty string\", which results in no spaces. In the second and third cases, a space and `...` are inserted, respectively. In the fourth case, you can see how list comprehension with the `.format()` method and `.join()` can be used to output a nicely formatted line of numbers. \n",
    "\n",
    "<b>Note</b>: in some of these examples the method is called on a pointer to a string (e.g., `a.format(\"my string is awesome\")` in Example 1) and in some the method is called on the string itself (e.g., `\" \".join(e)\"` in Example 5). There is no difference, but it is up to you to make sure that the method you call actually exists for the class instance that your pointer points to.\n",
    "\n",
    "The above examples show how <b>methods</b> are similar to <b>functions</b> except that by default they have the attributes of the instance passed as inputs (i.e., the string itself in the above examples), and you call them with the `.method(args)` syntax. Similar to functions, methods can return one, many, or no objects. \n",
    "\n",
    "Data structures like `lists` and `dictionaries` are likewise implemented as `classes` within python, and each have their own useful methods that will need to routinely be used. Here are some examples of list methods: "
   ]
  },
  {
   "cell_type": "code",
   "execution_count": null,
   "metadata": {
    "id": "2YalMup5RfJp"
   },
   "outputs": [],
   "source": [
    "# Example 1: .index(object) can be used to find the *first* index in a list where the specified object occurs. \n",
    "a = [1,2,3,4,4,5]\n",
    "print(\"Example 1 (index):\\n\")\n",
    "print(\"a.index(4) = {}\".format(a.index(4)))\n",
    "print(\"a[a.index(4)] = {}\".format(a[a.index(4)]))\n",
    "\n",
    "# Example 2: .pop(index) can be used to remove the object at index from the list and return it. The returned\n",
    "#            object can be saved by assigning it to a pointer (e.g., b and c in this case).\n",
    "b = a.pop(4)\n",
    "c = a.pop(-1)\n",
    "print(\"\\nExample 2 (pop):\\n\")\n",
    "print(\"a = {}\".format(a))\n",
    "print(\"b = {}\".format(b))\n",
    "print(\"c = {}\".format(c))\n",
    "\n",
    "# Example 3: .sort() can be used to sort a list (order can be reversed using the reverse arguments). This \n",
    "#            method doesn't return a new list, it operates on the list attribute itself.\n",
    "print(\"\\nExample 3 (sort):\\n\")\n",
    "b = [5,2,3,1,10]\n",
    "print(\"before sort: {}\".format(b))\n",
    "b.sort()\n",
    "print(\"after sort: {}\".format(b))\n",
    "b.sort(reverse=True) \n",
    "print(\"after sort(reverse=True): {}\".format(b)) "
   ]
  },
  {
   "cell_type": "markdown",
   "metadata": {
    "id": "kptxTc5rMhl3"
   },
   "source": [
    "- <strong>Example 1</strong>: the `.index(object)` method of the list class expects an object that the user wants to find within the list. In the current case, the object is an integer (`4`) but more generally it could be anything that lists can hold (e.g., another list). `.index()` returns the index within the list of the <i>first match</i>. In this example, the index `3` is returned, which corresponds to the location within the list of the first `4`.\n",
    "\n",
    "- <strong>Example 2</strong>: The `.pop(int)` method expects an integer corresponding to the index within the list. The method will remove the element at that index from the list and return it, leaving the original list in the same order as before, but missing the element. The indices of all subsequent elements are automatically shifted down by one. In this example, the first popped element (a `4`) is returned and assigned to the pointer `b`. The second popped element (a `5`) is assigned to the pointer `c`. You can pop elements based on their 0-index or position relative to the end of the list (e.g., `-1` in the second case).\n",
    "\n",
    "- <strong>Example 3</strong>: The `.sort()` method sorts the list it is called on. Unique to these examples, `.sort()` does not return a new list, instead it replaces the orginal list with the result. `.sort()` also has the optional argument for `reverse`, which can be used to sort the list in descending order.\n",
    "\n",
    "### File Objects ###\n",
    "Files are an example of a built-in class that we have not covered yet. They need to be mentioned here because files have special methods for reading data and this is central to almost all of the useful things we will do with Python. \n",
    "\n",
    "The easiest way to create an instance of a file, is to open one:\n"
   ]
  },
  {
   "cell_type": "code",
   "execution_count": null,
   "metadata": {
    "id": "X7yuakFOmKwv"
   },
   "outputs": [],
   "source": [
    "# Note: the program expects hamlet.txt to be in the folder that this notebook is executed from\n",
    "f = open('hamlet.txt','r')\n",
    "print(f)"
   ]
  },
  {
   "cell_type": "markdown",
   "metadata": {
    "id": "eeNEXct84tDU"
   },
   "source": [
    "Here `open()` is a built-in Python function that opens files for reading (`r` option) or writing (`w` option) and returns a `file` object. Our pointer `f` now points to the file object (i.e., `_io.TextIOWrapper` in the printed result is Python's way of telling you that).\n",
    "\n",
    "File objects have built-in methods for reading and writing data: "
   ]
  },
  {
   "cell_type": "code",
   "execution_count": null,
   "metadata": {
    "id": "srlIP-4t5U2s"
   },
   "outputs": [],
   "source": [
    "# Example 1: .readlines() and .close() method\n",
    "f = open('hamlet.txt','r')\n",
    "a = f.readlines(10)\n",
    "print(\"a: {}\".format(a))\n",
    "f.close()\n",
    "\n",
    "# Example 2: .read() method \n",
    "f = open('hamlet.txt','r')\n",
    "b = f.read(10)\n",
    "print(\"b: {}\".format(b))\n",
    "\n",
    "# Example 3: file objects remember their place\n",
    "c = f.readlines(10)\n",
    "print(\"c: {}\".format(c))"
   ]
  },
  {
   "cell_type": "markdown",
   "metadata": {
    "id": "Z9saxmq16EhK"
   },
   "source": [
    "- <strong>Example 1</strong>: the `.readlines(hint=-1)` method of the file class will return each line of the file as a separate string in a list. By default this will <i>read the whole file</i>.  This is <b>bad</b> for large files (see below for a better way). You can supply an optional argument to only return a certain number of bytes. The `.close()` method closes the file object and releases the associated memory.\n",
    "\n",
    "- <strong>Example 2</strong>: The `.read(hint=-1)` method of the file class will return the file contents as a string. By default this will <i>read the whole file</i>. This is <b>bad</b> for large files (see below for a better way). You can supply on optional argument to only return a certain number of bytes. \n",
    "\n",
    "- <strong>Example 3</strong>: The output of this call to `.readlines(10)` is different from example 1. This is because we didn't reopen the file after the `f.read(10)` call. File objects have an attribute that points to the current position in the file (starting at the beginning when you open the file). As you read from it, the position of this attribute gets updated. \n",
    "\n",
    "<b>A Better Way to Read Large Files:</b>File objects also have defined iteration rules. This allows you to loop over them line by line without reading the whole thing into memory. This is almost always preferred:"
   ]
  },
  {
   "cell_type": "code",
   "execution_count": null,
   "metadata": {
    "id": "49lTuX9QRTlh"
   },
   "outputs": [],
   "source": [
    "# Example 1: Reading files using for loops\n",
    "f = open('hamlet.txt','r')\n",
    "for lines in f:\n",
    "  try:\n",
    "    print(lines.split()[0])\n",
    "  except:\n",
    "    pass\n",
    "f.close()"
   ]
  },
  {
   "cell_type": "markdown",
   "metadata": {
    "id": "FLyeTvI-R5mQ"
   },
   "source": [
    "In this example, we have iterated over the lines in the file `hamlet.txt`. The iteration rules for file objects returns each line of the file (based on new line characters) at each iteration of the `for` loop. Here we are printing out the first word in each line. We use `try` and `except` because not every line as a word (e.g., try it without these statements.)\n",
    "\n",
    "If you are like me and commonly forget to close things, then you can make it a habit to use the `with:` control statement, which automatically closes anything it is called with:"
   ]
  },
  {
   "cell_type": "code",
   "execution_count": null,
   "metadata": {
    "id": "fC1-K-oXSynb"
   },
   "outputs": [],
   "source": [
    "with open('hamlet.txt','r') as f:\n",
    "  for lines in f:\n",
    "      try:\n",
    "        print(lines.split()[0])\n",
    "      except:\n",
    "        pass"
   ]
  },
  {
   "cell_type": "markdown",
   "metadata": {
    "id": "wyLuTDzmS9zf"
   },
   "source": [
    "Lastly, you will often want to write data to files. File objects have the `.write()` method for this purpose, but you need to be sure that you open a file object with the correct permission:"
   ]
  },
  {
   "cell_type": "code",
   "execution_count": 34,
   "metadata": {
    "id": "YeGUUlD_TJOG"
   },
   "outputs": [],
   "source": [
    "a = [1,2,3,4]\n",
    "with open('test.txt','w') as f:\n",
    "  for i in a:\n",
    "    f.write(\"{:<20.6f}\\n\".format(float(i)))"
   ]
  },
  {
   "cell_type": "markdown",
   "metadata": {
    "id": "cQnHxGzCTh5c"
   },
   "source": [
    "If you executed the above cell, then it should have created a text file in the same folder as this notebook that holds formatted floats for each number in `a` on individual lines. <b>Be careful, opening an existing text file with `open(name,'w')` will overwrite its contents.</b> Use `open(name,'a')` when you open the file if you want to append to it.  "
   ]
  },
  {
   "cell_type": "markdown",
   "metadata": {
    "id": "vIo4Z4QZmLe1"
   },
   "source": [
    "### Custom Classes ###\n",
    "In the previous examples we revisited objects that we were familiar with (`strings` and `lists`) and showed how python actually implements these as classes. We highlighted a small number of methods that belong to these classes that are standard to these objects because python developers knew that people commonly need to do certain kinds of things with their `strings`, `lists`, etc. In general applications, you may find that you want to create your own classes, with certain attributes and methods beyond those that are available through other libraries or standard python distributions. Here we will go through the basics of creating a custom class. \n",
    "\n",
    "Defining a basic class with only attributes and no methods, is almost identical to defining a function:"
   ]
  },
  {
   "cell_type": "code",
   "execution_count": null,
   "metadata": {
    "id": "36QhgbiUDwue"
   },
   "outputs": [],
   "source": [
    "# Example 1: Create a class with only attributes (a,b,c) no methods.\n",
    "class test:\n",
    "  a=[1,2,3]\n",
    "  b=\"string\"\n",
    "  c=1\n",
    "\n",
    "# Create an instance of our class and print its attributes\n",
    "instance = test()\n",
    "print(instance.a)\n",
    "print(instance.b)\n",
    "print(instance.c)"
   ]
  },
  {
   "cell_type": "markdown",
   "metadata": {
    "id": "rvRN492pEKOx"
   },
   "source": [
    "Here, the first line `class test:` indicates that we are creating a <b>class</b> named `test`, then the subsequent indented section indicates the additional attributes and methods that belong to the class. In the current example we have no methods, only some hard-coded features (i.e., `a`,`b`, and `c`). We create an instance of the class `test` and assign it to the pointer `instance`. We can access attributes of a class using the `.attribute` syntax, without parenthesis. \n",
    "\n",
    "This example is silly since the whole point of classes is to organize data and their associated functions (i.e., methods) into a single object. How do we get outside data into our class instance? It has to do with the parenthesis in the `instance = test()` call in the example above. Indeed, we can supply input objects to our class using these parenthesis, but we also need to make use of a built-in method `__init__()` that belongs to all python classes. Let's show an example before explaining:"
   ]
  },
  {
   "cell_type": "code",
   "execution_count": null,
   "metadata": {
    "id": "ZV37xaPwGJIC"
   },
   "outputs": [],
   "source": [
    "# Example 2: Create a class with attributes assigned upon initialization. \n",
    "class test:\n",
    "  def __init__(self,a,b,c):\n",
    "    self.a=a\n",
    "    self.b=b\n",
    "    self.c=c\n",
    "\n",
    "# Create an instance of our class and print its attributes\n",
    "inst = test([1,2,3],\"string\",1)\n",
    "print(inst.a)\n",
    "print(inst.b)\n",
    "print(inst.c)"
   ]
  },
  {
   "cell_type": "markdown",
   "metadata": {
    "id": "jPDj-M_WG2CR"
   },
   "source": [
    "In this example, we've given our <b>class</b> a method: `__init__`. Methods are defined identically to functions, except that they are defined within a <b>class</b> definition (i.e., indented with respect to the `class` keyword) and the first argument of all methods is `self`. In this case, `self` is special because it is the first argument in the `__init__` method, and in all subsequent places that it shows up within the class, python will interpret it as \"current instance of this class and all of its attributes\". Thus, you don't have to use `self`, you could use `spagetti` if you are consistent, but `self` is standard. \n",
    "\n",
    "`__init__` is special, because python automatically executes this method anytime you initialize a class. Thus, `__init__` varies from class to class and will commonly do things like define <b>attributes</b> of the current instance of the class. In the current example, we define the class to take three inputs from the user (`a`, `b`, and `c`) and assign them to the class attributes `self.a`, `self.b`, and `self.c`. To repeat, since `self` is the first argument of `__init__` within the class, in all subsequent places that it shows up within the class, python will interpret it as \"current instance of this class and all of its attributes\". If we define several instances of a class, they will have the same attributes but potentially different values for those attributes. For example: "
   ]
  },
  {
   "cell_type": "code",
   "execution_count": null,
   "metadata": {
    "id": "rKHguF8NJdTB"
   },
   "outputs": [],
   "source": [
    "# Create two instances of our class and print their attributes\n",
    "inst1 = test(1,1,1)\n",
    "inst2 = test(0,0,0)\n",
    "print(\"inst1.a = {}    inst2.a = {}\".format(inst1.a,inst2.a))\n",
    "print(\"inst1.b = {}    inst2.b = {}\".format(inst1.b,inst2.b))\n",
    "print(\"inst1.c = {}    inst2.c = {}\".format(inst1.c,inst2.c))"
   ]
  },
  {
   "cell_type": "markdown",
   "metadata": {
    "id": "7Byakx69KNMe"
   },
   "source": [
    "The `__init__` method is the biggest stumbling block for people starting to study classes. In summary, it accomplishes two things. First, it gives the programmer the ability to pass inputs when an instance of the class is created. Second, it gives defines a pointer to the class instance (`self` by convention) that needs to be used when creating instance specific attributes and subsequent methods. \n",
    "\n",
    "The reason that `self` is needed may become clearer when considering how you might add additional methods. Let's add a method to our class: "
   ]
  },
  {
   "cell_type": "code",
   "execution_count": null,
   "metadata": {
    "id": "tsUgNw3ZLOTF"
   },
   "outputs": [],
   "source": [
    "# Example 3: Create a class with an add function\n",
    "class test:\n",
    "  def __init__(self,a,b,c):\n",
    "    self.a=a\n",
    "    self.b=b\n",
    "    self.c=c\n",
    "  def add(self):\n",
    "    return self.a + self.b + self.c\n",
    "\n",
    "inst = test(1,1,1)\n",
    "print(inst.add())"
   ]
  },
  {
   "cell_type": "markdown",
   "metadata": {
    "id": "h1tH6fGpMBhR"
   },
   "source": [
    "Here we've added a second method to our class called `add`, which returns the sum of attributes. When we defined add we used the syntax `def add(self)`, meaning that we are passing the class instance as an input argument to the function. By doing this we can define `self.a + self.b + self.c` without error, because the method will have access to those attributes through the class instance that is passsed to the method. This may seem convoluted, but it is consistent with how functions are defined. If we had defined the add method as `add()`, then the method wouldn't have any inputs to add together. \n",
    "\n",
    "`__init__` isn't the only special method within python. There is a whole class of special methods that start and end with the double underscore (\"dunder\" methods). For example, we might want to perform comparisons between instances of our class using the `==` operator. We could make this definition using the `__eq__` method:\n",
    "\n"
   ]
  },
  {
   "cell_type": "code",
   "execution_count": null,
   "metadata": {
    "id": "np5NI324N1SF"
   },
   "outputs": [],
   "source": [
    "# Example 3: Create a class with a custom equals comparison\n",
    "class test:\n",
    "  def __init__(self,a,b,c):\n",
    "    self.a=a\n",
    "    self.b=b\n",
    "    self.c=c\n",
    "\n",
    "  def add(self):\n",
    "    return self.a + self.b + self.c\n",
    "    \n",
    "  def __eq__(self,other):\n",
    "    return self.c == other.c\n",
    "\n",
    "inst1 = test(1,1,1)\n",
    "inst2 = test(2,2,1)\n",
    "inst3 = test(2,2,2)\n",
    "print(\"inst1 == inst2 : {}\".format(inst1 == inst2))\n",
    "print(\"inst1 == inst2 : {}\".format(inst1 == inst3))"
   ]
  },
  {
   "cell_type": "markdown",
   "metadata": {
    "id": "1Ih80Z_AOgV9"
   },
   "source": [
    "In the `__eq__(self,other)` method definition, `other` is interpreted by the operator to mean the \"other object passed to the operator\". This is common to dunder methods associated with operators.\n",
    "\n",
    "This is just the basics of methods, but all of the essentials have been set out. Happy programming!"
   ]
  }
 ],
 "metadata": {
  "colab": {
   "provenance": []
  },
  "kernelspec": {
   "display_name": "CHE597",
   "language": "python",
   "name": "python3"
  },
  "language_info": {
   "codemirror_mode": {
    "name": "ipython",
    "version": 3
   },
   "file_extension": ".py",
   "mimetype": "text/x-python",
   "name": "python",
   "nbconvert_exporter": "python",
   "pygments_lexer": "ipython3",
   "version": "3.12.8"
  },
  "toc": {
   "base_numbering": 1,
   "nav_menu": {},
   "number_sections": true,
   "sideBar": true,
   "skip_h1_title": true,
   "title_cell": "Table of Contents",
   "title_sidebar": "Contents",
   "toc_cell": true,
   "toc_position": {},
   "toc_section_display": true,
   "toc_window_display": true
  }
 },
 "nbformat": 4,
 "nbformat_minor": 0
}
